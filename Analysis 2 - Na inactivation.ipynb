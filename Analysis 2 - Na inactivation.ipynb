{
 "cells": [
  {
   "cell_type": "markdown",
   "id": "8c19b795",
   "metadata": {},
   "source": [
    "# Na channels: inactivation"
   ]
  },
  {
   "cell_type": "markdown",
   "id": "6af984c8",
   "metadata": {},
   "source": [
    "#### **Basic instructions:**\n",
    "#### 1. **To run code cells**, you can either hit the play button to the left of the cell, or you can select the cell and **press shift-enter**.\n",
    "\n",
    "#### 2. **The first time** you run this code notebook, you might get a popup asking to choose which version of Python to use (the python \"kernel\"). **Just hit enter** to choose the base/default version.\n",
    "\n",
    "#### 3. Make sure you data (.abf) files are in the \"data\" folder here on the left. You can just copy/paste the files over from where they are saved on your computer."
   ]
  },
  {
   "cell_type": "code",
   "execution_count": null,
   "id": "10f2db92",
   "metadata": {},
   "outputs": [],
   "source": [
    "import numpy as np\n",
    "import matplotlib.pyplot as plt\n",
    "from utils import *\n",
    "update_plot_defaults()\n",
    "# %load_ext autoreload\n",
    "# %autoreload 2"
   ]
  },
  {
   "cell_type": "markdown",
   "id": "242bc42d",
   "metadata": {},
   "source": [
    "## 1. Choose the data file you want to analyze\n",
    "\n",
    "#### Put the .abf files with your Na channel recordings in the \"data/Na_channels\" folder"
   ]
  },
  {
   "cell_type": "code",
   "execution_count": null,
   "id": "3ced8fe3",
   "metadata": {},
   "outputs": [],
   "source": [
    "data_folder = \"data/1-Na_channels\"\n",
    "\n",
    "from glob import glob\n",
    "data_files = glob(data_folder+\"/*.abf\")\n",
    "print(data_folder)\n",
    "data_files"
   ]
  },
  {
   "cell_type": "markdown",
   "id": "e92296d2",
   "metadata": {},
   "source": [
    "Choose which file you want to analyze and past the file name here:"
   ]
  },
  {
   "cell_type": "code",
   "execution_count": null,
   "id": "ee91c014",
   "metadata": {},
   "outputs": [],
   "source": [
    "data_file = 'data/1-Na_channels/nav18-ssinact.abf'"
   ]
  },
  {
   "cell_type": "markdown",
   "id": "4bbfee8b",
   "metadata": {},
   "source": [
    "Now we can load the file and plot the raw data:"
   ]
  },
  {
   "cell_type": "code",
   "execution_count": null,
   "id": "fa90329b",
   "metadata": {},
   "outputs": [],
   "source": [
    "traces = Trace.from_axon_file(filename=data_file, \n",
    "                              load_voltage=True, \n",
    "                              load_ttl=True,\n",
    "                              units=['pA', 'mV', 'V'], \n",
    "                              concatenate_sweeps=False)\n",
    "print(traces)\n",
    "\n",
    "%matplotlib inline\n",
    "traces.plot(plot_voltage=True, sweep='all', time_units='ms')\n",
    "plt.show()"
   ]
  },
  {
   "cell_type": "markdown",
   "id": "d89d4f03",
   "metadata": {},
   "source": [
    "## 2. Select what you want to measure"
   ]
  },
  {
   "cell_type": "markdown",
   "id": "4ebf1c8c",
   "metadata": {},
   "source": [
    "### 2.1. Defining the time window\n",
    "\n",
    "First let's define the relevant time window where we want to measure the currents:\n",
    "\n",
    "(If you want to save the images, you can do it by clicking on the save icon in the top-right of the image when you hover over it)"
   ]
  },
  {
   "cell_type": "code",
   "execution_count": null,
   "id": "8a62db82",
   "metadata": {},
   "outputs": [],
   "source": [
    "# The start/end time just helps to zoom in on the traces.\n",
    "start_time = 490\n",
    "end_time = 520\n",
    "\n",
    "# The markers are important: the will define the window where we actually exctract peak current values from. Set them carefully.\n",
    "marker_1 = 499\n",
    "marker_2 = 502\n",
    "time_units = 'ms'\n",
    "\n",
    "# ----------------------------------------------------------------------------------------------------------------------\n",
    "%matplotlib widget\n",
    "ax1,ax2 = traces.plot(plot_voltage=True, time_units=time_units, marker_1=marker_1, marker_2=marker_2, sweep='all')\n",
    "ax1.set_xlim(start_time,end_time)\n",
    "ax2.set_xlim(start_time,end_time)\n",
    "plt.show()"
   ]
  },
  {
   "cell_type": "markdown",
   "id": "f03d03af",
   "metadata": {},
   "source": [
    "### 3.1. Optional: apply baseline correction\n",
    "\n",
    "If your baseline current is not zero, you may need to correct for that to get accurate measurements.\n",
    "\n",
    "Uncomment this cell block (highlight everything, then cmd+/ on macOS or ctrl+/ on Windows) to run it."
   ]
  },
  {
   "cell_type": "code",
   "execution_count": null,
   "id": "7f3df0ce",
   "metadata": {},
   "outputs": [],
   "source": [
    "# Change this to True if you want to subtract the baseline from the sweeps.\n",
    "subtract_baseline = True"
   ]
  },
  {
   "cell_type": "code",
   "execution_count": null,
   "id": "c325326c",
   "metadata": {},
   "outputs": [],
   "source": [
    "if subtract_baseline:\n",
    "    traces.subtract_baseline(start_time = 0, \n",
    "                             end_time = 0.1, \n",
    "                             time_units = time_units,  # specify seconds (s), or milliseconds (ms)\n",
    "                             channel = 'current')  # Options: 'current', 'voltage', 'all'\n",
    "    ax1, ax2 = traces.plot(plot_voltage=True, plot_ttl=False, time_units=time_units, sweep='all')\n",
    "    ax1.set_title('After baseline subtraction', y=0.98)\n",
    "    plt.show()\n",
    "else:\n",
    "    print(\"BASELINE NOT SUBTRACTED\")\n"
   ]
  },
  {
   "cell_type": "markdown",
   "id": "7bfc6a15",
   "metadata": {},
   "source": [
    "### 3.2. Measure currents\n",
    "\n",
    "Here we will be using the timepoints from the markers we defined above."
   ]
  },
  {
   "cell_type": "markdown",
   "id": "2031b80c",
   "metadata": {},
   "source": [
    "First we want to measure the holding voltages from the first phase of the step protocol:\n"
   ]
  },
  {
   "cell_type": "code",
   "execution_count": null,
   "id": "b68bc73b",
   "metadata": {},
   "outputs": [],
   "source": [
    "# Define the timepoint where the voltage is measured\n",
    "voltage_timepoint = 490 \n",
    "\n",
    "# ------------------------------------------------------------------------------------------------\n",
    "_,voltage_steps = traces.get_measurements(start_time=voltage_timepoint, end_time=voltage_timepoint+1, time_units=time_units, sweep='all')"
   ]
  },
  {
   "cell_type": "markdown",
   "id": "d24d2f8f",
   "metadata": {},
   "source": [
    "Now we can actually measure the currents and normalized againts the max current."
   ]
  },
  {
   "cell_type": "code",
   "execution_count": null,
   "id": "6627e0e3",
   "metadata": {},
   "outputs": [],
   "source": [
    "measurement_type = 'peak' # Options: 'mean', 'max', 'min', 'peak'\n",
    "\n",
    "current_steps,_ = traces.get_measurements(start_time=marker_1, end_time=marker_2, \n",
    "                                        measurement_type=measurement_type, time_units=time_units)\n",
    "\n",
    "# Normalize to the biggest current\n",
    "current_steps /= np.min(current_steps)  # Normalize current steps to the minimum value\n",
    "\n",
    "# Plot the normalized current steps against the holding voltages\n",
    "%matplotlib inline\n",
    "fig,ax = plt.subplots(figsize=(6, 5))\n",
    "ax.plot(voltage_steps, current_steps, 'o', color='black', markersize=5)\n",
    "ax.set_xlabel('Holding Voltage (mV)')\n",
    "ax.set_ylabel('Current amplitude (normalized)')\n",
    "ax.set_title('Steady-state inactivation curve')\n",
    "\n",
    "# Optional: fit a Boltzmann function (sigmoid curve) to the data\n",
    "from scipy.optimize import curve_fit\n",
    "def boltzmann(V, V_half, k):\n",
    "    return 1 / (1 + np.exp((V_half - V) / k))\n",
    "k_guess = -5 # Initial guess for the slope parameter\n",
    "popt, _ = curve_fit(boltzmann, voltage_steps, current_steps, p0=[np.median(voltage_steps), k_guess])\n",
    "ax.plot(voltage_steps, boltzmann(voltage_steps, *popt), linestyle='--', color='g', label='Fit')\n",
    "print(\"Boltzmann Fit parameters:\")\n",
    "print(f\"V_half: {popt[0]:.3f}, k: {popt[1]:.3f}\")\n",
    "plt.show()"
   ]
  },
  {
   "cell_type": "code",
   "execution_count": null,
   "id": "5dae626b",
   "metadata": {},
   "outputs": [],
   "source": []
  }
 ],
 "metadata": {
  "kernelspec": {
   "display_name": "CSHL_IonChannels",
   "language": "python",
   "name": "python3"
  },
  "language_info": {
   "codemirror_mode": {
    "name": "ipython",
    "version": 3
   },
   "file_extension": ".py",
   "mimetype": "text/x-python",
   "name": "python",
   "nbconvert_exporter": "python",
   "pygments_lexer": "ipython3",
   "version": "3.11.13"
  }
 },
 "nbformat": 4,
 "nbformat_minor": 5
}
