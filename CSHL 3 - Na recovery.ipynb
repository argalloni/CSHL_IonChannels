{
 "cells": [
  {
   "cell_type": "code",
   "execution_count": null,
   "id": "10f2db92",
   "metadata": {},
   "outputs": [],
   "source": [
    "%matplotlib inline\n",
    "import numpy as np\n",
    "import matplotlib.pyplot as plt\n",
    "from utils import *\n",
    "update_plot_defaults()"
   ]
  },
  {
   "cell_type": "markdown",
   "id": "c80d38c1",
   "metadata": {},
   "source": [
    "# Na channels: recovery from inactivation"
   ]
  },
  {
   "cell_type": "markdown",
   "id": "a15326da",
   "metadata": {},
   "source": [
    "## 1. Choose the data file you want to analyze\n",
    "\n",
    "#### Put the .abf files with your Na channel recordings in the \"data/Na_channels\" folder"
   ]
  },
  {
   "cell_type": "code",
   "execution_count": null,
   "id": "67fae2bf",
   "metadata": {},
   "outputs": [],
   "source": [
    "data_folder = \"data/Na_channels\"\n",
    "\n",
    "from glob import glob\n",
    "data_files = glob(data_folder+\"/*.abf\")\n",
    "print(data_folder)\n",
    "print(data_files)\n",
    "\n",
    "# Also print out if there are any subdirectories\n",
    "if len(glob(data_folder+\"/*/\")) > 0:\n",
    "    for subdir in glob(data_folder+\"/*/\"):\n",
    "        print(subdir)\n",
    "        for file in glob(subdir+\"*.abf\"):\n",
    "            print(file)"
   ]
  },
  {
   "cell_type": "markdown",
   "id": "f7d27818",
   "metadata": {},
   "source": [
    "Choose which file you want to analyze and past the file name here:"
   ]
  },
  {
   "cell_type": "code",
   "execution_count": null,
   "id": "ff75ed5c",
   "metadata": {},
   "outputs": [],
   "source": [
    "# data_file = 'data/Na_channels/nav18-nav_recovery.abf'\n",
    "data_file = \"data/Na_channels/inactivation recovery/nav_inactivation_recovery -120mv_3.abf\""
   ]
  },
  {
   "cell_type": "markdown",
   "id": "7bb6cf8f",
   "metadata": {},
   "source": [
    "Now we can load the file and plot the raw data:"
   ]
  },
  {
   "cell_type": "code",
   "execution_count": null,
   "id": "2c2b0ff3",
   "metadata": {},
   "outputs": [],
   "source": [
    "## Extract the sweeps, time and sampling frequency:\n",
    "sweeps, sweeps_time, sampling_freq = get_sweeps(data_file)\n",
    "\n",
    "print(f\"Data dimensions (sweeps, channels, timepoints): \\n{sweeps.shape}\")\n",
    "print(f\"sampling freq: {sampling_freq} Hz\")\n",
    "\n",
    "current_traces = sweeps[:, 0, :]\n",
    "voltage_traces = sweeps[:, 1, :]\n",
    "ax = plot_traces(sweeps_time, current_traces, voltage_traces)\n",
    "plt.show()"
   ]
  },
  {
   "cell_type": "markdown",
   "id": "8a717293",
   "metadata": {},
   "source": [
    "## 2. Select what you want to measure"
   ]
  },
  {
   "cell_type": "markdown",
   "id": "6a8d106f",
   "metadata": {},
   "source": [
    "### 2.1. Defining the time window\n",
    "\n",
    "First let's define the relevant time window where we want to measure the currents:\n",
    "\n",
    "(If you want to save the images, you can do it by clicking on the save icon in the top-right of the image when you hover over it)"
   ]
  },
  {
   "cell_type": "code",
   "execution_count": null,
   "id": "a2609045",
   "metadata": {},
   "outputs": [],
   "source": [
    "# The start/end time just helps to zoom in on the traces.\n",
    "start_time = 0  # milliseconds\n",
    "end_time = -1   # milliseconds, (enter -1 to get the end of the sweep)\n",
    "\n",
    "# The markers are important: they will define the window where we actually exctract peak current values from. Set them carefully.\n",
    "marker_1 = 0  # milliseconds\n",
    "marker_2 = -1    # milliseconds\n",
    "\n",
    "current_traces, time_in_window = select_sweep_window(sweeps, sweeps_time, start_time, end_time, sampling_freq, channel=0)\n",
    "voltage_traces, time_in_window = select_sweep_window(sweeps, sweeps_time, start_time, end_time, sampling_freq, channel=1)\n",
    "\n",
    "ax = plot_traces(time_in_window, current_traces, voltage_traces, marker_1, marker_2)\n",
    "plt.show()"
   ]
  },
  {
   "cell_type": "markdown",
   "id": "3b18fdfe",
   "metadata": {},
   "source": [
    "### 3.1. Optional: apply baseline correction\n",
    "\n",
    "If your baseline current is not zero, you may need to correct for that to get accurate measurements.\n",
    "\n",
    "Uncomment this cell block (highlight everything, then cmd+/ on macOS or ctrl+/ on Windows) to run it."
   ]
  },
  {
   "cell_type": "code",
   "execution_count": null,
   "id": "a1a0d166",
   "metadata": {},
   "outputs": [],
   "source": [
    "# Measure baseline: you need to specify which part of the trace you want to use for baseline measurement.\n",
    "start_time = 0 # milliseconds\n",
    "end_time = 1 # milliseconds\n",
    "measurement_type = 'mean' # Options: 'mean', 'max', 'min'\n",
    "\n",
    "baseline_voltage, baseline_current = get_step_measurements(sweeps, sweeps_time, start_time, end_time, sampling_freq, measurement_type)\n",
    "\n",
    "# Subtract baseline from the sweeps\n",
    "num_traces = sweeps.shape[0]\n",
    "for i in range(num_traces):\n",
    "    sweeps[i,0] -= baseline_current[i]"
   ]
  },
  {
   "cell_type": "markdown",
   "id": "c32b4e36",
   "metadata": {},
   "source": [
    "### 3.2. Measure recovery currents\n",
    "\n",
    "Here we will be using the timepoints from the markers we defined above to measure the inactivation currents"
   ]
  },
  {
   "cell_type": "code",
   "execution_count": null,
   "id": "433538cb",
   "metadata": {},
   "outputs": [],
   "source": [
    "# In each trace, there might be a capacitive transient at the start of the voltage step\n",
    "# To avoid measuring this, we will start our measurement a few ms after the voltage step\n",
    "# (modify this number as needed based on your data)\n",
    "\n",
    "time_delay = 0. # milliseconds"
   ]
  },
  {
   "cell_type": "markdown",
   "id": "ebcd57ad",
   "metadata": {},
   "source": [
    "Let's plot an example trace to visualize what we will be measuring and check if the time delay is good"
   ]
  },
  {
   "cell_type": "code",
   "execution_count": null,
   "id": "5275b665",
   "metadata": {},
   "outputs": [],
   "source": [
    "# Verify that the time delay is correct\n",
    "example_sweep = 5\n",
    "\n",
    "# Select the window of data between the two markers\n",
    "current_between_markers, time_between_markers = select_sweep_window(sweeps, sweeps_time, marker_1, marker_2, sampling_freq, channel=0)\n",
    "voltage_between_markers, time_between_markers = select_sweep_window(sweeps, sweeps_time, marker_1, marker_2, sampling_freq, channel=1)\n",
    "\n",
    "# For each sweep, find the start time of the voltage step (using the derivative of the voltage trace)\n",
    "voltage_trace = voltage_between_markers[example_sweep]\n",
    "current_trace = current_between_markers[example_sweep]\n",
    "\n",
    "derivative = np.diff(voltage_trace)\n",
    "v_step_start_idx = np.argmax(derivative) + time_to_index(time_delay, sampling_freq)\n",
    "v_step_end_idx = v_step_start_idx + np.argmin(derivative[v_step_start_idx:])\n",
    "\n",
    "plt.plot(time_between_markers[v_step_start_idx:v_step_end_idx], current_trace[v_step_start_idx:v_step_end_idx])\n",
    "peak_current = np.min(current_trace[v_step_start_idx:v_step_end_idx])\n",
    "plt.hlines(peak_current, time_between_markers[v_step_start_idx], time_between_markers[v_step_end_idx], color='red', linestyle='--')\n",
    "plt.xlabel('Time (ms)')\n",
    "plt.ylabel('Current (pA)')\n",
    "plt.title(f\"Example sweep: {example_sweep}\")\n",
    "plt.annotate(f\"Make sure the capacitive transient is gone! \\n(or at least doesn't go below the current)\", \n",
    "             xy=(0.06, 0.83), xycoords='axes fraction', xytext=(0.2, 0.8), textcoords='axes fraction', arrowprops=dict(arrowstyle='->'))\n",
    "plt.show()"
   ]
  },
  {
   "cell_type": "markdown",
   "id": "d6d99265",
   "metadata": {},
   "source": [
    "Now we can apply this to all the other sweeps to get the peak currents for each sweep"
   ]
  },
  {
   "cell_type": "code",
   "execution_count": null,
   "id": "ded38347",
   "metadata": {},
   "outputs": [],
   "source": [
    "# Now we will measure the peak current in each sweep\n",
    "peak_currents = []\n",
    "sweeps_idx = []\n",
    "num_traces = len(current_between_markers)\n",
    "for i in range(num_traces):\n",
    "    voltage_trace = voltage_between_markers[i]\n",
    "    current_trace = current_between_markers[i]\n",
    "    derivative = np.diff(voltage_trace)\n",
    "    v_step_start_idx = np.argmax(derivative) + time_to_index(time_delay, sampling_freq)\n",
    "    v_step_end_idx = v_step_start_idx + np.argmin(derivative[v_step_start_idx:])\n",
    "\n",
    "    if v_step_start_idx < v_step_end_idx:\n",
    "        # Get the current steps in the selected time window\n",
    "        peak_current = np.min(current_trace[v_step_start_idx:v_step_end_idx])\n",
    "        peak_currents.append(peak_current)\n",
    "        sweeps_idx.append(i)\n",
    "\n",
    "# Remove any sweeps that were not measured\n",
    "sweeps = np.array([sweeps[i] for i in sweeps_idx])"
   ]
  },
  {
   "cell_type": "markdown",
   "id": "916075f4",
   "metadata": {},
   "source": [
    "### 3.3. Get the baseline current to normalize against\n",
    "\n",
    "We want to measure the current at the initial pulse to use as a reference for the inactivation current\n"
   ]
  },
  {
   "cell_type": "code",
   "execution_count": null,
   "id": "7ff24e33",
   "metadata": {},
   "outputs": [],
   "source": [
    "# The start/end time just helps to zoom in on the traces.\n",
    "start_time = 0 # milliseconds\n",
    "end_time = 20 # milliseconds\n",
    "\n",
    "# The markers are important: they will define the window where we actually exctract peak current values from. Set them carefully.\n",
    "marker_4 = 0.5 # milliseconds\n",
    "marker_5 = 10 # milliseconds\n",
    "measurement_type = 'min' # Options: 'mean', 'max', 'min', 'peak'\n",
    "\n",
    "# ---------------------------------------------------------------------------------------------------------------------\n",
    "current_traces, time_in_window = select_sweep_window(sweeps, sweeps_time, start_time, end_time, sampling_freq, channel=0)\n",
    "voltage_traces, time_in_window = select_sweep_window(sweeps, sweeps_time, start_time, end_time, sampling_freq, channel=1)\n",
    "_, baseline_current_steps = get_step_measurements(sweeps, sweeps_time, start_time=marker_4, end_time=marker_5,\n",
    "                                                  sampling_freq=sampling_freq, measurement_type=measurement_type)\n",
    "\n",
    "# Normalize the previously measure currents to the baseline currents\n",
    "peak_currents_norm = peak_currents / baseline_current_steps\n",
    "\n",
    "plot_traces(time_in_window, current_traces, voltage_traces, marker_4, marker_5)\n",
    "plt.show()"
   ]
  },
  {
   "cell_type": "markdown",
   "id": "983c4300",
   "metadata": {},
   "source": [
    "### 3.4. Plot the channel recovery curve\n",
    "\n",
    "Here we will need to manually define the recovery time points based on our protocol."
   ]
  },
  {
   "cell_type": "code",
   "execution_count": null,
   "id": "3ec969b4",
   "metadata": {},
   "outputs": [],
   "source": [
    "# Define the delta t delays for the recovery\n",
    "interval_step = 5    # milliseconds\n",
    "\n",
    "end = interval_step*(len(peak_currents_norm)+1)\n",
    "recovery_time = np.arange(interval_step, end, interval_step)  # in milliseconds\n",
    "\n",
    "# Plot the normalized current steps against the holding voltages\n",
    "fig,ax = plt.subplots(figsize=(5, 4))\n",
    "ax.plot(recovery_time, peak_currents_norm, 'o', color='black', markersize=5)\n",
    "ax.set_xlabel('Recovery time (ms)')\n",
    "ax.set_ylabel('Current (norm.)')\n",
    "ax.set_title('Recovery of NaV currents')\n",
    "\n",
    "# Fit exponential curve to the data to get the time constant\n",
    "from scipy.optimize import curve_fit\n",
    "def exponential_curve(time, V0, tau, V_inf):\n",
    "    return V0 * np.exp(-time / tau) + V_inf\n",
    "V0_guess = 0 \n",
    "Vinf_guess = 1\n",
    "tau_guess = 20 # ms\n",
    "p0 = [V0_guess, tau_guess, Vinf_guess]\n",
    "popt, _ = curve_fit(exponential_curve, recovery_time, peak_currents_norm, p0=p0)\n",
    "V0_fit, tau_fit, Vinf_fit = popt\n",
    "\n",
    "print(f\"Tau: {tau_fit:.2f} ms\")\n",
    "\n",
    "# Overlay exponential fit\n",
    "fit_trace = exponential_curve(recovery_time, *popt)\n",
    "ax.plot(recovery_time, fit_trace, color='r', alpha=1, linewidth=2)\n",
    "plt.show()"
   ]
  },
  {
   "cell_type": "code",
   "execution_count": null,
   "id": "226cffe3",
   "metadata": {},
   "outputs": [],
   "source": []
  }
 ],
 "metadata": {
  "kernelspec": {
   "display_name": "CSHL_IonChannels2025",
   "language": "python",
   "name": "python3"
  },
  "language_info": {
   "codemirror_mode": {
    "name": "ipython",
    "version": 3
   },
   "file_extension": ".py",
   "mimetype": "text/x-python",
   "name": "python",
   "nbconvert_exporter": "python",
   "pygments_lexer": "ipython3",
   "version": "3.11.13"
  }
 },
 "nbformat": 4,
 "nbformat_minor": 5
}
