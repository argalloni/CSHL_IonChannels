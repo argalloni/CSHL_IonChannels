{
 "cells": [
  {
   "cell_type": "markdown",
   "id": "b97eb59a",
   "metadata": {},
   "source": [
    "# Na channels: current-voltage relationship (I-V)"
   ]
  },
  {
   "cell_type": "markdown",
   "id": "cdced775",
   "metadata": {},
   "source": [
    "#### **Basic instructions:**\n",
    "#### 1. **To run code cells**, you can either hit the play button to the left of the cell, or you can select the cell and **press shift-enter**.\n",
    "\n",
    "#### 2. **The first time** you run this code notebook, you might get a popup asking to choose which version of Python to use (the python \"kernel\"). **Just hit enter** to choose the base/default version.\n",
    "\n",
    "#### 3. Make sure you data (.abf) files are in the \"data\" folder here on the left. You can just copy/paste the files over from where they are saved on your computer."
   ]
  },
  {
   "cell_type": "code",
   "execution_count": null,
   "id": "10f2db92",
   "metadata": {},
   "outputs": [],
   "source": [
    "import numpy as np\n",
    "import matplotlib.pyplot as plt\n",
    "from utils import *\n",
    "update_plot_defaults()\n",
    "%load_ext autoreload\n",
    "%autoreload 2"
   ]
  },
  {
   "cell_type": "markdown",
   "id": "c1b0d022",
   "metadata": {},
   "source": [
    "## 1. Choose the data file you want to analyze\n",
    "\n",
    "#### Put the .abf files with your Na channel recordings in the \"data/Na_channels\" folder"
   ]
  },
  {
   "cell_type": "code",
   "execution_count": null,
   "id": "a0aa416c",
   "metadata": {},
   "outputs": [],
   "source": [
    "data_folder = \"data/1-Na_channels\"\n",
    "\n",
    "from glob import glob\n",
    "data_files = glob(data_folder+\"/*.abf\")\n",
    "print(data_folder)\n",
    "data_files"
   ]
  },
  {
   "cell_type": "markdown",
   "id": "e949a52b",
   "metadata": {},
   "source": [
    "Choose which file you want to analyze and past the file name here:"
   ]
  },
  {
   "cell_type": "code",
   "execution_count": null,
   "id": "ee91c014",
   "metadata": {},
   "outputs": [],
   "source": [
    "# data_file = 'data/1-Na_channels/nav18-iv.abf'\n",
    "data_file = 'data/1-Na_channels/nav_activation_1.abf'"
   ]
  },
  {
   "cell_type": "markdown",
   "id": "42ee024f",
   "metadata": {},
   "source": [
    "Now we can load the file and plot the raw data:"
   ]
  },
  {
   "cell_type": "code",
   "execution_count": null,
   "id": "b2b230ee",
   "metadata": {},
   "outputs": [],
   "source": [
    "traces = Trace.from_axon_file(filename=data_file, \n",
    "                              load_voltage=True, \n",
    "                              load_ttl=False,\n",
    "                              units=['pA','mV'], \n",
    "                              concatenate_sweeps=False)\n",
    "print(traces)\n",
    "\n",
    "time_units = 'ms' # specify seconds (s), or milliseconds (ms)\n",
    "\n",
    "# ----------------------------------------------------------------------------------------------------------------\n",
    "%matplotlib inline\n",
    "traces.plot(plot_voltage=True, sweep='all', time_units=time_units)\n",
    "plt.show()"
   ]
  },
  {
   "cell_type": "markdown",
   "id": "2a4967c0",
   "metadata": {},
   "source": [
    "## 2. Signal processing"
   ]
  },
  {
   "cell_type": "markdown",
   "id": "c1344d4a",
   "metadata": {},
   "source": [
    "### 2.1. Optional: apply baseline correction\n",
    "\n",
    "If your baseline current is not zero, you may need to correct for that to get accurate measurements.\n",
    "\n",
    "Uncomment this cell block (highlight everything, then cmd+/ on macOS or ctrl+/ on Windows) to run it."
   ]
  },
  {
   "cell_type": "code",
   "execution_count": null,
   "id": "d03d77a1",
   "metadata": {},
   "outputs": [],
   "source": [
    "# Change this to True if you want to subtract the baseline from the sweeps.\n",
    "subtract_baseline = True"
   ]
  },
  {
   "cell_type": "code",
   "execution_count": null,
   "id": "9b32d880",
   "metadata": {},
   "outputs": [],
   "source": [
    "if subtract_baseline:\n",
    "    traces.subtract_baseline(start_time = 0, \n",
    "                             end_time = 0.1, \n",
    "                             time_units = time_units,  # specify seconds (s), or milliseconds (ms)\n",
    "                             channel = 'current')  # Options: 'current', 'voltage', 'all'\n",
    "    %matplotlib widget\n",
    "    ax1, ax2 = traces.plot(plot_voltage=True, plot_ttl=False, time_units=time_units, sweep='all')\n",
    "    ax1.set_title('After baseline subtraction', y=0.98)\n",
    "    plt.show()\n",
    "else:\n",
    "    print(\"BASELINE NOT SUBTRACTED\")\n"
   ]
  },
  {
   "cell_type": "markdown",
   "id": "b2a86a84",
   "metadata": {},
   "source": [
    "### 2.2. Optional: apply additional highpass/lowpass filtering\n",
    "\n",
    "Depending in you recording, you may have 50/60 Hz line noise, high-frequency noise, or drift in your recordings.\n",
    "\n",
    "The goal here is to only remove the noise with minimal distortion of the data, so be careful not to overdo it"
   ]
  },
  {
   "cell_type": "code",
   "execution_count": null,
   "id": "9347ec43",
   "metadata": {},
   "outputs": [],
   "source": [
    "# Change this to True if you want to subtract the baseline from the sweeps.\n",
    "additional_filtering = False"
   ]
  },
  {
   "cell_type": "code",
   "execution_count": null,
   "id": "040304c6",
   "metadata": {},
   "outputs": [],
   "source": [
    "if additional_filtering:\n",
    "    filtered_traces = traces\n",
    "    # Step 1: Detrend the data to remove linear or constant trends.\n",
    "    filtered_traces = filtered_traces.detrend(detrend_type='linear', num_segments=1)\n",
    "\n",
    "    # Step 2: Apply a highpass filter to remove low-frequency noise + lowpass to remove high-frequency noise\n",
    "    filtered_traces = filtered_traces.filter(\n",
    "        line_freq=60,    # Frequency (Hz) of electrical noise to remove: 50 Hz (in Europe) or 60 Hz (in the US).\n",
    "        width=0.5,         # Width (Hz) controls the width of frequency bands around the line frequency the filter cuts out.\n",
    "        highpass=0.5,   # Removes low-frequency drift. Set a value in Hz (e.g. 1 for 1 Hz).\n",
    "        lowpass=4900,    # Removes high-frequency noise. Set a value in Hz (e.g. 100 for 100 Hz).\n",
    "        order=4)         # Controls sharpness of the filter. Higher = sharper cutoff.\n",
    "\n",
    "    %matplotlib widget\n",
    "    ax = filtered_traces.plot(plot_voltage=False, plot_ttl=False)\n",
    "    ax.set_title('After filtering', y=0.98)\n",
    "    plt.show()"
   ]
  },
  {
   "cell_type": "markdown",
   "id": "c846dbb0",
   "metadata": {},
   "source": [
    "Once you are happy with the filter setting, run the next cell to implement them:"
   ]
  },
  {
   "cell_type": "code",
   "execution_count": null,
   "id": "7227b52e",
   "metadata": {},
   "outputs": [],
   "source": [
    "if additional_filtering:\n",
    "    traces=filtered_traces"
   ]
  },
  {
   "cell_type": "markdown",
   "id": "f9f68842",
   "metadata": {},
   "source": [
    "## 3. Select what you want to measure"
   ]
  },
  {
   "cell_type": "markdown",
   "id": "f37defbf",
   "metadata": {},
   "source": [
    "### 3.1. Defining the time window\n",
    "\n",
    "First let's define the relevant time window where we want to measure the currents:\n",
    "\n",
    "(If you want to save the images, you can do it by clicking on the save icon in the top-right of the image when you hover over it)"
   ]
  },
  {
   "cell_type": "code",
   "execution_count": null,
   "id": "f7f20db8",
   "metadata": {},
   "outputs": [],
   "source": [
    "# The start/end time just helps to zoom in on the traces.\n",
    "start_time = 0\n",
    "end_time = None\n",
    "\n",
    "# The markers are important: the will define the window where we actually exctract peak current values from. Set them carefully.\n",
    "marker_1 = 1.1\n",
    "marker_2 = 6.\n",
    "time_units = 'ms'\n",
    "\n",
    "# ----------------------------------------------------------------------------------------------------------------------\n",
    "%matplotlib widget\n",
    "ax1,ax2 = traces.plot(plot_voltage=True, time_units=time_units, marker_1=marker_1, marker_2=marker_2, sweep='all')\n",
    "ax1.set_xlim(start_time,end_time)\n",
    "ax2.set_xlim(start_time,end_time)\n",
    "plt.show()"
   ]
  },
  {
   "cell_type": "markdown",
   "id": "916075f4",
   "metadata": {},
   "source": [
    "### 3.2. Measure currents\n",
    "\n",
    "Here we will be using the timepoints from the markers we defined above."
   ]
  },
  {
   "cell_type": "code",
   "execution_count": null,
   "id": "63054418",
   "metadata": {},
   "outputs": [],
   "source": [
    "measurement_type = 'peak' # Options: 'mean', 'max', 'min', 'peak'\n",
    "\n",
    "current_steps, voltage_steps = traces.get_measurements(start_time=marker_1, end_time=marker_2, \n",
    "                                                       measurement_type=measurement_type, time_units=time_units)\n",
    "\n",
    "if np.all(voltage_steps == voltage_steps[0]):\n",
    "    print(\"WARNING: All voltage steps are the same\")\n",
    "if np.all(current_steps == current_steps[0]):\n",
    "    print(\"WARNING: All current steps are the same\")\n",
    "%matplotlib inline\n",
    "ax = plot_IV(voltage_steps, current_steps, xlabel_coords=(0.95,0.25), ylabel_coords=(0.35,0.6))\n",
    "plt.show()"
   ]
  },
  {
   "cell_type": "markdown",
   "id": "cb94d583",
   "metadata": {},
   "source": [
    "### 3.3. Optional: fit a line to the I-V points\n",
    "\n",
    "If our data is noisy, we can get an estimate of the reversal potential by fitting a line to the data and finding where it intersects the x-axis.\n",
    "\n",
    "The slope of the line will also give us an estimate of the conductance."
   ]
  },
  {
   "cell_type": "code",
   "execution_count": null,
   "id": "aa2c5f16",
   "metadata": {},
   "outputs": [],
   "source": [
    "# Choose which range of point you want to fit a line to\n",
    "# Here it is important to select a range of points in the \"linear\" (right) part of the IV curve, where the Na channels are open.\n",
    "# (We will use this line to figure out the reversal potential)\n",
    "voltage_start = -10\n",
    "voltage_end = +20\n",
    "\n",
    "\n",
    "# -----------------------------------------------------------------------------------------------------------------------\n",
    "assert voltage_start < voltage_end, \"voltage_start must be less than voltage_end\"\n",
    "assert voltage_start < np.max(voltage_steps), \"voltage_start must be less than the largest voltage step\"\n",
    "assert voltage_end > np.min(voltage_steps), \"voltage_end must be greater than the smallest voltage step\"\n",
    "\n",
    "# Sort voltage steps in ascending order\n",
    "voltage_steps, sort_idx = np.sort(voltage_steps), np.argsort(voltage_steps)\n",
    "current_steps = current_steps[sort_idx]\n",
    "\n",
    "# Convert voltage start/end to index\n",
    "points_start = np.where(voltage_steps >= voltage_start)[0][0]\n",
    "points_end = np.where(voltage_steps <= voltage_end)[0][-1] +1\n",
    "\n",
    "# Fit a line to the points\n",
    "ax = plot_IV(voltage_steps, current_steps, xlabel_coords=(0.95,0.4), ylabel_coords=(0.6,0.7))\n",
    "from scipy.stats import linregress\n",
    "voltage_steps_to_fit = voltage_steps[points_start:points_end]\n",
    "current_steps_to_fit = current_steps[points_start:points_end]\n",
    "slope, intercept, r_value, p_value, std_err = linregress(voltage_steps_to_fit, current_steps_to_fit)\n",
    "fit_line = slope * voltage_steps + intercept\n",
    "ax.plot(voltage_steps_to_fit, fit_line[points_start:points_end], linestyle='--', color='r', label='Fit', linewidth=2)\n",
    "ax.set_ylim(bottom=np.min(current_steps)*1.5)\n",
    "\n",
    "print(f\"G = slope = {slope:.3f} nS\")\n",
    "print(f\"Resistance = 1/slope = {1/slope * 1000:.3f} MOhm\")\n",
    "\n",
    "# Find the intercept on the x-axis (where current is zero) to get E_rev (reversal potential)\n",
    "E_rev = -intercept / slope\n",
    "ax.scatter(voltage_steps[points_start], fit_line[points_start], color='r', zorder=5)\n",
    "ax.scatter(voltage_steps[points_end-1], fit_line[points_end-1], color='r', zorder=5)\n",
    "ax.scatter(E_rev, 0, color='b', zorder=5)\n",
    "ylim = ax.get_ylim()\n",
    "ax.annotate(\"E_rev \\n(from line fit)\", xy=(E_rev, 0), xytext=(E_rev, ylim[0]), color='b',\n",
    "            arrowprops=dict(arrowstyle=\"->\", mutation_scale=20, linewidth=2, color='blue'))\n",
    "print(f\"Reversal potential: {E_rev:.3f} mV\")\n",
    "plt.show()\n",
    "\n",
    "# Check if the line is a good fit\n",
    "if r_value**2 < 0.95:\n",
    "    print(f\"**WARNING: The line is a BAD fit**, r^2 = {r_value**2:.4f}\")"
   ]
  },
  {
   "cell_type": "markdown",
   "id": "d9b3d182",
   "metadata": {},
   "source": [
    "Before running the next code cell, make sure that the line fit is good and gives an accurate measure of the reversal potential (E_rev). \n",
    "\n",
    "Otherwise your Na channel activation curve will be bad."
   ]
  },
  {
   "cell_type": "markdown",
   "id": "80ca4f18",
   "metadata": {},
   "source": [
    "### 3.4. Optional: Calculate the channel activation curve \n",
    "\n",
    "<img src=\"images/Na_IV_activation_analysis.png\" width=\"800\">\n"
   ]
  },
  {
   "cell_type": "markdown",
   "id": "ab9b6620",
   "metadata": {},
   "source": [
    "Here we are channel activation by calculating the conductance of the channel at different voltages and normalizing against the maximum conductance."
   ]
  },
  {
   "cell_type": "code",
   "execution_count": null,
   "id": "c55d3287",
   "metadata": {},
   "outputs": [],
   "source": [
    "# Calculate the conductance at each point\n",
    "G = current_steps / (voltage_steps - E_rev)\n",
    "\n",
    "# We are estimating the G from single points, so errors will be larger close to the \n",
    "# reversal potential (where our calculation is very sensitive to small variations in V-E_rev).\n",
    "\n",
    "# Remove the points within 5mv of the reversal potential\n",
    "# (since the conductance is not well defined at the reversal potential)\n",
    "delta_V = voltage_steps - E_rev\n",
    "mask = np.abs(delta_V) > 5\n",
    "voltage_steps = voltage_steps[mask]\n",
    "current_steps = current_steps[mask]\n",
    "G = G[mask]\n",
    "\n",
    "# Plot the conductance\n",
    "%matplotlib inline\n",
    "fig = plt.figure()\n",
    "plt.plot(voltage_steps, G, 'o', color='black')\n",
    "plt.xlabel('Voltage (mV)')\n",
    "plt.ylabel('Conductance (nS)')\n",
    "plt.show()"
   ]
  },
  {
   "cell_type": "code",
   "execution_count": null,
   "id": "a68d0443",
   "metadata": {},
   "outputs": [],
   "source": [
    "# # Now we normalize these conductances by the maximum value, i.e. the fully open channel conductance\n",
    "G_max = np.max(G) \n",
    "\n",
    "# # Sometime the Gmax measurement is a bit noisy, so can instead normalize against the average of the last 5 points\n",
    "# G_max = np.mean(G[-5:]) \n",
    "\n",
    "# # Alternatively, we can use the line we fit above. \n",
    "# # If we fit the line correctly (around the E_rev), the slope of that line is the maximum conductance\n",
    "# G_max = slope\n",
    "\n",
    "# Now we normalize the conductances by the maximum value\n",
    "G_norm = G / G_max\n",
    "\n",
    "# --------------------------------------------------------------------------------------------------------------------\n",
    "# Finally we can fit the Boltzmann function (sigmoidal curve) to the data \n",
    "def boltzmann(V, V_half, k):\n",
    "    return 1 / (1 + np.exp((V_half - V) / k))\n",
    "\n",
    "from scipy.optimize import curve_fit\n",
    "k_guess = 5 # Initial guess for the slope parameter\n",
    "popt, _ = curve_fit(boltzmann, voltage_steps, G_norm, p0=[np.median(voltage_steps), k_guess])\n",
    "V_half_fit, k_fit = popt\n",
    "V_fit = np.linspace(np.min(voltage_steps), np.max(voltage_steps), 500)\n",
    "G_fit = boltzmann(V_fit, V_half_fit, k_fit)\n",
    "\n",
    "# Plot normalized data points & fitted curve\n",
    "fig, ax = plt.subplots(figsize=(5, 4))\n",
    "ax.plot(voltage_steps, G_norm, 'o', label='Data', color='black')\n",
    "ax.plot(V_fit, G_fit, '-', label='Boltzmann fit', color='red')\n",
    "ax.set_xlabel('Voltage (mV)')\n",
    "ax.set_ylabel('Normalized Conductance (G/Gmax)')\n",
    "ax.set_title('NaV Channel Activation Curve')\n",
    "ax.legend(handlelength=1, loc='upper left', handletextpad=0.5)\n",
    "plt.show()"
   ]
  },
  {
   "cell_type": "code",
   "execution_count": null,
   "id": "ec677c13",
   "metadata": {},
   "outputs": [],
   "source": []
  }
 ],
 "metadata": {
  "kernelspec": {
   "display_name": "miniML",
   "language": "python",
   "name": "python3"
  },
  "language_info": {
   "codemirror_mode": {
    "name": "ipython",
    "version": 3
   },
   "file_extension": ".py",
   "mimetype": "text/x-python",
   "name": "python",
   "nbconvert_exporter": "python",
   "pygments_lexer": "ipython3",
   "version": "3.11.13"
  }
 },
 "nbformat": 4,
 "nbformat_minor": 5
}
