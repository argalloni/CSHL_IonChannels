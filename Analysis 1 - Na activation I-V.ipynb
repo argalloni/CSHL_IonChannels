{
 "cells": [
  {
   "cell_type": "code",
   "execution_count": null,
   "id": "416e80dc",
   "metadata": {},
   "outputs": [],
   "source": []
  },
  {
   "cell_type": "markdown",
   "id": "cdced775",
   "metadata": {},
   "source": [
    "#### **Basic instructions:**\n",
    "#### 1. **To run code cells**, you can either hit the play button to the left of the cell, or you can select the cell and **press shift-enter**.\n",
    "\n",
    "#### 2. **The first time** you run this code notebook, you might get a popup asking to choose which version of Python to use (the python \"kernel\"). **Just hit enter** to choose the base/default version.\n",
    "\n",
    "#### 3. Make sure you data (.abf) files are in the \"data\" folder here on the left. You can just copy/paste the files over from where they are saved on your computer."
   ]
  },
  {
   "cell_type": "code",
   "execution_count": null,
   "id": "10f2db92",
   "metadata": {},
   "outputs": [],
   "source": [
    "%matplotlib inline\n",
    "import numpy as np\n",
    "import matplotlib.pyplot as plt\n",
    "from utils import *\n",
    "update_plot_defaults()"
   ]
  },
  {
   "cell_type": "markdown",
   "id": "c80d38c1",
   "metadata": {},
   "source": [
    "# Na channels: current-voltage relationship (I-V)"
   ]
  },
  {
   "cell_type": "markdown",
   "id": "c1b0d022",
   "metadata": {},
   "source": [
    "## 1. Choose the data file you want to analyze\n",
    "\n",
    "#### Put the .abf files with your Na channel recordings in the \"data/Na_channels\" folder"
   ]
  },
  {
   "cell_type": "code",
   "execution_count": null,
   "id": "a0aa416c",
   "metadata": {},
   "outputs": [],
   "source": [
    "data_folder = \"data/Na_channels\"\n",
    "\n",
    "from glob import glob\n",
    "data_files = glob(data_folder+\"/*.abf\")\n",
    "print(data_folder)\n",
    "data_files"
   ]
  },
  {
   "cell_type": "markdown",
   "id": "e949a52b",
   "metadata": {},
   "source": [
    "Choose which file you want to analyze and past the file name here:"
   ]
  },
  {
   "cell_type": "code",
   "execution_count": null,
   "id": "ee91c014",
   "metadata": {},
   "outputs": [],
   "source": [
    "data_file = 'data/Na_channels/nav18-iv.abf'"
   ]
  },
  {
   "cell_type": "markdown",
   "id": "42ee024f",
   "metadata": {},
   "source": [
    "Now we can load the file and plot the raw data:"
   ]
  },
  {
   "cell_type": "code",
   "execution_count": null,
   "id": "db858822",
   "metadata": {},
   "outputs": [],
   "source": [
    "## Extract the sweeps, time and sampling frequency:\n",
    "sweeps, sweeps_time, sampling_freq = get_sweeps(data_file)\n",
    "\n",
    "print(f\"Data dimensions (sweeps, channels, timepoints): \\n{sweeps.shape}\")\n",
    "print(f\"sampling freq: {sampling_freq} Hz\")\n",
    "\n",
    "current_traces = sweeps[:, 0, :]\n",
    "voltage_traces = sweeps[:, 1, :]\n",
    "ax = plot_traces(sweeps_time*1000, current_traces, voltage_traces)\n",
    "plt.show()"
   ]
  },
  {
   "cell_type": "markdown",
   "id": "f9f68842",
   "metadata": {},
   "source": [
    "## 2. Select what you want to measure"
   ]
  },
  {
   "cell_type": "markdown",
   "id": "f37defbf",
   "metadata": {},
   "source": [
    "### 2.1. Defining the time window\n",
    "\n",
    "First let's define the relevant time window where we want to measure the currents:\n",
    "\n",
    "(If you want to save the images, you can do it by clicking on the save icon in the top-right of the image when you hover over it)"
   ]
  },
  {
   "cell_type": "code",
   "execution_count": null,
   "id": "16d2de44",
   "metadata": {},
   "outputs": [],
   "source": [
    "# The start/end time just helps to zoom in on the traces.\n",
    "start_time = 0  # milliseconds\n",
    "end_time = 10   # milliseconds, (enter -1 to get the end of the sweep)\n",
    "\n",
    "# The markers are important: the will define the window where we actually exctract peak current values from. Set them carefully.\n",
    "marker_1 = 1.1  # milliseconds\n",
    "marker_2 = 6    # milliseconds\n",
    "\n",
    "# ----------------------------------------------------------------------------------------------------------------------\n",
    "current_traces, time_in_window = select_sweep_window(sweeps, sweeps_time, start_time, end_time, sampling_freq, channel=0)\n",
    "voltage_traces, time_in_window = select_sweep_window(sweeps, sweeps_time, start_time, end_time, sampling_freq, channel=1)\n",
    "ax = plot_traces(time_in_window, current_traces, voltage_traces, marker_1, marker_2)\n",
    "plt.show()"
   ]
  },
  {
   "cell_type": "markdown",
   "id": "760c70e0",
   "metadata": {},
   "source": [
    "### 3.1. Optional: apply baseline correction\n",
    "\n",
    "If your baseline current is not zero, you may need to correct for that to get accurate measurements."
   ]
  },
  {
   "cell_type": "code",
   "execution_count": null,
   "id": "94b690ad",
   "metadata": {},
   "outputs": [],
   "source": [
    "# Change this to True if you want to subtract the baseline from the sweeps.\n",
    "subtract_baseline = False\n",
    "\n",
    "# Measure baseline: you need to specify which part of the trace you want to use for baseline measurement.\n",
    "start_baseline = 0 # milliseconds\n",
    "end_baseline = 1 # milliseconds\n",
    "measurement_type = 'mean' # Options: 'mean', 'max', 'min'\n",
    "\n",
    "\n",
    "# --------------------------------------------------------------------------------------------------------------------\n",
    "if subtract_baseline:\n",
    "    baseline_voltage, baseline_current = get_step_measurements(sweeps, sweeps_time, start_baseline, end_baseline, sampling_freq, measurement_type)\n",
    "\n",
    "    # Subtract baseline from the sweeps\n",
    "    num_traces = sweeps.shape[0]\n",
    "    for i in range(num_traces):\n",
    "        sweeps[i,0] -= baseline_current[i]\n",
    "\n",
    "    current_traces, time_in_window = select_sweep_window(sweeps, sweeps_time, start_time, end_time, sampling_freq, channel=0)\n",
    "    voltage_traces, time_in_window = select_sweep_window(sweeps, sweeps_time, start_time, end_time, sampling_freq, channel=1)\n",
    "    ax = plot_traces(time_in_window, current_traces, voltage_traces, marker_1, marker_2)\n",
    "    ax[0].set_title('After baseline subtraction')\n",
    "    plt.show()"
   ]
  },
  {
   "cell_type": "markdown",
   "id": "916075f4",
   "metadata": {},
   "source": [
    "### 3.2. Measure currents\n",
    "\n",
    "Here we will be using the timepoints from the markers we defined above."
   ]
  },
  {
   "cell_type": "code",
   "execution_count": null,
   "id": "6627e0e3",
   "metadata": {},
   "outputs": [],
   "source": [
    "measurement_type = 'peak' # Options: 'mean', 'max', 'min', 'peak'\n",
    "\n",
    "voltage_steps, current_steps = get_step_measurements(sweeps, sweeps_time, \n",
    "                                                     start_time=marker_1,\n",
    "                                                     end_time=marker_2,\n",
    "                                                     sampling_freq=sampling_freq,\n",
    "                                                     measurement_type=measurement_type)\n",
    "if np.all(voltage_steps == voltage_steps[0]):\n",
    "    print(\"WARNING: All voltage steps are the same\")\n",
    "if np.all(current_steps == current_steps[0]):\n",
    "    print(\"WARNING: All current steps are the same\")\n",
    "ax = plot_IV(voltage_steps, current_steps, xlabel_coords=(0.95,0.25), ylabel_coords=(0.4,0.6))\n",
    "plt.show()"
   ]
  },
  {
   "cell_type": "markdown",
   "id": "cb94d583",
   "metadata": {},
   "source": [
    "### 3.3. Optional: fit a line to the I-V points\n",
    "\n",
    "If our data is noisy, we can get an estimate of the reversal potential by fitting a line to the data and finding where it intersects the x-axis.\n",
    "\n",
    "The slope of the line will also give us an estimate of the conductance."
   ]
  },
  {
   "cell_type": "code",
   "execution_count": null,
   "id": "aa2c5f16",
   "metadata": {},
   "outputs": [],
   "source": [
    "# Choose which range of point you want to fit a line to\n",
    "# Here it is important to select a range of points in the \"linear\" (right) part of the IV curve, where the Na channels are open.\n",
    "# (We will use this line to figure out the reversal potential)\n",
    "voltage_start = -120\n",
    "voltage_end = -70\n",
    "\n",
    "\n",
    "# -----------------------------------------------------------------------------------------------------------------------\n",
    "assert voltage_start < voltage_end, \"voltage_start must be less than voltage_end\"\n",
    "assert voltage_start < np.max(voltage_steps), \"voltage_start must be less than the largest voltage step\"\n",
    "assert voltage_end > np.min(voltage_steps), \"voltage_end must be greater than the smallest voltage step\"\n",
    "assert voltage_end <= np.max(voltage_steps), \"voltage_end must be less than the largest voltage step\"\n",
    "assert voltage_start >= np.min(voltage_steps), \"voltage_start must be greater than the smallest voltage step\"\n",
    "\n",
    "# Sort voltage steps in ascending order\n",
    "voltage_steps, sort_idx = np.sort(voltage_steps), np.argsort(voltage_steps)\n",
    "current_steps = current_steps[sort_idx]\n",
    "\n",
    "# Convert voltage start/end to index\n",
    "points_start = np.where(voltage_steps >= voltage_start)[0][0]\n",
    "points_end = np.where(voltage_steps <= voltage_end)[0][-1] +1\n",
    "\n",
    "# Fit a line to the points\n",
    "ax = plot_IV(voltage_steps, current_steps, xlabel_coords=(0.95,0.4), ylabel_coords=(0.6,0.7))\n",
    "from scipy.stats import linregress\n",
    "voltage_steps_to_fit = voltage_steps[points_start:points_end]\n",
    "current_steps_to_fit = current_steps[points_start:points_end]\n",
    "slope, intercept, r_value, p_value, std_err = linregress(voltage_steps_to_fit, current_steps_to_fit)\n",
    "fit_line = slope * voltage_steps + intercept\n",
    "ax.plot(voltage_steps_to_fit, fit_line[points_start:points_end], linestyle='--', color='r', label='Fit', linewidth=2)\n",
    "ax.set_ylim(bottom=np.min(current_steps)*1.5)\n",
    "\n",
    "print(f\"G = slope = {slope:.3f} nS\")\n",
    "print(f\"Resistance = 1/slope = {1/slope * 1000:.3f} MOhm\")\n",
    "\n",
    "# Find the intercept on the x-axis (where current is zero) to get E_rev (reversal potential)\n",
    "E_rev = -intercept / slope\n",
    "ax.scatter(voltage_steps[points_start], fit_line[points_start], color='r', zorder=5)\n",
    "ax.scatter(voltage_steps[points_end-1], fit_line[points_end-1], color='r', zorder=5)\n",
    "ax.scatter(E_rev, 0, color='b', zorder=5)\n",
    "ylim = ax.get_ylim()\n",
    "ax.annotate(\"E_rev \\n(from line fit)\", xy=(E_rev, 0), xytext=(E_rev, ylim[0]), color='b',\n",
    "            arrowprops=dict(arrowstyle=\"->\", mutation_scale=20, linewidth=2, color='blue'))\n",
    "\n",
    "print(f\"Reversal potential: {E_rev:.3f} mV\")\n",
    "plt.show()\n",
    "\n",
    "# Check if the line is a good fit\n",
    "if r_value**2 < 0.95:\n",
    "    print(f\"**WARNING: The line is a BAD fit**, r^2 = {r_value**2:.4f}\")"
   ]
  },
  {
   "cell_type": "markdown",
   "id": "d9b3d182",
   "metadata": {},
   "source": [
    "Before running the next code cell, make sure that the line fit is good and gives an accurate measure of the reversal potential (E_rev). \n",
    "\n",
    "Otherwise your Na channel activation curve will be bad."
   ]
  },
  {
   "cell_type": "markdown",
   "id": "80ca4f18",
   "metadata": {},
   "source": [
    "### 3.4. Optional: Calculate the channel activation curve \n",
    "\n",
    "<img src=\"images/Na_IV_activation_analysis.png\" width=\"800\">\n"
   ]
  },
  {
   "cell_type": "markdown",
   "id": "ab9b6620",
   "metadata": {},
   "source": [
    "Here we are channel activation by calculating the conductance of the channel at different voltages and normalizing against the maximum conductance."
   ]
  },
  {
   "cell_type": "code",
   "execution_count": null,
   "id": "c55d3287",
   "metadata": {},
   "outputs": [],
   "source": [
    "# Calculate the conductance at each point\n",
    "G = current_steps / (voltage_steps - E_Na)\n",
    "\n",
    "# We are estimating the G from single points, so errors will be larger close to the \n",
    "# reversal potential (where our calculation is very sensitive to small variations in V-E_rev).\n",
    "\n",
    "# Remove the points within 5mv of the reversal potential\n",
    "# (since the conductance is not well defined at the reversal potential)\n",
    "delta_V = voltage_steps - E_Na\n",
    "mask = np.abs(delta_V) > 5\n",
    "voltage_steps = voltage_steps[mask]\n",
    "current_steps = current_steps[mask]\n",
    "G = G[mask]\n",
    "\n",
    "# Plot the conductance\n",
    "plt.plot(voltage_steps, G, 'o', color='black')\n",
    "plt.xlabel('Voltage (mV)')\n",
    "plt.ylabel('Conductance (nS)')\n",
    "plt.show()"
   ]
  },
  {
   "cell_type": "code",
   "execution_count": null,
   "id": "a68d0443",
   "metadata": {},
   "outputs": [],
   "source": [
    "# # Now we normalize these conductances by the maximum value, i.e. the fully open channel conductance\n",
    "G_max = np.max(G) \n",
    "\n",
    "# # Sometime the Gmax measurement is a bit noisy, so can instead normalize against the average of the last 5 points\n",
    "# G_max = np.mean(G[-5:]) \n",
    "\n",
    "# # Alternatively, we can use the line we fit above. \n",
    "# # If we fit the line correctly (around the E_rev), the slope of that line is the maximum conductance\n",
    "# G_max = slope\n",
    "\n",
    "# Now we normalize the conductances by the maximum value\n",
    "G_norm = G / G_max\n",
    "\n",
    "# --------------------------------------------------------------------------------------------------------------------\n",
    "# Finally we can fit the Boltzmann function (sigmoidal curve) to the data \n",
    "def boltzmann(V, V_half, k):\n",
    "    return 1 / (1 + np.exp((V_half - V) / k))\n",
    "\n",
    "from scipy.optimize import curve_fit\n",
    "k_guess = 5 # Initial guess for the slope parameter\n",
    "popt, _ = curve_fit(boltzmann, voltage_steps, G_norm, p0=[np.median(voltage_steps), k_guess])\n",
    "V_half_fit, k_fit = popt\n",
    "V_fit = np.linspace(np.min(voltage_steps), np.max(voltage_steps), 500)\n",
    "G_fit = boltzmann(V_fit, V_half_fit, k_fit)\n",
    "\n",
    "# Plot normalized data points & fitted curve\n",
    "fig, ax = plt.subplots(figsize=(5, 4))\n",
    "ax.plot(voltage_steps, G_norm, 'o', label='Data', color='black')\n",
    "ax.plot(V_fit, G_fit, '-', label='Boltzmann fit', color='red')\n",
    "ax.set_xlabel('Voltage (mV)')\n",
    "ax.set_ylabel('Normalized Conductance (G/Gmax)')\n",
    "ax.set_title('NaV Channel Activation Curve')\n",
    "ax.legend(handlelength=1, loc='upper left', handletextpad=0.5)\n",
    "plt.show()"
   ]
  },
  {
   "cell_type": "code",
   "execution_count": null,
   "id": "ec677c13",
   "metadata": {},
   "outputs": [],
   "source": []
  }
 ],
 "metadata": {
  "kernelspec": {
   "display_name": "CSHL_IonChannels",
   "language": "python",
   "name": "python3"
  },
  "language_info": {
   "codemirror_mode": {
    "name": "ipython",
    "version": 3
   },
   "file_extension": ".py",
   "mimetype": "text/x-python",
   "name": "python",
   "nbconvert_exporter": "python",
   "pygments_lexer": "ipython3",
   "version": "3.11.13"
  }
 },
 "nbformat": 4,
 "nbformat_minor": 5
}
