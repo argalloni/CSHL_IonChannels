{
 "cells": [
  {
   "cell_type": "code",
   "execution_count": null,
   "id": "f291ae6a",
   "metadata": {},
   "outputs": [],
   "source": []
  },
  {
   "cell_type": "markdown",
   "id": "29c8dae6",
   "metadata": {},
   "source": [
    "# Evoked EPSCs and IPSCs"
   ]
  },
  {
   "cell_type": "markdown",
   "id": "aa81e42a",
   "metadata": {},
   "source": [
    "#### **Basic instructions:**\n",
    "#### 1. **To run code cells**, you can either hit the play button to the left of the cell, or you can select the cell and **press shift-enter**.\n",
    "\n",
    "#### 2. **The first time** you run this code notebook, you might get a popup asking to choose which version of Python to use (the python \"kernel\"). **Just hit enter** to choose the base/default version.\n",
    "\n",
    "#### 3. Make sure you data (.abf) files are in the \"data\" folder here on the left. You can just copy/paste the files over from where they are saved on your computer."
   ]
  },
  {
   "cell_type": "code",
   "execution_count": null,
   "id": "10f2db92",
   "metadata": {},
   "outputs": [],
   "source": [
    "# %matplotlib inline\n",
    "# import matplotlib\n",
    "# matplotlib.use(\"Qt5Agg\")  # Or \"TkAgg\", \"MacOSX\", depending on your OS\n",
    "%matplotlib widget\n",
    "\n",
    "import numpy as np\n",
    "import matplotlib.pyplot as plt\n",
    "from utils import *\n",
    "update_plot_defaults()\n",
    "%load_ext autoreload\n",
    "%autoreload 2"
   ]
  },
  {
   "cell_type": "markdown",
   "id": "c1b0d022",
   "metadata": {},
   "source": [
    "## 1. Choose the data file you want to analyze\n",
    "\n",
    "#### Put the .abf files with your Ih recordings in the \"data/evoked_PSCs\" folder"
   ]
  },
  {
   "cell_type": "code",
   "execution_count": null,
   "id": "a0aa416c",
   "metadata": {},
   "outputs": [],
   "source": [
    "data_folder = \"data/Evoked_PSCs\"\n",
    "\n",
    "from glob import glob\n",
    "data_files = glob(data_folder+\"/*.abf\")\n",
    "print(data_folder)\n",
    "data_files"
   ]
  },
  {
   "cell_type": "markdown",
   "id": "e949a52b",
   "metadata": {},
   "source": [
    "Choose which file you want to analyze (copy name from above) and paste the file name here:"
   ]
  },
  {
   "cell_type": "code",
   "execution_count": null,
   "id": "ee91c014",
   "metadata": {},
   "outputs": [],
   "source": [
    "# data_file = 'data/Evoked_PSCs/2024_06_14_0002.abf'\n",
    "# data_file = 'data/Evoked_PSCs/2024_06_14_0003.abf'\n",
    "data_file = 'data/Evoked_PSCs/2024_06_14_0007.abf'"
   ]
  },
  {
   "cell_type": "markdown",
   "id": "42ee024f",
   "metadata": {},
   "source": [
    "Now we can load the file and plot the raw data:"
   ]
  },
  {
   "cell_type": "code",
   "execution_count": null,
   "id": "db858822",
   "metadata": {},
   "outputs": [],
   "source": [
    "## Extract the sweeps, time and sampling frequency:\n",
    "sweeps, sweeps_time, sampling_freq = get_sweeps(data_file)\n",
    "\n",
    "print(f\"Data dimensions (sweeps, channels, timepoints): \\n{sweeps.shape}\")\n",
    "print(f\"sampling freq: {sampling_freq} Hz\")\n",
    "\n",
    "current_traces = sweeps[:, 0, :]\n",
    "voltage_traces = sweeps[:, 1, :]\n",
    "\n",
    "current_traces = np.mean(current_traces, axis=0)\n",
    "ax = plot_traces(sweeps_time, current_traces, voltage_traces)\n",
    "# ax[0].set_ylim([-200,20])\n",
    "# ax[0].set_xlim([0.3,0.5])\n",
    "plt.show()"
   ]
  },
  {
   "cell_type": "markdown",
   "id": "4e2554be",
   "metadata": {},
   "source": [
    "### Optional: apply baseline correction\n",
    "\n",
    "If your baseline current is not zero, you may need to correct for that to get accurate measurements.\n",
    "\n",
    "Uncomment this cell block (highlight everything, then cmd+/ on macOS or ctrl+/ on Windows) to run it."
   ]
  },
  {
   "cell_type": "code",
   "execution_count": null,
   "id": "506eaa06",
   "metadata": {},
   "outputs": [],
   "source": [
    "# Change this to True if you want to subtract the baseline from the sweeps.\n",
    "subtract_baseline = True\n",
    "\n",
    "# Measure baseline: you need to specify which part of the trace you want to use for baseline measurement.\n",
    "start_baseline = 1150 # milliseconds\n",
    "end_baseline = 1200 # milliseconds\n",
    "measurement_type = 'mean' # Options: 'mean', 'max', 'min'\n",
    "\n",
    "\n",
    "# --------------------------------------------------------------------------------------------------------------------\n",
    "if subtract_baseline:\n",
    "    baseline_voltage, baseline_current = get_step_measurements(sweeps, sweeps_time, start_baseline, end_baseline, sampling_freq, measurement_type)\n",
    "\n",
    "    # Subtract baseline from the sweeps\n",
    "    num_traces = sweeps.shape[0]\n",
    "    for i in range(num_traces):\n",
    "        sweeps[i,0] -= baseline_current[i]\n",
    "\n",
    "    current_traces = sweeps[:, 0, :]\n",
    "    voltage_traces = sweeps[:, 1, :]\n",
    "    ax = plot_traces(sweeps_time, current_traces, voltage_traces)    \n",
    "    ax[0].set_title('After baseline subtraction')\n",
    "    plt.show()"
   ]
  },
  {
   "cell_type": "markdown",
   "id": "f9f68842",
   "metadata": {},
   "source": [
    "## 2. Select what you want to measure\n",
    "\n",
    "(If you want to save images, click on the save icon in the top-right of the image when you hover over it)"
   ]
  },
  {
   "cell_type": "markdown",
   "id": "03f7d166",
   "metadata": {},
   "source": [
    "### 2.1. Define the time window to measure the IV\n",
    "\n",
    "First let's define the relevant time window where we want to measure the currents:"
   ]
  },
  {
   "cell_type": "code",
   "execution_count": null,
   "id": "537d23a8",
   "metadata": {},
   "outputs": [],
   "source": [
    "# The start/end time just helps to zoom in on the traces.\n",
    "start_time = 2500  # milliseconds\n",
    "end_time = 3000   # milliseconds, (enter -1 to get the end of the sweep)\n",
    "\n",
    "# The markers are important: the will define the window where we actually exctract peak current values from. Set them carefully.\n",
    "marker_1 = 2720  # milliseconds\n",
    "marker_2 = 2760  # milliseconds\n",
    "\n",
    "# ----------------------------------------------------------------------------------------------------------------------\n",
    "current_traces, time_in_window = select_sweep_window(sweeps, sweeps_time, start_time, end_time, sampling_freq, channel=0)\n",
    "voltage_traces, time_in_window = select_sweep_window(sweeps, sweeps_time, start_time, end_time, sampling_freq, channel=1)\n",
    "ax = plot_traces(time_in_window, current_traces, voltage_traces, marker_1, marker_2)\n",
    "plt.show()"
   ]
  },
  {
   "cell_type": "markdown",
   "id": "6e5ced20",
   "metadata": {},
   "source": [
    "### 2.2. Plot IV curve\n",
    "\n",
    "Get the average steady-state current in the window and plot against voltage"
   ]
  },
  {
   "cell_type": "code",
   "execution_count": null,
   "id": "1f006f64",
   "metadata": {},
   "outputs": [],
   "source": [
    "measurement_type = 'mean' # Options: 'mean', 'max', 'min', 'peak'\n",
    "\n",
    "voltage_steps, current_steps = get_step_measurements(sweeps, sweeps_time, \n",
    "                                                     start_time=marker_1,\n",
    "                                                     end_time=marker_2,\n",
    "                                                     sampling_freq=sampling_freq,\n",
    "                                                     measurement_type=measurement_type)\n",
    "if np.all(voltage_steps == voltage_steps[0]):\n",
    "    print(\"WARNING: All voltage steps are the same\")\n",
    "if np.all(current_steps == current_steps[0]):\n",
    "    print(\"WARNING: All current steps are the same\")\n",
    "    \n",
    "ax = plot_IV(voltage_steps, current_steps, xlabel_coords=(0.,0.7), ylabel_coords=(0.99,0.95))\n",
    "plt.show()"
   ]
  },
  {
   "cell_type": "markdown",
   "id": "4e360be8",
   "metadata": {},
   "source": [
    "### 2.3. Measure tail currents to get the channel activation curve\n",
    "\n",
    "Measure the instantaneous tail currents in the second part of the recording\n"
   ]
  },
  {
   "cell_type": "code",
   "execution_count": null,
   "id": "9e81a8fc",
   "metadata": {},
   "outputs": [],
   "source": [
    "# The start/end time just helps to zoom in on the traces.\n",
    "start_time = 2760  # milliseconds\n",
    "end_time = 2770   # milliseconds, (enter -1 to get the end of the sweep)\n",
    "\n",
    "# The markers are important: the will define the window where we actually exctract peak current values from. Set them carefully.\n",
    "marker = 2765  # milliseconds\n",
    "\n",
    "\n",
    "# ----------------------------------------------------------------------------------------------------------------------\n",
    "current_traces, time_in_window = select_sweep_window(sweeps, sweeps_time, start_time, end_time, sampling_freq, channel=0)\n",
    "voltage_traces, time_in_window = select_sweep_window(sweeps, sweeps_time, start_time, end_time, sampling_freq, channel=1)\n",
    "ax = plot_traces(time_in_window, current_traces, voltage_traces, marker)\n",
    "\n",
    "marker_idx = time_to_index(marker, sampling_freq)\n",
    "tail_currents = current_at_marker1 = sweeps[:,0,marker_idx]\n",
    "ax[0].scatter([marker]*len(tail_currents), tail_currents, color='red', marker='x', label=\"current measurement points\", zorder=10)\n",
    "ax[0].legend(loc='upper left', bbox_to_anchor=(0.4, 0.8))\n",
    "plt.show()\n",
    "\n",
    "# Plot the tail currents\n",
    "plt.plot(voltage_steps, tail_currents, 'o', color='black')\n",
    "plt.xlabel('Voltage (mV)')\n",
    "plt.ylabel('Current (pA)')\n",
    "plt.show()"
   ]
  },
  {
   "cell_type": "markdown",
   "id": "bf78a57b",
   "metadata": {},
   "source": [
    "### 2.4. Fit a Boltzmann curve (sigmoid) to the normalized currents "
   ]
  },
  {
   "cell_type": "markdown",
   "id": "819489f2",
   "metadata": {},
   "source": [
    "We will be fitting this function (Boltzmann equation) to your data points:\n",
    "$$ \\frac{I}{I_{\\text{max}}} = I_{norm} = \\frac{1}{1 + \\exp\\left(\\frac{V_{\\text{half}} - V}{k}\\right)}$$"
   ]
  },
  {
   "cell_type": "code",
   "execution_count": null,
   "id": "532677d2",
   "metadata": {},
   "outputs": [],
   "source": [
    "I_min = np.min(tail_currents)\n",
    "I_max = np.max(tail_currents)\n",
    "I_norm = (tail_currents - I_min) / (I_max - I_min)\n",
    "\n",
    "# Fit the Boltzmann function (sigmoidal curve) to the data and overlay\n",
    "from scipy.optimize import curve_fit\n",
    "def boltzmann(V, V_half, k):\n",
    "    return 1 / (1 + np.exp((V_half - V) / k))\n",
    "k_guess = 5 # Initial guess for the slope parameter to fit the curve\n",
    "popt, _ = curve_fit(boltzmann, voltage_steps, I_norm, p0=[np.median(voltage_steps), k_guess])\n",
    "V_half_fit, k_fit = popt\n",
    "V_fit = np.linspace(np.min(voltage_steps), np.max(voltage_steps), 500)\n",
    "I_fit = boltzmann(V_fit, V_half_fit, k_fit)\n",
    "print(f\"V_half = {V_half_fit:.2f} mV, k = {k_fit:.2f}\")\n",
    "\n",
    "# Plot normalized data points & fitted curve\n",
    "fig, ax = plt.subplots(figsize=(5, 4))\n",
    "ax.plot(voltage_steps, I_norm, 'o', label='Data', color='black')\n",
    "ax.plot(V_fit, I_fit, '-', label='Boltzmann fit', color='red')\n",
    "ax.text(0.5, 0.3, 'V$_{1/2}$ ='+f'{V_half_fit:.2f} mV \\nk = {k_fit:.2f}', transform=ax.transAxes, ha='left', va='top')\n",
    "ax.set_xlabel('Voltage (mV)')\n",
    "ax.set_ylabel('Normalized current (I/Imax)')\n",
    "ax.set_title('K Channel Activation Curve')\n",
    "ax.legend(handlelength=1, loc='upper left', handletextpad=0.5)\n",
    "plt.show()"
   ]
  },
  {
   "cell_type": "code",
   "execution_count": null,
   "id": "bac7a693",
   "metadata": {},
   "outputs": [],
   "source": []
  },
  {
   "cell_type": "code",
   "execution_count": null,
   "id": "6f719658",
   "metadata": {},
   "outputs": [],
   "source": []
  }
 ],
 "metadata": {
  "kernelspec": {
   "display_name": "Python (CSHL_IonChannels)",
   "language": "python",
   "name": "cshl_ionchannels"
  },
  "language_info": {
   "codemirror_mode": {
    "name": "ipython",
    "version": 3
   },
   "file_extension": ".py",
   "mimetype": "text/x-python",
   "name": "python",
   "nbconvert_exporter": "python",
   "pygments_lexer": "ipython3",
   "version": "3.11.13"
  }
 },
 "nbformat": 4,
 "nbformat_minor": 5
}
