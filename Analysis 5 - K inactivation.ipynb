{
 "cells": [
  {
   "cell_type": "markdown",
   "id": "b9fb1489",
   "metadata": {},
   "source": [
    "# K channels: inactivation"
   ]
  },
  {
   "cell_type": "markdown",
   "id": "b240b6a1",
   "metadata": {},
   "source": [
    "#### **Basic instructions:**\n",
    "#### 1. **To run code windows/blocks:** \n",
    "\n",
    "    - you can either hit the play button to the left of the code window \n",
    "\n",
    "    - or you can use they keyboard shortcut: select the block and press 'shift-enter'.\n",
    "\n",
    "#### 2. **The first time** you run this code notebook, you might get a popup asking to choose which version of Python to use (the python \"kernel\"). **Just hit enter** to choose the base/default version.\n",
    "\n",
    "#### 3. Make sure you data (.abf) files are in the \"data\" folder here on the left. You can just copy/paste the files from where they are saved on your computer."
   ]
  },
  {
   "cell_type": "code",
   "execution_count": null,
   "id": "10f2db92",
   "metadata": {},
   "outputs": [],
   "source": [
    "import numpy as np\n",
    "import matplotlib.pyplot as plt\n",
    "from utils import *\n",
    "update_plot_defaults()"
   ]
  },
  {
   "cell_type": "markdown",
   "id": "c1b0d022",
   "metadata": {},
   "source": [
    "## 1. Choose the data file you want to analyze\n",
    "\n",
    "#### Put the .abf files with your K channel recordings in the \"data/K_channels\" folder"
   ]
  },
  {
   "cell_type": "code",
   "execution_count": null,
   "id": "a0aa416c",
   "metadata": {},
   "outputs": [],
   "source": [
    "data_folder = \"data/2-K_channels\"\n",
    "\n",
    "from glob import glob\n",
    "data_files = glob(data_folder+\"/*.abf\")\n",
    "print(data_folder)\n",
    "data_files"
   ]
  },
  {
   "cell_type": "markdown",
   "id": "e949a52b",
   "metadata": {},
   "source": [
    "Choose which file you want to analyze and past the file name here:"
   ]
  },
  {
   "cell_type": "code",
   "execution_count": null,
   "id": "ee91c014",
   "metadata": {},
   "outputs": [],
   "source": [
    "# data_file = 'data/2-K_channels/2024_06_08_0007.abf'\n",
    "# data_file = 'data/2-K_channels/2024_06_08_0014.abf'\n",
    "\n",
    "data_file = 'data/2-K_channels/K_deact_3.abf'"
   ]
  },
  {
   "cell_type": "markdown",
   "id": "42ee024f",
   "metadata": {},
   "source": [
    "Now we can load the file and plot the raw data:"
   ]
  },
  {
   "cell_type": "code",
   "execution_count": null,
   "id": "c70b1a59",
   "metadata": {},
   "outputs": [],
   "source": [
    "traces = Trace.from_axon_file(filename=data_file, \n",
    "                              load_voltage=True, \n",
    "                              load_ttl=True,\n",
    "                              units=['pA', 'mV', 'V'], \n",
    "                              concatenate_sweeps=False)\n",
    "print(traces)\n",
    "\n",
    "time_units = 'ms' # specify seconds (s), or milliseconds (ms)\n",
    "\n",
    "# ----------------------------------------------------------------------------------------------------------------\n",
    "%matplotlib inline\n",
    "traces.plot(plot_voltage=True, sweep='all', time_units=time_units)\n",
    "plt.show()"
   ]
  },
  {
   "cell_type": "markdown",
   "id": "b4ad1622",
   "metadata": {},
   "source": [
    "## 2. Signal processing"
   ]
  },
  {
   "cell_type": "markdown",
   "id": "b5687b54",
   "metadata": {},
   "source": [
    "### 2.1. Optional: apply baseline correction\n",
    "\n",
    "If your baseline current is not zero, you may need to correct for that to get accurate measurements.\n",
    "\n",
    "Uncomment this cell block (highlight everything, then cmd+/ on macOS or ctrl+/ on Windows) to run it."
   ]
  },
  {
   "cell_type": "code",
   "execution_count": null,
   "id": "3501f71c",
   "metadata": {},
   "outputs": [],
   "source": [
    "# Change this to True if you want to subtract the baseline from the sweeps.\n",
    "subtract_baseline = True\n",
    "start_baseline = 0\n",
    "end_baseline = 0.1"
   ]
  },
  {
   "cell_type": "code",
   "execution_count": null,
   "id": "50def16c",
   "metadata": {},
   "outputs": [],
   "source": [
    "if subtract_baseline:\n",
    "    traces.subtract_baseline(start_time = start_baseline, \n",
    "                             end_time = end_baseline, \n",
    "                             time_units = time_units,  # specify seconds (s), or milliseconds (ms)\n",
    "                             channel = 'current')  # Options: 'current', 'voltage', 'all'\n",
    "    %matplotlib widget\n",
    "    ax1, ax2 = traces.plot(plot_voltage=True, plot_ttl=False, time_units=time_units, sweep='all')\n",
    "    ax1.set_title('After baseline subtraction', y=0.98)\n",
    "    plt.show()\n",
    "else:\n",
    "    print(\"BASELINE NOT SUBTRACTED\")\n"
   ]
  },
  {
   "cell_type": "markdown",
   "id": "ffac80c7",
   "metadata": {},
   "source": [
    "### 2.2. Optional: apply additional highpass/lowpass filtering\n",
    "\n",
    "Depending in you recording, you may have 50/60 Hz line noise, high-frequency noise, or drift in your recordings.\n",
    "\n",
    "The goal here is to only remove the noise with minimal distortion of the data, so be careful not to overdo it"
   ]
  },
  {
   "cell_type": "code",
   "execution_count": null,
   "id": "40f65cb6",
   "metadata": {},
   "outputs": [],
   "source": [
    "additional_filtering = False"
   ]
  },
  {
   "cell_type": "code",
   "execution_count": null,
   "id": "607acd4c",
   "metadata": {},
   "outputs": [],
   "source": [
    "if additional_filtering:\n",
    "    filtered_traces = traces\n",
    "    # Step 1: Detrend the data to remove linear or constant trends.\n",
    "    filtered_traces = filtered_traces.detrend(detrend_type='linear', num_segments=1)\n",
    "\n",
    "    # Step 2: Apply a highpass filter to remove low-frequency noise + lowpass to remove high-frequency noise\n",
    "    filtered_traces = filtered_traces.filter(\n",
    "        line_freq=60,    # Frequency (Hz) of electrical noise to remove: 50 Hz (in Europe) or 60 Hz (in the US).\n",
    "        width=0.5,         # Width (Hz) controls the width of frequency bands around the line frequency the filter cuts out.\n",
    "        highpass=0.5,   # Removes low-frequency drift. Set a value in Hz (e.g. 1 for 1 Hz).\n",
    "        lowpass=4900,    # Removes high-frequency noise. Set a value in Hz (e.g. 100 for 100 Hz).\n",
    "        order=4)         # Controls sharpness of the filter. Higher = sharper cutoff.\n",
    "\n",
    "    %matplotlib widget\n",
    "    ax = filtered_traces.plot(plot_voltage=False, plot_ttl=False)\n",
    "    ax.set_title('After filtering', y=0.98)\n",
    "    plt.show()"
   ]
  },
  {
   "cell_type": "markdown",
   "id": "7b99e284",
   "metadata": {},
   "source": [
    "Once you are happy with the filter setting, run the next cell to implement them:"
   ]
  },
  {
   "cell_type": "code",
   "execution_count": null,
   "id": "98952592",
   "metadata": {},
   "outputs": [],
   "source": [
    "if additional_filtering:\n",
    "    traces=filtered_traces"
   ]
  },
  {
   "cell_type": "markdown",
   "id": "f9f68842",
   "metadata": {},
   "source": [
    "## 3. Select what you want to measure"
   ]
  },
  {
   "cell_type": "markdown",
   "id": "f37defbf",
   "metadata": {},
   "source": [
    "### 3.1. Defining the time window\n",
    "\n",
    "First let's define the relevant time window where we want to measure the currents:\n",
    "\n",
    "(If you want to save the images, you can do it by clicking on the save icon in the top-right of the image when you hover over it)"
   ]
  },
  {
   "cell_type": "code",
   "execution_count": null,
   "id": "d4eac987",
   "metadata": {},
   "outputs": [],
   "source": [
    "# The start/end time just helps to zoom in on the traces.\n",
    "start_time = 120\n",
    "end_time = 500\n",
    "\n",
    "# The markers are important: the will define the window where we actually exctract peak current values from. Set them carefully.\n",
    "marker_1 = 216.2\n",
    "marker_2 = 410\n",
    "\n",
    "# ----------------------------------------------------------------------------------------------------------------------\n",
    "%matplotlib widget\n",
    "ax1,ax2 = traces.plot(plot_voltage=True, time_units=time_units, marker_1=marker_1, marker_2=marker_2, sweep='all')\n",
    "ax1.set_xlim(start_time,end_time)\n",
    "ax2.set_xlim(start_time,end_time)\n",
    "plt.show()"
   ]
  },
  {
   "cell_type": "markdown",
   "id": "916075f4",
   "metadata": {},
   "source": [
    "### 3.2. Measure the instantaneous currents (when channels are open)\n",
    "\n",
    "Here we will be using the timepoints from the markers we defined above and get the peak currents in that time window."
   ]
  },
  {
   "cell_type": "code",
   "execution_count": null,
   "id": "aa0660c1",
   "metadata": {},
   "outputs": [],
   "source": [
    "current_steps ,voltage_steps = traces.get_measurements(start_time=marker_1, end_time=marker_1+0.1, time_units=time_units, sweep='all', measurement_type='peak')\n",
    "\n",
    "%matplotlib inline\n",
    "ax1,ax2 = traces.plot(plot_voltage=True, time_units=time_units, marker_1=marker_1, marker_2=marker_2, sweep='all')\n",
    "ax1.scatter([marker_1]*len(current_steps), current_steps, color='red', marker='x', label=\"current measurement points for I-V\")\n",
    "ax1.legend(loc='upper left', bbox_to_anchor=(0., 0.1))\n",
    "plt.show()\n",
    "ax = plot_IV(voltage_steps, current_steps, xlabel_coords=(0.95,0.25), ylabel_coords=(0.4,0.6))\n",
    "plt.show()\n"
   ]
  },
  {
   "cell_type": "markdown",
   "id": "e7da37be",
   "metadata": {},
   "source": [
    "### 3.3. Optional: fit a line to the I-V points to estimate the reversal potential and conductance"
   ]
  },
  {
   "cell_type": "code",
   "execution_count": null,
   "id": "aaa4fdde",
   "metadata": {},
   "outputs": [],
   "source": [
    "ax = plot_IV(voltage_steps, current_steps, xlabel_coords=(0.95,0.4), ylabel_coords=(0.6,0.7))\n",
    "\n",
    "# Fit a line to the points\n",
    "from scipy.stats import linregress\n",
    "slope, intercept, r_value, p_value, std_err = linregress(voltage_steps, current_steps)\n",
    "ax.plot(voltage_steps, slope * voltage_steps + intercept, linestyle='--', color='r', label='Fit', linewidth=2)\n",
    "\n",
    "print(f\"G = slope = {slope:.3f} nS\")\n",
    "print(f\"Resistance = 1/slope = {1/slope * 1000:.3f} MOhm\")\n",
    "\n",
    "# Find the intercept on the x-axis (where current is zero) to get E_rev (reversal potential)\n",
    "E_reve = -intercept / slope\n",
    "ax.scatter(E_rev, 0, color='b', zorder=5)\n",
    "print(f\"Reversal potential: {E_rev:.3f} mV\")\n",
    "plt.show()"
   ]
  },
  {
   "cell_type": "markdown",
   "id": "48fcc4dd",
   "metadata": {},
   "source": [
    "### 3.4. Measure the decay timeconstant of the currents (fit an exponential to the current decay)"
   ]
  },
  {
   "cell_type": "code",
   "execution_count": null,
   "id": "f8b402b6",
   "metadata": {},
   "outputs": [],
   "source": [
    "# We need an initial guess for fitting the exponential curve\n",
    "# (if the fit doesn't work, try to change this value))\n",
    "tau_guess = 100 # milliseconds\n",
    "\n",
    "# If the fit still doesn't work, try to change the position of marker 1\n",
    "\n",
    "\n",
    "# -----------------------------------------------------------------------------------------------------------------\n",
    "cropped_traces = traces.crop(timepoint=marker_1, timepoint_2=marker_2, time_units=time_units)\n",
    "ax = cropped_traces.plot(plot_voltage=False, time_units=time_units, marker_1=0, marker_2=(marker_2-marker_1), sweep='all')\n",
    "\n",
    "current_between_markers = cropped_traces.current_data\n",
    "voltage_steps = list(cropped_traces.voltage_data[:, 0])\n",
    "time_ms = cropped_traces.time_ms\n",
    "\n",
    "def exponential_curve(time, I0, tau, I_inf):\n",
    "    return I0 * np.exp(-time / tau) + I_inf\n",
    "\n",
    "tau_values = []\n",
    "for i, trace in enumerate(current_between_markers):\n",
    "    I0_guess = trace[0]\n",
    "    I_inf_guess = trace[-1]\n",
    "    try:\n",
    "        fit_params,_ = curve_fit(exponential_curve, time_ms[0:], trace[0:], \n",
    "                                    p0=[I0_guess, tau_guess, I_inf_guess], maxfev=1000000)\n",
    "        V0_fit, tau_fit, Vinf_fit = fit_params\n",
    "        tau_values.append(tau_fit)\n",
    "\n",
    "        if np.abs(tau_fit) > 1000: # Remove outliers (bad fits), we are not expecting a tau > 1 second for these currents\n",
    "            tau_values.pop()\n",
    "            voltage_steps.pop(i)\n",
    "\n",
    "        # Overlay fit\n",
    "        fit_trace = exponential_curve(time_ms[0:], *fit_params)\n",
    "        ax.plot(time_ms[0:], fit_trace[0:], color='r', alpha=1, linewidth=1.5)\n",
    "    except RuntimeError:\n",
    "        print(\"Error fitting trace\")\n",
    "        tau_values.append(np.nan)\n",
    "        continue\n",
    "plt.show()"
   ]
  },
  {
   "cell_type": "markdown",
   "id": "1140585f",
   "metadata": {},
   "source": [
    "Finally, let's plot the the decay timeconstant vs the voltage steps applied."
   ]
  },
  {
   "cell_type": "code",
   "execution_count": null,
   "id": "e1d8e856",
   "metadata": {},
   "outputs": [],
   "source": [
    "fig, ax = plt.subplots(1, 1, figsize=(6, 4))\n",
    "ax.plot(voltage_steps, tau_values, 'o-')\n",
    "ax.set_ylabel('Tau (ms)')\n",
    "ax.set_xlabel('Voltage (mV)')\n",
    "plt.show()  "
   ]
  },
  {
   "cell_type": "code",
   "execution_count": null,
   "id": "a3f4e885",
   "metadata": {},
   "outputs": [],
   "source": []
  }
 ],
 "metadata": {
  "kernelspec": {
   "display_name": "CSHL_IonChannels",
   "language": "python",
   "name": "python3"
  },
  "language_info": {
   "codemirror_mode": {
    "name": "ipython",
    "version": 3
   },
   "file_extension": ".py",
   "mimetype": "text/x-python",
   "name": "python",
   "nbconvert_exporter": "python",
   "pygments_lexer": "ipython3",
   "version": "3.11.13"
  }
 },
 "nbformat": 4,
 "nbformat_minor": 5
}
