{
 "cells": [
  {
   "cell_type": "markdown",
   "id": "5109d920",
   "metadata": {},
   "source": [
    "HEKA files are organized hierarchically:\n",
    "\n",
    "PatchMasterFile (f)\n",
    " --> Groups\n",
    "    --> Series\n",
    "        --> Sweeps\n",
    "            --> Traces"
   ]
  },
  {
   "cell_type": "code",
   "execution_count": 69,
   "id": "bed8c308",
   "metadata": {},
   "outputs": [
    {
     "name": "stderr",
     "output_type": "stream",
     "text": [
      "/Users/ag1880/opt/anaconda3/envs/CSHL/lib/python3.11/site-packages/myokit/formats/heka/_patchmaster.py:125: UserWarning: PatchMaster file reading is new: There are no unit tests yet.\n",
      "  warnings.warn(\n",
      "/Users/ag1880/opt/anaconda3/envs/CSHL/lib/python3.11/site-packages/myokit/formats/heka/_patchmaster.py:161: UserWarning: Only PatchMaster version v2x90.2 is supported. Attempting to read version v2x90.5, 09-Apr-2019.\n",
      "  warnings.warn('Only PatchMaster version v2x90.2 is supported.'\n"
     ]
    }
   ],
   "source": [
    "import myokit.formats.heka as heka\n",
    "\n",
    "def load_heka_to_dict(file_path):\n",
    "    data_dict = {}\n",
    "\n",
    "    with heka.PatchMasterFile(file_path) as f:\n",
    "        for group in f:\n",
    "            group_label = group._label\n",
    "            data_dict[group_label] = {}\n",
    "\n",
    "            for series in group:\n",
    "                series_label = series._label\n",
    "                data_dict[group_label][series_label] = {}\n",
    "\n",
    "                for sweep_idx, sweep in enumerate(series):\n",
    "                    sweep_index = sweep_idx\n",
    "                    data_dict[group_label][series_label][sweep_index] = {}\n",
    "\n",
    "                    for trace in sweep:\n",
    "                        trace_label = trace.label()\n",
    "                        data_dict[group_label][series_label][sweep_index][trace_label] = trace\n",
    "\n",
    "    return data_dict\n",
    "\n",
    "file_path = 'data/example_HEKA.dat'\n",
    "heka_data = load_heka_to_dict(file_path)\n",
    "\n",
    "# Access voltage trace of first sweep in first series of first group\n",
    "trace = heka_data['(1;1)']['HCN'][0]['Imon-1']\n",
    "# print(trace['data'], trace['time'], trace['unit'])\n"
   ]
  },
  {
   "cell_type": "code",
   "execution_count": 88,
   "id": "fba0ade9",
   "metadata": {},
   "outputs": [
    {
     "data": {
      "text/plain": [
       "{'_filepath': '/Users/ag1880/github-repos/IonChannels_CSHL/data/example_HEKA.dat',\n",
       " '_filename': 'example_HEKA.dat',\n",
       " '_version': 'v2x90.5, 09-Apr-2019',\n",
       " '_handle': <_io.BufferedReader name='/Users/ag1880/github-repos/IonChannels_CSHL/data/example_HEKA.dat'>,\n",
       " '_time': datetime.datetime(2161, 4, 18, 11, 20, 22, 136001, tzinfo=datetime.timezone.utc),\n",
       " '_items': {'.dat': (256, 27845952),\n",
       "  '.pul': (27846208, 50192),\n",
       "  '.pgf': (27896400, 11364),\n",
       "  '.sol': None,\n",
       "  '.onl': None,\n",
       "  '.mth': None,\n",
       "  '.mrk': (27916932, 28),\n",
       "  '.amp': (27907764, 9168),\n",
       "  '.txt': None},\n",
       " '_f_onl': None,\n",
       " '_amp_tree': <myokit.formats.heka._patchmaster.AmplifierFile at 0x166e8c3d0>,\n",
       " '_stimulus_tree': <myokit.formats.heka._patchmaster.StimulusFile at 0x166e93690>,\n",
       " '_pulsed_tree': <myokit.formats.heka._patchmaster.PulsedFile at 0x166e92810>}"
      ]
     },
     "execution_count": 88,
     "metadata": {},
     "output_type": "execute_result"
    }
   ],
   "source": [
    "heka_data['(1;1)']['HCN'][0]['Imon-1']._file.__dict__"
   ]
  },
  {
   "cell_type": "code",
   "execution_count": 99,
   "id": "6cdf1b00",
   "metadata": {},
   "outputs": [
    {
     "data": {
      "text/plain": [
       "{'_parent': <myokit.formats.heka._patchmaster.AmplifierFile at 0x166e8c3d0>,\n",
       " '_children': [<myokit.formats.heka._patchmaster.AmplifierStateRecord at 0x166e8c310>,\n",
       "  <myokit.formats.heka._patchmaster.AmplifierStateRecord at 0x166e8c190>,\n",
       "  <myokit.formats.heka._patchmaster.AmplifierStateRecord at 0x166e8c210>,\n",
       "  <myokit.formats.heka._patchmaster.AmplifierStateRecord at 0x166e8d450>,\n",
       "  <myokit.formats.heka._patchmaster.AmplifierStateRecord at 0x166e8c090>,\n",
       "  <myokit.formats.heka._patchmaster.AmplifierStateRecord at 0x166e8f510>,\n",
       "  <myokit.formats.heka._patchmaster.AmplifierStateRecord at 0x166e8ff90>,\n",
       "  <myokit.formats.heka._patchmaster.AmplifierStateRecord at 0x166e8c0d0>],\n",
       " '_file': <myokit.formats.heka._patchmaster.PatchMasterFile at 0x166e8c4d0>}"
      ]
     },
     "execution_count": 99,
     "metadata": {},
     "output_type": "execute_result"
    }
   ],
   "source": [
    "heka_data['(1;1)']['HCN'][0]['Imon-1']._file._amp_tree._children[0].__dict__"
   ]
  },
  {
   "cell_type": "code",
   "execution_count": 102,
   "id": "ac90a70f",
   "metadata": {},
   "outputs": [
    {
     "data": {
      "text/plain": [
       "{'_filepath': '/Users/ag1880/github-repos/IonChannels_CSHL/data/example_HEKA.dat',\n",
       " '_filename': 'example_HEKA.dat',\n",
       " '_version': 'v2x90.5, 09-Apr-2019',\n",
       " '_handle': <_io.BufferedReader name='/Users/ag1880/github-repos/IonChannels_CSHL/data/example_HEKA.dat'>,\n",
       " '_time': datetime.datetime(2161, 4, 18, 11, 20, 22, 136001, tzinfo=datetime.timezone.utc),\n",
       " '_items': {'.dat': (256, 27845952),\n",
       "  '.pul': (27846208, 50192),\n",
       "  '.pgf': (27896400, 11364),\n",
       "  '.sol': None,\n",
       "  '.onl': None,\n",
       "  '.mth': None,\n",
       "  '.mrk': (27916932, 28),\n",
       "  '.amp': (27907764, 9168),\n",
       "  '.txt': None},\n",
       " '_f_onl': None,\n",
       " '_amp_tree': <myokit.formats.heka._patchmaster.AmplifierFile at 0x166e8c3d0>,\n",
       " '_stimulus_tree': <myokit.formats.heka._patchmaster.StimulusFile at 0x166e93690>,\n",
       " '_pulsed_tree': <myokit.formats.heka._patchmaster.PulsedFile at 0x166e92810>}"
      ]
     },
     "execution_count": 102,
     "metadata": {},
     "output_type": "execute_result"
    }
   ],
   "source": [
    "heka_data['(1;1)']['HCN'][0]['Imon-1']._file.__dict__"
   ]
  },
  {
   "cell_type": "code",
   "execution_count": 113,
   "id": "8140e22d",
   "metadata": {},
   "outputs": [
    {
     "data": {
      "text/plain": [
       "{'_parent': <myokit.formats.heka._patchmaster.StimulusChannel at 0x166e91810>,\n",
       " '_children': [],\n",
       " '_file': <myokit.formats.heka._patchmaster.PatchMasterFile at 0x166e8c4d0>,\n",
       " '_class': <SegmentClass.Constant: 0>,\n",
       " '_storage': <SegmentStorage.Stored: 1>,\n",
       " '_value': -0.14,\n",
       " '_value_increment': <SegmentIncrement.Increase: 0>,\n",
       " '_value_delta': 0.0,\n",
       " '_value_factor': 1.0,\n",
       " '_value_from_holding': False,\n",
       " '_value_from_parameter': False,\n",
       " '_duration': 1.5000000000000002,\n",
       " '_duration_increment': <SegmentIncrement.LogIncrease: 5>,\n",
       " '_duration_delta': 0.0,\n",
       " '_duration_factor': 1.0,\n",
       " '_duration_from_holding': False,\n",
       " '_duration_from_parameter': False}"
      ]
     },
     "execution_count": 113,
     "metadata": {},
     "output_type": "execute_result"
    }
   ],
   "source": [
    "heka_data['(1;1)']['HCN'][0]['Imon-1']._file._stimulus_tree._children[1]._children[0]._children[2].__dict__"
   ]
  },
  {
   "cell_type": "code",
   "execution_count": null,
   "id": "52189023",
   "metadata": {},
   "outputs": [],
   "source": []
  }
 ],
 "metadata": {
  "kernelspec": {
   "display_name": "CSHL",
   "language": "python",
   "name": "python3"
  },
  "language_info": {
   "codemirror_mode": {
    "name": "ipython",
    "version": 3
   },
   "file_extension": ".py",
   "mimetype": "text/x-python",
   "name": "python",
   "nbconvert_exporter": "python",
   "pygments_lexer": "ipython3",
   "version": "3.11.11"
  }
 },
 "nbformat": 4,
 "nbformat_minor": 5
}
