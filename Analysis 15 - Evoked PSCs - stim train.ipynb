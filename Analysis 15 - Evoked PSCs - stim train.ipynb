{
 "cells": [
  {
   "cell_type": "markdown",
   "id": "29c8dae6",
   "metadata": {},
   "source": [
    "# Evoked EPSCs and IPSCs"
   ]
  },
  {
   "cell_type": "markdown",
   "id": "347a75cf",
   "metadata": {},
   "source": [
    "#### **Basic instructions:**\n",
    "#### 1. **To run code windows/blocks:** \n",
    "\n",
    "    - you can either hit the play button to the left of the code window \n",
    "\n",
    "    - or you can use they keyboard shortcut: select the block and press 'shift-enter'.\n",
    "\n",
    "#### 2. **The first time** you run this code notebook, you might get a popup asking to choose which version of Python to use (the python \"kernel\"). **Just hit enter** to choose the base/default version.\n",
    "\n",
    "#### 3. Make sure you data (.abf) files are in the \"data\" folder here on the left. You can just copy/paste the files from where they are saved on your computer."
   ]
  },
  {
   "cell_type": "code",
   "execution_count": null,
   "id": "10f2db92",
   "metadata": {},
   "outputs": [],
   "source": [
    "%matplotlib widget\n",
    "import numpy as np\n",
    "import matplotlib.pyplot as plt\n",
    "from utils import *\n",
    "update_plot_defaults()\n",
    "# %load_ext autoreload\n",
    "# %autoreload 2"
   ]
  },
  {
   "cell_type": "markdown",
   "id": "c1b0d022",
   "metadata": {},
   "source": [
    "## 1. Choose the data file you want to analyze\n",
    "\n",
    "#### Put the .abf files with your Ih recordings in the \"data/Evoked_PSCs\" folder"
   ]
  },
  {
   "cell_type": "code",
   "execution_count": null,
   "id": "a0aa416c",
   "metadata": {},
   "outputs": [],
   "source": [
    "data_folder = \"data/7-Evoked_PSCs\"\n",
    "\n",
    "from glob import glob\n",
    "data_files = glob(data_folder+\"/*.abf\")\n",
    "print(data_folder)\n",
    "data_files"
   ]
  },
  {
   "cell_type": "markdown",
   "id": "e949a52b",
   "metadata": {},
   "source": [
    "Choose which file you want to analyze (copy name from above) and paste the file name here:"
   ]
  },
  {
   "cell_type": "code",
   "execution_count": null,
   "id": "ee91c014",
   "metadata": {},
   "outputs": [],
   "source": [
    "data_file = 'data/7-Evoked_PSCs/2025_06_13_0022_100hz.abf'"
   ]
  },
  {
   "cell_type": "markdown",
   "id": "42ee024f",
   "metadata": {},
   "source": [
    "Now we can load the file and plot the raw data:"
   ]
  },
  {
   "cell_type": "code",
   "execution_count": null,
   "id": "e790fc11",
   "metadata": {},
   "outputs": [],
   "source": [
    "traces = Trace.from_axon_file(filename=data_file, \n",
    "                              load_voltage=True, \n",
    "                              load_ttl=True,\n",
    "                              units=['pA', 'mV', 'V'], \n",
    "                              concatenate_sweeps=False)\n",
    "print(traces)"
   ]
  },
  {
   "cell_type": "code",
   "execution_count": null,
   "id": "dda90591",
   "metadata": {},
   "outputs": [],
   "source": [
    "time_units = 'ms'\n",
    "traces.plot(plot_ttl=True, plot_voltage=False, sweep='all', time_units=time_units)\n",
    "plt.show()"
   ]
  },
  {
   "cell_type": "markdown",
   "id": "64af1501",
   "metadata": {},
   "source": [
    "## 2. Signal processing"
   ]
  },
  {
   "cell_type": "markdown",
   "id": "4e2554be",
   "metadata": {},
   "source": [
    "### Optional: apply baseline correction\n",
    "\n",
    "If your baseline current is not zero, you may need to correct for that to get accurate measurements.\n",
    "\n",
    "Uncomment this cell block (highlight everything, then cmd+/ on macOS or ctrl+/ on Windows) to run it."
   ]
  },
  {
   "cell_type": "code",
   "execution_count": null,
   "id": "19eb2b36",
   "metadata": {},
   "outputs": [],
   "source": [
    "# Change this to True if you want to subtract the baseline from the sweeps.\n",
    "subtract_baseline = True"
   ]
  },
  {
   "cell_type": "code",
   "execution_count": null,
   "id": "aa4db8b0",
   "metadata": {},
   "outputs": [],
   "source": [
    "if subtract_baseline:\n",
    "    traces.subtract_baseline(start_time = 0, \n",
    "                             end_time = 10, \n",
    "                             time_units = time_units,  # specify seconds (s), or milliseconds (ms)\n",
    "                             channel = 'all')  # Options: 'current', 'voltage', 'all'\n",
    "    ax1, ax2 = traces.plot(plot_voltage=False, plot_ttl=True, time_units='ms')\n",
    "    ax1.set_title('After baseline subtraction', y=0.98)\n",
    "    plt.show()\n",
    "else:\n",
    "    print(\"BASELINE NOT SUBTRACTED\")\n"
   ]
  },
  {
   "cell_type": "markdown",
   "id": "65e01fcd",
   "metadata": {},
   "source": [
    "### Optional: apply additional highpass/lowpass filtering\n",
    "\n",
    "Depending in you recording, you may have 50/60 Hz line noise, high-frequency noise, or drift in your recordings.\n",
    "\n",
    "The goal here is to only remove the noise with minimal distortion of the data, so be careful not to overdo it"
   ]
  },
  {
   "cell_type": "code",
   "execution_count": null,
   "id": "38c0cb56",
   "metadata": {},
   "outputs": [],
   "source": [
    "# Change this to True if you want to subtract the baseline from the sweeps.\n",
    "additional_filtering = False"
   ]
  },
  {
   "cell_type": "code",
   "execution_count": null,
   "id": "63437c56",
   "metadata": {},
   "outputs": [],
   "source": [
    "if additional_filtering:\n",
    "    filtered_traces = traces\n",
    "    # Step 1: Detrend the data to remove linear or constant trends.\n",
    "    filtered_traces = filtered_traces.detrend(detrend_type='linear', num_segments=1)\n",
    "\n",
    "    # Step 2: Apply a highpass filter to remove low-frequency noise + lowpass to remove high-frequency noise\n",
    "    filtered_traces = filtered_traces.filter(\n",
    "        line_freq=60,    # Frequency (Hz) of electrical noise to remove: 50 Hz (in Europe) or 60 Hz (in the US).\n",
    "        width=1,         # Width (Hz) controls the width of frequency bands around the line frequency the filter cuts out.\n",
    "        highpass=0.01,   # Removes low-frequency drift. Set a value in Hz (e.g. 1 for 1 Hz).\n",
    "        lowpass=2000,    # Removes high-frequency noise. Set a value in Hz (e.g. 100 for 100 Hz).\n",
    "        order=4)         # Controls sharpness of the filter. Higher = sharper cutoff.\n",
    "\n",
    "\n",
    "    ax = filtered_traces.plot(plot_voltage=False, plot_ttl=False)\n",
    "    ax.set_title('After filtering', y=0.98)\n",
    "    plt.show()"
   ]
  },
  {
   "cell_type": "markdown",
   "id": "f934a474",
   "metadata": {},
   "source": [
    "Once you are happy with the filter setting, run the next cell to implement them:"
   ]
  },
  {
   "cell_type": "code",
   "execution_count": null,
   "id": "775a5a22",
   "metadata": {},
   "outputs": [],
   "source": [
    "if additional_filtering:\n",
    "    traces=filtered_traces"
   ]
  },
  {
   "cell_type": "markdown",
   "id": "f9f68842",
   "metadata": {},
   "source": [
    "## 3. Measure cumulative EPSCs/IPSCs amplitudes"
   ]
  },
  {
   "cell_type": "code",
   "execution_count": null,
   "id": "48b84e12",
   "metadata": {},
   "outputs": [],
   "source": [
    "# Find positive current peaks above threshold\n",
    "stim_times = traces.get_event_times(threshold=-5000, \n",
    "                                    polarity='negative', \n",
    "                                    time_units=time_units, \n",
    "                                    channel='current', sweep=0)\n",
    "# traces.get_ttl_events(threshold=0.5, edge='rising', time_units='ms')\n",
    "print(f\"Stim times: {stim_times} ms\")"
   ]
  },
  {
   "cell_type": "markdown",
   "id": "2c03b696",
   "metadata": {},
   "source": [
    "Choose a window size around each stim"
   ]
  },
  {
   "cell_type": "code",
   "execution_count": null,
   "id": "07ca3d2a",
   "metadata": {},
   "outputs": [],
   "source": [
    "window_size = 19 #ms\n",
    "\n",
    "stim_time = stim_times[0]\n",
    "trace_crop = traces.crop(timepoint=stim_time-1, window=window_size, time_units=time_units)\n",
    "ax = trace_crop.plot(plot_voltage=False, plot_ttl=False, time_units=time_units, sweep='all')\n",
    "ax.set_ylim(bottom=-1000, top=1000)\n",
    "ax.set_title('Single stim',y=0.95)\n",
    "plt.show()  "
   ]
  },
  {
   "cell_type": "markdown",
   "id": "4aeaccef",
   "metadata": {},
   "source": [
    "Measure cumulative currents"
   ]
  },
  {
   "cell_type": "code",
   "execution_count": null,
   "id": "033b03d2",
   "metadata": {},
   "outputs": [],
   "source": [
    "abs_currents = []\n",
    "for i, stim_time in enumerate(stim_times):\n",
    "    trace_crop = traces.crop(timepoint=stim_time-1, window=window_size, time_units=time_units)\n",
    "    baseline_all_sweeps = trace_crop.current_data[:,0]\n",
    "    current_all_sweeps, _ = trace_crop.get_measurements(start_time=3, end_time=15, measurement_type='min', time_units='ms')\n",
    "    current_all_sweeps = current_all_sweeps - baseline_all_sweeps\n",
    "    abs_current = np.abs(np.mean(current_all_sweeps))\n",
    "    abs_currents.append(abs_current)   \n",
    "\n",
    "cumulative_current = np.cumsum(abs_currents)\n",
    "%matplotlib inline\n",
    "fig,ax = plt.subplots(figsize=(8,3))\n",
    "x = np.arange(len(cumulative_current))\n",
    "ax.plot(x, cumulative_current, '-o', color='k')\n",
    "ax.set_xticks(x)\n",
    "ax.set_ylabel('Current (pA)')\n",
    "ax.set_xlabel(\"stim nr.\")\n",
    "\n",
    "# Fit a line to the points\n",
    "fit_start_point = 7\n",
    "from scipy.stats import linregress\n",
    "x_fit = x[fit_start_point:]\n",
    "current_fit = cumulative_current[fit_start_point:]\n",
    "slope, intercept, r_value, p_value, std_err = linregress(x_fit, current_fit)\n",
    "fit_line = slope * x + intercept\n",
    "ax.plot(x, fit_line, linestyle='--', color='r', label='Fit', linewidth=2)\n",
    "ylims = ax.get_ylim()\n",
    "ax.text(len(x)/2, (ylims[1]-ylims[0])/5, f\"Slope = {slope:.2f} \\nIntercept = {intercept:.2f} pA\")\n",
    "plt.show()\n",
    "\n",
    "# print(f\"Slope: {slope:.2f}, Intercept: {intercept:.2f}\")\n"
   ]
  },
  {
   "cell_type": "code",
   "execution_count": null,
   "id": "1b37be69",
   "metadata": {},
   "outputs": [],
   "source": []
  }
 ],
 "metadata": {
  "kernelspec": {
   "display_name": "CSHL_IonChannels",
   "language": "python",
   "name": "python3"
  },
  "language_info": {
   "codemirror_mode": {
    "name": "ipython",
    "version": 3
   },
   "file_extension": ".py",
   "mimetype": "text/x-python",
   "name": "python",
   "nbconvert_exporter": "python",
   "pygments_lexer": "ipython3",
   "version": "3.11.13"
  }
 },
 "nbformat": 4,
 "nbformat_minor": 5
}
