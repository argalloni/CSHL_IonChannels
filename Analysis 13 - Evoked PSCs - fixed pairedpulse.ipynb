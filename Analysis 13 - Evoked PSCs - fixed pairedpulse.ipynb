{
 "cells": [
  {
   "cell_type": "markdown",
   "id": "29c8dae6",
   "metadata": {},
   "source": [
    "# Evoked EPSCs and IPSCs"
   ]
  },
  {
   "cell_type": "markdown",
   "id": "aa81e42a",
   "metadata": {},
   "source": [
    "#### **Basic instructions:**\n",
    "#### 1. **To run code cells**, you can either hit the play button to the left of the cell, or you can select the cell and **press shift-enter**.\n",
    "\n",
    "#### 2. **The first time** you run this code notebook, you might get a popup asking to choose which version of Python to use (the python \"kernel\"). **Just hit enter** to choose the base/default version.\n",
    "\n",
    "#### 3. Make sure you data (.abf) files are in the \"data\" folder here on the left. You can just copy/paste the files over from where they are saved on your computer."
   ]
  },
  {
   "cell_type": "code",
   "execution_count": null,
   "id": "10f2db92",
   "metadata": {},
   "outputs": [],
   "source": [
    "%matplotlib widget\n",
    "import numpy as np\n",
    "import matplotlib.pyplot as plt\n",
    "from utils import *\n",
    "update_plot_defaults()\n",
    "# %load_ext autoreload\n",
    "# %autoreload 2"
   ]
  },
  {
   "cell_type": "markdown",
   "id": "c1b0d022",
   "metadata": {},
   "source": [
    "## 1. Choose the data file you want to analyze\n",
    "\n",
    "#### Put the .abf files with your Ih recordings in the \"data/Evoked_PSCs\" folder"
   ]
  },
  {
   "cell_type": "code",
   "execution_count": null,
   "id": "a0aa416c",
   "metadata": {},
   "outputs": [],
   "source": [
    "data_folder = \"data/7-Evoked_PSCs\"\n",
    "\n",
    "from glob import glob\n",
    "data_files = glob(data_folder+\"/*.abf\")\n",
    "print(data_folder)\n",
    "data_files"
   ]
  },
  {
   "cell_type": "markdown",
   "id": "e949a52b",
   "metadata": {},
   "source": [
    "Choose which file you want to analyze (copy name from above) and paste the file name here:"
   ]
  },
  {
   "cell_type": "code",
   "execution_count": null,
   "id": "ee91c014",
   "metadata": {},
   "outputs": [],
   "source": [
    "# data_file = 'data/7-Evoked_PSCs/2025_06_13_0008.abf'\n",
    "# data_file = 'data/7-Evoked_PSCs/2025_06_13_0012.abf'\n",
    "data_file = 'data/7-Evoked_PSCs/2025_06_13_0018.abf'"
   ]
  },
  {
   "cell_type": "markdown",
   "id": "42ee024f",
   "metadata": {},
   "source": [
    "Now we can load the file and plot the raw data:"
   ]
  },
  {
   "cell_type": "code",
   "execution_count": null,
   "id": "e790fc11",
   "metadata": {},
   "outputs": [],
   "source": [
    "traces = Trace.from_axon_file(filename=data_file, \n",
    "                              load_voltage=True, \n",
    "                              load_ttl=True,\n",
    "                              units=['pA', 'mV', 'V'], \n",
    "                              concatenate_sweeps=False)\n",
    "print(traces)\n",
    "\n",
    "traces.plot(plot_ttl=False, plot_voltage=False, sweep='all', time_units='ms')\n",
    "# ax1, ax2 = traces.plot(plot_voltage=True, sweep='all')\n",
    "plt.show()"
   ]
  },
  {
   "cell_type": "markdown",
   "id": "64af1501",
   "metadata": {},
   "source": [
    "## 2. Signal processing"
   ]
  },
  {
   "cell_type": "markdown",
   "id": "65e01fcd",
   "metadata": {},
   "source": [
    "### Optional: apply additional highpass/lowpass filtering\n",
    "\n",
    "Depending in you recording, you may have 50/60 Hz line noise, high-frequency noise, or drift in your recordings.\n",
    "\n",
    "The goal here is to only remove the noise with minimal distortion of the data, so be careful not to overdo it"
   ]
  },
  {
   "cell_type": "code",
   "execution_count": null,
   "id": "38c0cb56",
   "metadata": {},
   "outputs": [],
   "source": [
    "# Change this to True if you want to subtract the baseline from the sweeps.\n",
    "additional_filtering = True"
   ]
  },
  {
   "cell_type": "code",
   "execution_count": null,
   "id": "63437c56",
   "metadata": {},
   "outputs": [],
   "source": [
    "if additional_filtering:\n",
    "    filtered_traces = traces\n",
    "    # Step 1: Detrend the data to remove linear or constant trends.\n",
    "    # filtered_traces = filtered_traces.detrend(detrend_type='linear', num_segments=1)\n",
    "\n",
    "    # Step 2: Apply a highpass filter to remove low-frequency noise + lowpass to remove high-frequency noise\n",
    "    filtered_traces = filtered_traces.filter(\n",
    "        line_freq=60,    # Frequency (Hz) of electrical noise to remove: 50 Hz (in Europe) or 60 Hz (in the US).\n",
    "        width=1,         # Width (Hz) controls the width of frequency bands around the line frequency the filter cuts out.\n",
    "        highpass=None,   # Removes low-frequency drift. Set a value in Hz (e.g. 1 for 1 Hz).\n",
    "        lowpass=2000,    # Removes high-frequency noise. Set a value in Hz (e.g. 100 for 100 Hz).\n",
    "        order=4)         # Controls sharpness of the filter. Higher = sharper cutoff.\n",
    "\n",
    "\n",
    "    ax = filtered_traces.plot(plot_voltage=False, plot_ttl=False, sweep='all')\n",
    "    ax.set_title('After filtering', y=0.98)\n",
    "    plt.show()"
   ]
  },
  {
   "cell_type": "markdown",
   "id": "f934a474",
   "metadata": {},
   "source": [
    "Once you are happy with the filter setting, run the next cell to implement them:"
   ]
  },
  {
   "cell_type": "code",
   "execution_count": null,
   "id": "775a5a22",
   "metadata": {},
   "outputs": [],
   "source": [
    "if additional_filtering:\n",
    "    traces=filtered_traces"
   ]
  },
  {
   "cell_type": "markdown",
   "id": "c09d0532",
   "metadata": {},
   "source": [
    "### Optional: apply baseline correction\n",
    "\n",
    "If your baseline current is not zero, you may need to correct for that to get accurate measurements.\n",
    "\n",
    "Uncomment this cell block (highlight everything, then cmd+/ on macOS or ctrl+/ on Windows) to run it."
   ]
  },
  {
   "cell_type": "code",
   "execution_count": null,
   "id": "e1196a7e",
   "metadata": {},
   "outputs": [],
   "source": [
    "# Change this to True if you want to subtract the baseline from the sweeps.\n",
    "subtract_baseline = True"
   ]
  },
  {
   "cell_type": "code",
   "execution_count": null,
   "id": "bb17ef3a",
   "metadata": {},
   "outputs": [],
   "source": [
    "if subtract_baseline:\n",
    "    traces.subtract_baseline(start_time = 0, \n",
    "                             end_time = 10, \n",
    "                             time_units = 'ms',  # specify seconds (s), or milliseconds (ms)\n",
    "                             channel = 'all')  # Options: 'current', 'voltage', 'all'\n",
    "    ax1 = traces.plot(plot_voltage=False, plot_ttl=False, time_units='ms', sweep='all')\n",
    "    ax1.set_title('After baseline subtraction', y=0.98)\n",
    "    plt.show()\n",
    "else:\n",
    "    print(\"BASELINE NOT SUBTRACTED\")\n"
   ]
  },
  {
   "cell_type": "markdown",
   "id": "f9f68842",
   "metadata": {},
   "source": [
    "## 3. Measure EPSCs/IPSCs to get paired pulse ratio\n",
    "\n",
    "(If you want to save images, click on the save icon on the left when you hover over the image)"
   ]
  },
  {
   "cell_type": "markdown",
   "id": "03f7d166",
   "metadata": {},
   "source": [
    "### 3.1. Get the single-stim response\n"
   ]
  },
  {
   "cell_type": "markdown",
   "id": "c8048f7b",
   "metadata": {},
   "source": [
    "Here we will determine the event times based on where the stim artifact (capacitive transient) is"
   ]
  },
  {
   "cell_type": "code",
   "execution_count": null,
   "id": "9d7eff6a",
   "metadata": {},
   "outputs": [],
   "source": [
    "# Find positive current peaks above threshold\n",
    "stim_times = traces.get_event_times(threshold=200, \n",
    "                                    polarity='positive', \n",
    "                                    time_units='ms', \n",
    "                                    channel='current', sweep=0)\n",
    "print(f\"Stim times: {stim_times} ms\")"
   ]
  },
  {
   "cell_type": "code",
   "execution_count": null,
   "id": "718f29c5",
   "metadata": {},
   "outputs": [],
   "source": [
    "window_size = 100 #ms\n",
    "single_stim_traces = traces.crop(timepoint=stim_times[0], window=window_size, time_units='ms')\n",
    "ax = single_stim_traces.plot(plot_voltage=False, plot_ttl=False, time_units='ms', sweep='all')\n",
    "ax.set_title('Single stim',y=0.95)\n",
    "plt.show()"
   ]
  },
  {
   "cell_type": "markdown",
   "id": "980e371d",
   "metadata": {},
   "source": [
    "#### Optional: remove bad traces"
   ]
  },
  {
   "cell_type": "code",
   "execution_count": null,
   "id": "875608e1",
   "metadata": {},
   "outputs": [],
   "source": [
    "remove_spikes = False\n",
    "\n",
    "# ---------------------------------------------------------------------------------------------------------\n",
    "if remove_spikes:\n",
    "    # Remove sweeps with positive current spikes above or below threshold\n",
    "    info = single_stim_traces.remove_sweeps_with_spikes(threshold=-2000, polarity='negative', \n",
    "                                                channel='current', return_info=True)\n",
    "\n",
    "    ax = single_stim_traces.plot(plot_voltage=False, plot_ttl=False, time_units='ms', sweep='all')\n",
    "    # ax.set_ylim(bottom=-600, top=100)\n",
    "    ax.set_title('Single stim (spikes removed)',y=0.95)\n",
    "    plt.show()"
   ]
  },
  {
   "cell_type": "markdown",
   "id": "b956f5ef",
   "metadata": {},
   "source": [
    "#### Measure single-stim amplitudes"
   ]
  },
  {
   "cell_type": "code",
   "execution_count": null,
   "id": "76581e2f",
   "metadata": {},
   "outputs": [],
   "source": [
    "single_stim_currents, _ = single_stim_traces.get_measurements(start_time=2, \n",
    "                                                            end_time=15, \n",
    "                                                            measurement_type='min', \n",
    "                                                            time_units='ms')\n",
    "fig,ax = plt.subplots(figsize=(8,3))\n",
    "ax.plot(single_stim_currents, '-o')\n",
    "ax.set_xticks(range(len(single_stim_currents)))\n",
    "ax.set_ylabel('single-stim currents (pA)')\n",
    "ax.set_xlabel(\"sweep nr.\")\n",
    "plt.show()"
   ]
  },
  {
   "cell_type": "markdown",
   "id": "501dc7bc",
   "metadata": {},
   "source": [
    "### 3.2. Get the response to the first paired-pulse stim"
   ]
  },
  {
   "cell_type": "code",
   "execution_count": null,
   "id": "84831a99",
   "metadata": {},
   "outputs": [],
   "source": [
    "first_pulse_traces = traces.crop(timepoint=stim_times[1], window=window_size/2, time_units='ms')\n",
    "ax = first_pulse_traces.plot(plot_voltage=False, plot_ttl=False, time_units='ms', sweep='all')\n",
    "ax.set_title('First paired-pulse stim',y=0.95)\n",
    "plt.show()"
   ]
  },
  {
   "cell_type": "markdown",
   "id": "cf89c97f",
   "metadata": {},
   "source": [
    "#### Optional: remove bad traces"
   ]
  },
  {
   "cell_type": "code",
   "execution_count": null,
   "id": "f953e6ef",
   "metadata": {},
   "outputs": [],
   "source": [
    "remove_spikes = False\n",
    "\n",
    "# ---------------------------------------------------------------------------------------------------------\n",
    "if remove_spikes:\n",
    "    # Remove sweeps with positive current spikes above or below threshold\n",
    "    info = first_pulse_traces.remove_sweeps_with_spikes(threshold=-2000, polarity='negative', \n",
    "                                                channel='current', return_info=True)\n",
    "    ax = first_pulse_traces.plot(plot_voltage=False, plot_ttl=False, time_units='ms', sweep='all')\n",
    "    # ax.set_ylim(bottom=-600, top=100)\n",
    "    ax.set_title('First paired-pulse stim (spikes removed)',y=0.95)\n",
    "    plt.show()"
   ]
  },
  {
   "cell_type": "markdown",
   "id": "4b0e5bc6",
   "metadata": {},
   "source": [
    "#### Measure first paired-pulse amplitudes"
   ]
  },
  {
   "cell_type": "code",
   "execution_count": null,
   "id": "a6de49b7",
   "metadata": {},
   "outputs": [],
   "source": [
    "first_pulse_currents,_ = first_pulse_traces.get_measurements(start_time=4, \n",
    "                                                            end_time=15, \n",
    "                                                            measurement_type='min', \n",
    "                                                            time_units='ms')\n",
    "fig,ax = plt.subplots(figsize=(8,3))\n",
    "ax.plot(first_pulse_currents, '-o')\n",
    "ax.set_xticks(range(len(first_pulse_currents)))\n",
    "ax.set_ylabel('first paired-pulse currents (pA)')\n",
    "ax.set_xlabel(\"sweep nr.\")\n",
    "plt.show()"
   ]
  },
  {
   "cell_type": "markdown",
   "id": "cd096043",
   "metadata": {},
   "source": [
    "### 3.3. Get the response to the second paired-pulse stim"
   ]
  },
  {
   "cell_type": "markdown",
   "id": "bc3254e2",
   "metadata": {},
   "source": [
    "#### Subtract single-stim response from paired-pulse trace\n",
    "\n",
    "This allows us to recover the shape/amplitude of the second pulse, without the contribution of the first pulse"
   ]
  },
  {
   "cell_type": "code",
   "execution_count": null,
   "id": "26d300bf",
   "metadata": {},
   "outputs": [],
   "source": [
    "paired_pulse_traces = traces.crop(timepoint=stim_times[1], window=window_size, time_units='ms')\n",
    "ax = paired_pulse_traces.plot(plot_voltage=False, plot_ttl=False, time_units='ms', sweep='all')\n",
    "ax.set_title('Paired stim',y=0.95)\n",
    "plt.show()"
   ]
  },
  {
   "cell_type": "markdown",
   "id": "b6c5cbe2",
   "metadata": {},
   "source": [
    "Now we will get the average \"first stim\" response and subtract it from all of the paired-pulse sweeps"
   ]
  },
  {
   "cell_type": "code",
   "execution_count": null,
   "id": "ebefd252",
   "metadata": {},
   "outputs": [],
   "source": [
    "subtracted_traces = paired_pulse_traces.copy()\n",
    "subtract_average_single_stim = True   # We can either subtract the average single-stim, or subtract each individual single-stim (from every sweep)\n",
    "\n",
    "if subtract_average_single_stim:\n",
    "    avg_single_stim_trace = np.mean(single_stim_traces.current_data, axis=0)\n",
    "    subtracted_traces.current_data -= avg_single_stim_trace\n",
    "else:\n",
    "    subtracted_traces.current_data -= single_stim_traces.current_data\n",
    "\n",
    "ax = subtracted_traces.plot(plot_voltage=False, plot_ttl=False, time_units='ms', sweep='all')\n",
    "ax.set_title('After subtraction',y=0.95)\n",
    "plt.show()"
   ]
  },
  {
   "cell_type": "markdown",
   "id": "fc149779",
   "metadata": {},
   "source": [
    "#### Measure second paired-pulse amplitudes"
   ]
  },
  {
   "cell_type": "code",
   "execution_count": null,
   "id": "66bcffee",
   "metadata": {},
   "outputs": [],
   "source": [
    "# Find stim artifact of the subtracted trace\n",
    "stim_times = subtracted_traces.get_event_times(threshold=200, \n",
    "                                            polarity='positive', \n",
    "                                            time_units='ms', \n",
    "                                            channel='current', sweep=0)\n",
    "print(f\"Stim times: {stim_times} ms\")"
   ]
  },
  {
   "cell_type": "code",
   "execution_count": null,
   "id": "96816216",
   "metadata": {},
   "outputs": [],
   "source": [
    "second_pulse_currents,_ = subtracted_traces.get_measurements(start_time=stim_times[0]+2, \n",
    "                                                            end_time=stim_times[0]+17, \n",
    "                                                            measurement_type='min', \n",
    "                                                            time_units='ms')\n",
    "fig,ax = plt.subplots(figsize=(8,3))\n",
    "ax.plot(second_pulse_currents, '-o')\n",
    "ax.set_xticks(range(len(second_pulse_currents)))\n",
    "ax.set_ylabel('second paired-pulse currents (pA)')\n",
    "ax.set_xlabel(\"sweep nr.\")\n",
    "plt.show()"
   ]
  },
  {
   "cell_type": "markdown",
   "id": "69d1059e",
   "metadata": {},
   "source": [
    "### 3.4. Plot paired-pulse ratio"
   ]
  },
  {
   "cell_type": "code",
   "execution_count": null,
   "id": "03413c28",
   "metadata": {},
   "outputs": [],
   "source": [
    "if len(first_pulse_currents) == len(second_pulse_currents):\n",
    "    paired_pulse_ratios = second_pulse_currents / first_pulse_currents\n",
    "    avg_ppr = np.mean(paired_pulse_ratios)\n",
    "    fig,ax = plt.subplots()\n",
    "    ax.plot(paired_pulse_ratios, '-o')\n",
    "    ax.set_xticks(range(len(second_pulse_currents)))\n",
    "    xlims = ax.get_xlim()\n",
    "    ax.set_ylim(bottom=0)\n",
    "    ylims = ax.get_ylim()\n",
    "    ax.hlines(1, xlims[0],xlims[1],linestyle='--',color='gray')\n",
    "    ax.text(0, ylims[1], f\"Paired-pulse ratio: {avg_ppr:.2f}\", fontsize=10, ha='left', va='bottom')\n",
    "    ax.set_ylabel('Paired-pulse ratios')\n",
    "    ax.set_xlabel(\"sweep nr.\")\n",
    "    plt.show()\n",
    "else:\n",
    "    avg_second_pulse = np.mean(second_pulse_currents)\n",
    "    avg_first_pulse = np.mean(first_pulse_currents)\n",
    "    paired_pulse_ratio = avg_second_pulse / avg_first_pulse\n",
    "    print(f\"Paired-pulse ratio: {paired_pulse_ratio}\")\n"
   ]
  },
  {
   "cell_type": "code",
   "execution_count": null,
   "id": "6f719658",
   "metadata": {},
   "outputs": [],
   "source": []
  }
 ],
 "metadata": {
  "kernelspec": {
   "display_name": "CSHL_IonChannels",
   "language": "python",
   "name": "python3"
  },
  "language_info": {
   "codemirror_mode": {
    "name": "ipython",
    "version": 3
   },
   "file_extension": ".py",
   "mimetype": "text/x-python",
   "name": "python",
   "nbconvert_exporter": "python",
   "pygments_lexer": "ipython3",
   "version": "3.11.13"
  }
 },
 "nbformat": 4,
 "nbformat_minor": 5
}
