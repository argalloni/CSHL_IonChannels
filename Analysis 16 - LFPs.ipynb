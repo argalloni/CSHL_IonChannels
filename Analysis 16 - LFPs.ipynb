{
 "cells": [
  {
   "cell_type": "markdown",
   "id": "29c8dae6",
   "metadata": {},
   "source": [
    "# Local Field Potentials (LFPs)"
   ]
  },
  {
   "cell_type": "markdown",
   "id": "b3165e7e",
   "metadata": {},
   "source": [
    "#### **Basic instructions:**\n",
    "#### 1. **To run code windows/blocks:** \n",
    "\n",
    "    - you can either hit the play button to the left of the code window \n",
    "\n",
    "    - or you can use they keyboard shortcut: select the block and press 'shift-enter'.\n",
    "\n",
    "#### 2. **The first time** you run this code notebook, you might get a popup asking to choose which version of Python to use (the python \"kernel\"). **Just hit enter** to choose the base/default version.\n",
    "\n",
    "#### 3. Make sure you data (.abf) files are in the \"data\" folder here on the left. You can just copy/paste the files from where they are saved on your computer."
   ]
  },
  {
   "cell_type": "code",
   "execution_count": null,
   "id": "10f2db92",
   "metadata": {},
   "outputs": [],
   "source": [
    "import numpy as np\n",
    "import matplotlib.pyplot as plt\n",
    "from utils import *\n",
    "update_plot_defaults()\n",
    "# %load_ext autoreload\n",
    "# %autoreload 2"
   ]
  },
  {
   "cell_type": "markdown",
   "id": "c1b0d022",
   "metadata": {},
   "source": [
    "## 1. Choose the data files you want to analyze\n",
    "\n",
    "#### Put the .abf files with your recordings in the \"data/LFPs\" folder"
   ]
  },
  {
   "cell_type": "code",
   "execution_count": null,
   "id": "a0aa416c",
   "metadata": {},
   "outputs": [],
   "source": [
    "data_folder = \"data/8-LFPs\"\n",
    "\n",
    "from glob import glob\n",
    "data_files = glob(data_folder+\"/*.abf\")\n",
    "print(data_folder)\n",
    "data_files"
   ]
  },
  {
   "cell_type": "markdown",
   "id": "e949a52b",
   "metadata": {},
   "source": [
    "Choose which file you want to analyze (copy name from above) and paste the file name here:\n",
    "\n",
    "You will also need to enter the stimulus currents you used for each recording, since they are not recorded by your acquisition setup"
   ]
  },
  {
   "cell_type": "code",
   "execution_count": null,
   "id": "ee91c014",
   "metadata": {},
   "outputs": [],
   "source": [
    "# data_files = ['data/8-LFPs/50uA.abf',\n",
    "#             'data/8-LFPs/100uA.abf',\n",
    "#             'data/8-LFPs/150uA.abf',\n",
    "#             'data/8-LFPs/200uA.abf',\n",
    "#             'data/8-LFPs/250uA.abf']\n",
    "\n",
    "# data_files = ['data/8-LFPs/no_picro_50uA.abf',\n",
    "#             'data/8-LFPs/no_picro_100uA.abf',\n",
    "#             'data/8-LFPs/no_picro_150uA.abf',\n",
    "#             'data/8-LFPs/no_picro_200uA.abf',\n",
    "#             'data/8-LFPs/no_picro_250uA.abf']\n",
    "\n",
    "data_files = ['data/8-LFPs/picro_50uA.abf',\n",
    "            'data/8-LFPs/picro_100uA.abf',\n",
    "            'data/8-LFPs/picro_150uA.abf',\n",
    "            'data/8-LFPs/picro_200uA.abf',\n",
    "            'data/8-LFPs/picro_250uA.abf']\n",
    "\n",
    "stim_amplitudes = [50,100,150,200,250]"
   ]
  },
  {
   "cell_type": "markdown",
   "id": "42ee024f",
   "metadata": {},
   "source": [
    "Let's start by loading just one file and plot the raw data:"
   ]
  },
  {
   "cell_type": "code",
   "execution_count": null,
   "id": "e790fc11",
   "metadata": {},
   "outputs": [],
   "source": [
    "data_file = data_files[-1]\n",
    "\n",
    "traces = Trace.from_axon_file(filename=data_file, \n",
    "                              recording_mode=\"I clamp\",\n",
    "                              load_ttl=False,\n",
    "                              units=['pA','mV'])\n",
    "print(traces)\n",
    "\n",
    "time_units = 'ms' # specify seconds (s), or milliseconds (ms)\n",
    "\n",
    "# ----------------------------------------------------------------------------------------------------------------\n",
    "%matplotlib inline\n",
    "ax1 = traces.plot(plot_current=False, plot_voltage=True, sweep='all', time_units=time_units, plot_mean=True, height_ratios=(1,3))\n",
    "# ax1.set_ylim(-30,-20)\n",
    "plt.show()"
   ]
  },
  {
   "cell_type": "markdown",
   "id": "da26f54e",
   "metadata": {},
   "source": [
    "Now let's get the average trace for each recording (with different stimulation current) and combine them into a single object"
   ]
  },
  {
   "cell_type": "code",
   "execution_count": null,
   "id": "615cf3cc",
   "metadata": {},
   "outputs": [],
   "source": [
    "traces = combine_traces_across_files(data_files,  average_across_sweeps=True)\n",
    "print(traces)\n",
    "\n",
    "time_units = 'ms' # specify seconds (s), or milliseconds (ms)\n",
    "\n",
    "# ----------------------------------------------------------------------------------------------------------------\n",
    "traces.plot(plot_voltage=True, plot_current=False, sweep='all', time_units=time_units)\n",
    "# ax1, ax2 = traces.plot(plot_voltage=True, sweep='all')\n",
    "plt.show()"
   ]
  },
  {
   "cell_type": "markdown",
   "id": "64af1501",
   "metadata": {},
   "source": [
    "## 2. Signal processing"
   ]
  },
  {
   "cell_type": "markdown",
   "id": "4e2554be",
   "metadata": {},
   "source": [
    "### Optional: apply baseline correction\n",
    "\n",
    "If your baseline current is not zero, you may need to correct for that to get accurate measurements.\n",
    "\n",
    "Uncomment this cell block (highlight everything, then cmd+/ on macOS or ctrl+/ on Windows) to run it."
   ]
  },
  {
   "cell_type": "code",
   "execution_count": null,
   "id": "19eb2b36",
   "metadata": {},
   "outputs": [],
   "source": [
    "# Change this to True if you want to subtract the baseline from the sweeps.\n",
    "subtract_baseline = True\n",
    "baseline_start = 0\n",
    "baseline_end = 0.1"
   ]
  },
  {
   "cell_type": "code",
   "execution_count": null,
   "id": "aa4db8b0",
   "metadata": {},
   "outputs": [],
   "source": [
    "if subtract_baseline:\n",
    "    traces.subtract_baseline(start_time = baseline_start,\n",
    "                             end_time = baseline_end, \n",
    "                             time_units = time_units,  # specify seconds (s), or milliseconds (ms)\n",
    "                             channel = 'voltage')  # Options: 'current', 'voltage', 'all'\n",
    "    %matplotlib widget\n",
    "    ax1 = traces.plot(plot_voltage=True, plot_current=False, plot_ttl=False, time_units='ms', sweep='all')\n",
    "    ax1.set_title('After baseline subtraction', y=0.98)\n",
    "    plt.show()\n",
    "else:\n",
    "    print(\"BASELINE NOT SUBTRACTED\")\n"
   ]
  },
  {
   "cell_type": "markdown",
   "id": "65e01fcd",
   "metadata": {},
   "source": [
    "### Optional: apply additional highpass/lowpass filtering\n",
    "\n",
    "Depending in you recording, you may have 50/60 Hz line noise, high-frequency noise, or drift in your recordings.\n",
    "\n",
    "The goal here is to only remove the noise with minimal distortion of the data, so be careful not to overdo it"
   ]
  },
  {
   "cell_type": "code",
   "execution_count": null,
   "id": "5981f0a1",
   "metadata": {},
   "outputs": [],
   "source": [
    "# Change this to True if you want to subtract the baseline from the sweeps.\n",
    "additional_filtering = False"
   ]
  },
  {
   "cell_type": "code",
   "execution_count": null,
   "id": "38c0cb56",
   "metadata": {},
   "outputs": [],
   "source": [
    "if additional_filtering:\n",
    "    filtered_traces = traces\n",
    "\n",
    "    # Step 1: Detrend the data to remove linear or constant trends.\n",
    "    filtered_traces = filtered_traces.detrend(detrend_type='linear', num_segments=1)\n",
    "\n",
    "    # Step 2: Apply a highpass filter to remove low-frequency noise + lowpass to remove high-frequency noise\n",
    "    filtered_traces = filtered_traces.filter(\n",
    "        line_freq=60,    # Frequency (Hz) of electrical noise to remove: 50 Hz (in Europe) or 60 Hz (in the US).\n",
    "        width=0.01,         # Width (Hz) controls the width of frequency bands around the line frequency the filter cuts out.\n",
    "        highpass=None,   # Removes low-frequency drift. Set a value in Hz (e.g. 1 for 1 Hz).\n",
    "        lowpass=4000,    # Removes high-frequency noise. Set a value in Hz (e.g. 100 for 100 Hz).\n",
    "        order=4)         # Controls sharpness of the filter. Higher = sharper cutoff.\n",
    "\n",
    "    %matplotlib widget\n",
    "    ax = filtered_traces.plot(plot_voltage=True, plot_current=False)\n",
    "    ax.set_title('After filtering', y=0.98)\n",
    "    plt.show()"
   ]
  },
  {
   "cell_type": "markdown",
   "id": "f934a474",
   "metadata": {},
   "source": [
    "Once you are happy with the filter setting, run the next cell to implement them:"
   ]
  },
  {
   "cell_type": "code",
   "execution_count": null,
   "id": "775a5a22",
   "metadata": {},
   "outputs": [],
   "source": [
    "if additional_filtering:\n",
    "    traces=filtered_traces"
   ]
  },
  {
   "cell_type": "markdown",
   "id": "09647d25",
   "metadata": {},
   "source": [
    "## 3. Measure the fiber volley amplitude"
   ]
  },
  {
   "cell_type": "code",
   "execution_count": null,
   "id": "8a73929a",
   "metadata": {},
   "outputs": [],
   "source": [
    "# Choose setting to automatically detect the stimulus artifact (capacitive transient)\n",
    "stim_times = traces.get_event_times(threshold=-20, \n",
    "                                    polarity='negative', \n",
    "                                    time_units=time_units, \n",
    "                                    channel='voltage', sweep=0)\n",
    "# traces.get_ttl_events(threshold=0.5, edge='rising', time_units='ms')\n",
    "print(f\"Stim times: {stim_times} ms\")\n",
    "\n",
    "# Crop the trace after the stim\n",
    "cropped_traces = traces.crop(timepoint=stim_times[0], window=200, time_units=time_units)"
   ]
  },
  {
   "cell_type": "code",
   "execution_count": null,
   "id": "a1c35781",
   "metadata": {},
   "outputs": [],
   "source": [
    "# The start/end time just helps to zoom in on the traces.\n",
    "start_time = 0\n",
    "end_time = 50\n",
    "ylim = (-5,1)\n",
    "\n",
    "# The markers are important: the will define the window where we actually exctract peak current values from. Set them carefully.\n",
    "marker_1 = 1.5\n",
    "marker_2 = 4\n",
    "\n",
    "# ----------------------------------------------------------------------------------------------------------------------\n",
    "%matplotlib widget\n",
    "ax = cropped_traces.plot(plot_voltage=True, plot_current=False, time_units=time_units, sweep='all', marker_1=marker_1, marker_2=marker_2)\n",
    "ax.set_xlim(start_time,end_time)\n",
    "ax.set_ylim(ylim)\n",
    "plt.show()"
   ]
  },
  {
   "cell_type": "code",
   "execution_count": null,
   "id": "8d2b8be5",
   "metadata": {},
   "outputs": [],
   "source": [
    "measurement_type = 'min' # Options: 'mean', 'max', 'min', 'peak'\n",
    "\n",
    "_, fiber_volley_amplitudes = cropped_traces.get_measurements(start_time=marker_1,\n",
    "                                                            end_time=marker_2,\n",
    "                                                            measurement_type=measurement_type,\n",
    "                                                            time_units=time_units, sweep='all')\n",
    "fiber_volley_amplitudes = np.abs(fiber_volley_amplitudes)\n",
    "print(f\"Fiber volley amplitudes: {fiber_volley_amplitudes}\")"
   ]
  },
  {
   "cell_type": "code",
   "execution_count": null,
   "id": "ec8256b6",
   "metadata": {},
   "outputs": [],
   "source": [
    "%matplotlib inline\n",
    "fig, ax = plt.subplots(1, 1, figsize=(6, 4))\n",
    "ax.plot(stim_amplitudes, fiber_volley_amplitudes, 'o-', color='k')\n",
    "ax.set_xlabel('Stim amplitude (uA)')\n",
    "ax.set_ylabel('Fiber volley amplitude (mV)')\n",
    "plt.show()"
   ]
  },
  {
   "cell_type": "markdown",
   "id": "961a743d",
   "metadata": {},
   "source": [
    "## 3. Measure the field EPSP"
   ]
  },
  {
   "cell_type": "markdown",
   "id": "6d644198",
   "metadata": {},
   "source": [
    "### 3.4. Fit line to get the slope of the fEPSP\n",
    "\n",
    "First let's define the relevant time window where we want to fit, so we can fit a line to the rising phase"
   ]
  },
  {
   "cell_type": "code",
   "execution_count": null,
   "id": "dda9dfce",
   "metadata": {},
   "outputs": [],
   "source": [
    "# The start/end time just helps to zoom in on the traces.\n",
    "start_time = 0\n",
    "end_time = 50\n",
    "ylim = (-5,1)\n",
    "\n",
    "# The markers are important: the will define the window where we actually exctract peak current values from. Set them carefully.\n",
    "marker_3 = 8\n",
    "marker_4 = 25\n",
    "\n",
    "# ----------------------------------------------------------------------------------------------------------------------\n",
    "%matplotlib widget\n",
    "ax = cropped_traces.plot(plot_voltage=True, plot_current=False, time_units=time_units, marker_1=marker_3, marker_2=marker_4, sweep='all')\n",
    "ax.set_xlim(start_time,end_time)\n",
    "ax.set_ylim(ylim)\n",
    "plt.show()"
   ]
  },
  {
   "cell_type": "code",
   "execution_count": null,
   "id": "2f3c3ceb",
   "metadata": {},
   "outputs": [],
   "source": [
    "fEPSP_crop = cropped_traces.crop(timepoint=marker_3, timepoint_2=marker_4, time_units=time_units)\n",
    "\n",
    "%matplotlib inline\n",
    "ax = fEPSP_crop.plot(plot_voltage=True, plot_current=False, time_units=time_units, sweep='all')\n",
    "\n",
    "fEPSP_start = np.argmax(fEPSP_crop.voltage_data, axis=1)\n",
    "fEPSP_end = np.argmin(fEPSP_crop.voltage_data, axis=1)\n",
    "\n",
    "slopes = []\n",
    "for i in range(fEPSP_crop.num_sweeps):\n",
    "    trace = fEPSP_crop.voltage_data[i]\n",
    "    \n",
    "    # Get peak indices and values for this trace\n",
    "    peak_start_idx = fEPSP_start[i]\n",
    "    peak_end_idx = fEPSP_end[i]\n",
    "    peak_start_val = trace[peak_start_idx]  # Upper peak value\n",
    "    peak_end_val = trace[peak_end_idx]      # Lower peak value\n",
    "    \n",
    "    # # Calculate 20% and 80% amplitude thresholds\n",
    "    # amplitude_range = peak_start_val - peak_end_val\n",
    "    # threshold_20 = peak_start_val - 0.2 * amplitude_range\n",
    "    # threshold_80 = peak_start_val - 0.8 * amplitude_range\n",
    "    \n",
    "    # # Find indices where voltage crosses these thresholds\n",
    "    # fit_start_idx = np.where(trace <= threshold_20)[0][0]\n",
    "    # fit_end_idx = np.where(trace <= threshold_80)[0][0]\n",
    "    \n",
    "    fit_start_idx = peak_start_idx + 10\n",
    "    fit_end_idx = peak_end_idx - 10\n",
    "\n",
    "    # Extract time and voltage for fitting region\n",
    "    time_fit = fEPSP_crop.time_ms[fit_start_idx:fit_end_idx]\n",
    "    voltage_fit = trace[fit_start_idx:fit_end_idx]\n",
    "    \n",
    "    # Fit linear regression\n",
    "    from scipy.stats import linregress\n",
    "    slope, intercept, r_value, p_value, std_err = linregress(time_fit, voltage_fit)\n",
    "    slopes.append(slope)\n",
    "    \n",
    "    # Plot fitted line on original time scale\n",
    "    fit_line = slope * fEPSP_crop.time_ms + intercept\n",
    "    ax.plot(fEPSP_crop.time_ms, fit_line, linestyle='--', color='r', alpha=0.7, linewidth=1)\n",
    "\n",
    "slopes = np.array(slopes)\n",
    "ax.set_ylim(-10,1)\n",
    "plt.show()\n",
    "\n"
   ]
  },
  {
   "cell_type": "markdown",
   "id": "acfd0f31",
   "metadata": {},
   "source": [
    "## 4. Make summary plots"
   ]
  },
  {
   "cell_type": "code",
   "execution_count": null,
   "id": "22e40c6c",
   "metadata": {},
   "outputs": [],
   "source": [
    "%matplotlib inline\n",
    "fig, ax = plt.subplots(1, 1, figsize=(6, 4))\n",
    "ax.plot(stim_amplitudes, -slopes, 'o-', color='k')\n",
    "ax.set_xlabel('Stim amplitude (uA)')\n",
    "ax.set_ylabel('fEPSP slope')\n",
    "plt.show()\n",
    "\n",
    "fig, ax = plt.subplots(1, 1, figsize=(6, 4))\n",
    "ax.plot(np.abs(slopes), fiber_volley_amplitudes, '-o', color='k')\n",
    "ax.set_ylabel('Fiber volley amplitude (mV)')\n",
    "ax.set_xlabel('fEPSP slope')\n",
    "plt.show()"
   ]
  },
  {
   "cell_type": "code",
   "execution_count": null,
   "id": "2bcfba00",
   "metadata": {},
   "outputs": [],
   "source": []
  }
 ],
 "metadata": {
  "kernelspec": {
   "display_name": "CSHL_IonChannels",
   "language": "python",
   "name": "python3"
  },
  "language_info": {
   "codemirror_mode": {
    "name": "ipython",
    "version": 3
   },
   "file_extension": ".py",
   "mimetype": "text/x-python",
   "name": "python",
   "nbconvert_exporter": "python",
   "pygments_lexer": "ipython3",
   "version": "3.11.13"
  }
 },
 "nbformat": 4,
 "nbformat_minor": 5
}
