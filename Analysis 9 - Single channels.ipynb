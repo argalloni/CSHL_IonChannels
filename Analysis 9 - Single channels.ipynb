{
 "cells": [
  {
   "cell_type": "markdown",
   "id": "34e79f62",
   "metadata": {},
   "source": [
    "# Single channel recordings"
   ]
  },
  {
   "cell_type": "markdown",
   "id": "f9e5fd06",
   "metadata": {},
   "source": [
    "#### **Basic instructions:**\n",
    "#### 1. **To run code windows/blocks:** \n",
    "\n",
    "    - you can either hit the play button to the left of the code window \n",
    "\n",
    "    - or you can use they keyboard shortcut: select the block and press 'shift-enter'.\n",
    "\n",
    "#### 2. **The first time** you run this code notebook, you might get a popup asking to choose which version of Python to use (the python \"kernel\"). **Just hit enter** to choose the base/default version.\n",
    "\n",
    "#### 3. Make sure you data (.abf) files are in the \"data\" folder here on the left. You can just copy/paste the files from where they are saved on your computer."
   ]
  },
  {
   "cell_type": "code",
   "execution_count": null,
   "id": "fe5460eb",
   "metadata": {},
   "outputs": [],
   "source": [
    "import numpy as np\n",
    "import matplotlib.pyplot as plt\n",
    "from utils import *\n",
    "update_plot_defaults()\n",
    "%load_ext autoreload\n",
    "%autoreload 2"
   ]
  },
  {
   "cell_type": "markdown",
   "id": "9f8ef050",
   "metadata": {},
   "source": [
    "## 1. Choose the data file you want to analyze\n",
    "\n",
    "#### Put the .abf files with your recordings in the \"data/Single_channels\" folder"
   ]
  },
  {
   "cell_type": "code",
   "execution_count": null,
   "id": "8967927e",
   "metadata": {},
   "outputs": [],
   "source": [
    "data_folder = \"data/4-Single_channels\"\n",
    "\n",
    "from glob import glob\n",
    "data_files = glob(data_folder+\"/*.abf\")\n",
    "print(data_folder)\n",
    "data_files"
   ]
  },
  {
   "cell_type": "markdown",
   "id": "1669d552",
   "metadata": {},
   "source": [
    "Choose which file you want to analyze and copy/paste the file name here:\n",
    "\n",
    "**If you get an error, make sure you copy/pasted the name correctly (e.g. with both quotation marker, without any commas)**"
   ]
  },
  {
   "cell_type": "code",
   "execution_count": null,
   "id": "7729c0c5",
   "metadata": {},
   "outputs": [],
   "source": [
    "data_file = 'data/4-Single_channels/2025_06_10_0052 KM002 gap free 2min.abf'\n",
    "# data_file = 'data/4-Single_channels/2025_06_10_0028.abf'"
   ]
  },
  {
   "cell_type": "markdown",
   "id": "b66af80f",
   "metadata": {},
   "source": [
    "Now we can load the file and plot the raw data:"
   ]
  },
  {
   "cell_type": "code",
   "execution_count": null,
   "id": "8e1eb1a3",
   "metadata": {},
   "outputs": [],
   "source": [
    "traces = Trace.from_axon_file(filename=data_file, \n",
    "                              load_voltage=True, \n",
    "                              load_ttl=True,\n",
    "                              units=['pA', 'mV', 'V'], \n",
    "                              concatenate_sweeps=True)\n",
    "print(traces)\n",
    "\n",
    "time_units = 's' # specify seconds (s), or milliseconds (ms)\n",
    "x_axis_range = (0.7,1.7) # Here you can set the rage of the x-axis to 'zoom in' on a specific part of the trace (1-2s recommended)\n",
    "\n",
    "# ----------------------------------------------------------------------------------------------------------------\n",
    "%matplotlib inline\n",
    "ax = traces.plot(plot_voltage=True, sweep='all', time_units=time_units)\n",
    "plt.show()\n",
    "ax = traces.plot(plot_voltage=False, sweep='all', time_units=time_units)\n",
    "ax.set_xlim(x_axis_range)\n",
    "ax.set_title(f'Zoomed in on {x_axis_range[0]} to {x_axis_range[1]} {time_units}')\n",
    "plt.show()"
   ]
  },
  {
   "cell_type": "markdown",
   "id": "27b4c6e0",
   "metadata": {},
   "source": [
    "## 2. Signal processing"
   ]
  },
  {
   "cell_type": "markdown",
   "id": "59ca14da",
   "metadata": {},
   "source": [
    "### 2.1. Optional: apply highpass / lowpass / bandpass filtering\n",
    "\n",
    "Depending in you recording, you may have 50/60 Hz line noise, high-frequency noise, or drift in your recordings.\n",
    "\n",
    "The goal here is to only remove the noise with minimal distortion of the data, so be careful not to overdo it"
   ]
  },
  {
   "cell_type": "code",
   "execution_count": null,
   "id": "3ce53be0",
   "metadata": {},
   "outputs": [],
   "source": [
    "apply_filtering = True"
   ]
  },
  {
   "cell_type": "markdown",
   "id": "f7335557",
   "metadata": {},
   "source": [
    "You can run this next cell as many times as you want to fine-tune the filtering parameters:"
   ]
  },
  {
   "cell_type": "code",
   "execution_count": null,
   "id": "85ffc82b",
   "metadata": {},
   "outputs": [],
   "source": [
    "if apply_filtering:\n",
    "    filtered_traces = traces\n",
    "    # Step 1: Detrend the data to remove linear or constant trends (e.g slow drift)\n",
    "    filtered_traces = filtered_traces.detrend(detrend_type='linear', num_segments=1)\n",
    "\n",
    "    # Step 2: Lowpass filter (removes high-frequency noise)\n",
    "    filtered_traces = filtered_traces.lowpass_filter(cutoff_freq = 2000) # Choose a value in units of Hz\n",
    "    \n",
    "    # Step 3: Bandpass filter (removes 50/60 Hz mainline noise)\n",
    "    filtered_traces = filtered_traces.filter_line_noise(\n",
    "        line_freq = 60, # Frequency (Hz) of noise to remove: 50 Hz (in Europe) or 60 Hz (in the US).\n",
    "        width = 0.5, # Width (Hz) controls the width of frequency bands around the line frequency the filter cuts out.\n",
    "        method = 'notch') # Options: 'notch' (IIR notch filter), 'bandstop' (Butterworth), or 'fft' (spectral).\n",
    "\n",
    "    # # Step 4: Highpass filter (removes low-frequency oscillations)\n",
    "    # # ------------------------------------------------------------\n",
    "    # # # Be extra careful with this next one, it tends to distort the data. Use only in case of emergency.\n",
    "    # filtered_traces = filtered_traces.highpass_filter(cutoff_freq=0.001)\n",
    "    # # ------------------------------------------------------------\n",
    "\n",
    "    %matplotlib inline\n",
    "    ax = traces.plot(plot_voltage=False)\n",
    "    ax.set_xlim(x_axis_range)\n",
    "    ax.set_title('Raw data', y=0.98)\n",
    "    plt.show()\n",
    "\n",
    "    ax = filtered_traces.plot(plot_voltage=False)\n",
    "    ax.set_xlim(x_axis_range)\n",
    "    ax.set_title('After filtering', y=0.98)\n",
    "    plt.show()\n",
    "\n",
    "    # %matplotlib widget\n",
    "    ax = filtered_traces.plot(plot_voltage=False)\n",
    "    plt.show()\n"
   ]
  },
  {
   "cell_type": "markdown",
   "id": "0d5b0f04",
   "metadata": {},
   "source": [
    "Once you are happy with the filter setting, run the next cell to implement them:"
   ]
  },
  {
   "cell_type": "code",
   "execution_count": null,
   "id": "7df15069",
   "metadata": {},
   "outputs": [],
   "source": [
    "if apply_filtering:\n",
    "    traces=filtered_traces"
   ]
  },
  {
   "cell_type": "markdown",
   "id": "d8db6cc5",
   "metadata": {},
   "source": [
    "### 2.2. Optional: apply baseline correction\n",
    "\n",
    "If your baseline current is not at zero, run the next code blocks to apply a baseline correction."
   ]
  },
  {
   "cell_type": "code",
   "execution_count": null,
   "id": "fa1450cb",
   "metadata": {},
   "outputs": [],
   "source": [
    "# Change this to True if you want to subtract the baseline from the sweeps.\n",
    "subtract_baseline = True"
   ]
  },
  {
   "cell_type": "code",
   "execution_count": null,
   "id": "f7850184",
   "metadata": {},
   "outputs": [],
   "source": [
    "if subtract_baseline:\n",
    "    %matplotlib inline\n",
    "    traces.current_data = traces.current_data - np.median(traces.current_data)\n",
    "    ax = traces.plot(plot_voltage=False, time_units=time_units, sweep='all')\n",
    "    ax.set_title('After baseline subtraction', y=0.98)\n",
    "    ax.set_xlim(x_axis_range)\n",
    "    plt.show()\n",
    "else:\n",
    "    print(\"BASELINE NOT SUBTRACTED\")\n"
   ]
  },
  {
   "cell_type": "markdown",
   "id": "bdf2f577",
   "metadata": {},
   "source": [
    "### 2.3. Optional: crop trace (if the edges are not flat)"
   ]
  },
  {
   "cell_type": "code",
   "execution_count": null,
   "id": "8a666e4c",
   "metadata": {},
   "outputs": [],
   "source": [
    "crop_traces = False\n",
    "\n",
    "# The markers will define the window where we crop the traces. 'None'= No cropping.\n",
    "marker_1 = None\n",
    "marker_2 = None\n",
    "\n",
    "# ----------------------------------------------------------------------------------------------------------------------\n",
    "if crop_traces:\n",
    "    %matplotlib inline\n",
    "    ax = traces.plot(plot_voltage=False, time_units=time_units, marker_1=marker_1, marker_2=marker_2, sweep='all')\n",
    "    plt.show()"
   ]
  },
  {
   "cell_type": "code",
   "execution_count": null,
   "id": "73971c59",
   "metadata": {},
   "outputs": [],
   "source": [
    "# Apply the crop based on the markers\n",
    "if crop_traces and (marker_1 is not None or marker_2 is not None):\n",
    "    traces = traces.crop(timepoint=marker_1, time_units=time_units, timepoint_2=marker_2)\n",
    "    ax = traces.plot(plot_voltage=False, time_units=time_units, marker_1=marker_1, marker_2=marker_2, sweep='all')\n",
    "    plt.show()"
   ]
  },
  {
   "cell_type": "markdown",
   "id": "d1fe3716",
   "metadata": {},
   "source": [
    "### 3.3. Detect the number of distinct levels (channel opening states)"
   ]
  },
  {
   "cell_type": "code",
   "execution_count": null,
   "id": "685e0294",
   "metadata": {},
   "outputs": [],
   "source": [
    "current_direction = 'inward' # Specify 'inward' or 'outward' current"
   ]
  },
  {
   "cell_type": "code",
   "execution_count": null,
   "id": "fc9c54a7",
   "metadata": {},
   "outputs": [],
   "source": [
    "# Flip the trace (at the moment the idealization only works with positive levels)\n",
    "if current_direction == 'inward':\n",
    "    filtered_traces = -traces.current_data\n",
    "\n",
    "# # Detect levels automatically by fitting Gaussian distributions to the histogram\n",
    "%matplotlib inline\n",
    "detected_levels = detect_levels_from_histogram(filtered_traces, \n",
    "                                            n_levels=4,  # Specify number of levels (baseline + open levels)\n",
    "                                            mean_guesses=[0,20,40,60],  # Initial guesses for means\n",
    "                                            bins=150)"
   ]
  },
  {
   "cell_type": "markdown",
   "id": "206a6519",
   "metadata": {},
   "source": [
    "#### Enter the value (pA) of each level for the trace idealization.\n",
    "\n",
    "**Note:** the automatic gaussian fit usually fails to detect the highest level correctly, so look at the trace closely to choose the value manually.\n",
    "\n",
    "(it's probably a multiple of the previous level)\n"
   ]
  },
  {
   "cell_type": "code",
   "execution_count": null,
   "id": "7aa08d14",
   "metadata": {},
   "outputs": [],
   "source": [
    "# detected_levels = [-0.173, 10.127, 20.2]"
   ]
  },
  {
   "cell_type": "code",
   "execution_count": null,
   "id": "b0c101a2",
   "metadata": {},
   "outputs": [],
   "source": [
    "# Estimate the single channel conductance based on the single-level channel current\n",
    "voltage = None  # Enter the estimated driving force for this recording (calculated based on the clamped voltage)\n",
    "\n",
    "current = detected_levels[1]\n",
    "if voltage is None:\n",
    "    raise NotImplementedError(\"Please enter the estimated driving force for this recording\")\n",
    "\n",
    "single_channel_conductance = current / voltage\n",
    "print(f\"The single channel conductance is {single_channel_conductance:.2f} nS\")"
   ]
  },
  {
   "cell_type": "code",
   "execution_count": null,
   "id": "6c702255",
   "metadata": {},
   "outputs": [],
   "source": [
    "# Initialize detector with your filtered traces\n",
    "detector = MultiLevelEventDetector(filtered_traces, traces.time, traces.sampling_rate)\n",
    "\n",
    "detector.set_current_levels(detected_levels)"
   ]
  },
  {
   "cell_type": "markdown",
   "id": "0edcb878",
   "metadata": {},
   "source": [
    "### 3.4. Detect channel open/close events and idealize single-channel behavior"
   ]
  },
  {
   "cell_type": "code",
   "execution_count": null,
   "id": "754f6fe8",
   "metadata": {},
   "outputs": [],
   "source": [
    "# Set detection parameters\n",
    "detector.min_event_duration = 0.3  # ms - adjust based on your channel kinetics\n",
    "detector.hysteresis_factor = 0.25  # This reduces the chance of flipping states when there are rapid small fluctuations close to the threshold\n",
    "\n",
    "%matplotlib inline\n",
    "events, idealized_trace = detector.detect_events(plot_result=True)"
   ]
  },
  {
   "cell_type": "code",
   "execution_count": null,
   "id": "ed6e6bde",
   "metadata": {},
   "outputs": [],
   "source": [
    "# Based on the histogram of closed durations, determine a threshold for burst separation\n",
    "closed_threshold = 6  # ms - adjust based on your histogram\n",
    "\n",
    "%matplotlib inline\n",
    "durations = detector.plot_duration_histogram(bins=100, threshold=closed_threshold,\n",
    "                                             fit_gaussian=True,\n",
    "                                             log_x=True, sqrt_y_scale=True, separate_plots=True)"
   ]
  },
  {
   "cell_type": "code",
   "execution_count": null,
   "id": "77ca9ab6",
   "metadata": {},
   "outputs": [],
   "source": [
    "# Analyze the open probability within an activity burst\n",
    "burst_data, burst_summary = detector.analyze_bursts(closed_threshold)\n",
    "\n",
    "%matplotlib inline\n",
    "detector.plot_burst_analysis(burst_data)"
   ]
  },
  {
   "cell_type": "code",
   "execution_count": null,
   "id": "78e62cf6",
   "metadata": {},
   "outputs": [],
   "source": [
    "po_by_level, statistics = detector.calculate_level_probability(method='time_based')\n",
    "detector.generate_analysis_report()"
   ]
  },
  {
   "cell_type": "markdown",
   "id": "61aed1f2",
   "metadata": {},
   "source": [
    "## Calculate P(open) based on binomial distribution"
   ]
  },
  {
   "cell_type": "markdown",
   "id": "e8cb4363",
   "metadata": {},
   "source": [
    "If we have a good recording, we might be able to confidently say exactly how many channels are in our patch (from the largest open conductance level we see in the current trace). \n",
    "\n",
    "For example, there might be exactly 3 discrete conductance levels above baseline, consistent with 1, 2, or 3 BK channels being open. \n",
    "\n",
    "If we make a few assumptions, we can use the binomial theorem to calculate the P(open) for a single channel based on the amount of time spend in each conductance level. \n",
    "\n",
    "Assuming:\n",
    "- All channels are identical,\n",
    "- Each channel is **either open or closed** (no partial conductance states / sublevels)\n",
    "- Channels behave **independently**\n",
    "- The system is stationary / at steady state\n",
    "\n",
    "We can model the number of open channels as a **binomial distribution**:\n",
    "\n",
    "$$ P(k) = \\binom{3}{k} p^k (1 - p)^{3 - k} = \\frac{3!}{k!(3-k)!} p^k (1 - p)^{3 - k} $$\n",
    "\n",
    "where:\n",
    "- $P(k)$ is the probability of observing $k$ channels open\n",
    "- $p$ is the open probability of a single channel\n",
    "- $3$ is the total number of channels (maximum conductance level observed)\n",
    "\n",
    "By plugging in different values for $k$ from 0 to 3, we get the expected occupancy of each conductance level:\n",
    "- $ P(0) = (1 - p)^3 $\n",
    "- $ P(1) = 3p(1 - p)^2 $\n",
    "- $ P(2) = 3p^2(1 - p) $\n",
    "- $ P(3) = p^3 $\n",
    "\n",
    "\n",
    "Now we just need to fit our empirical data to these equations to estimate the single-channel open probability $p$.\n",
    "\n",
    "We can set this up as a least-squares optimization problem (estimating $p$ by minimizing the squared error between the observed and expected probabilities, and finding the value of $p$ that minimizes the error):\n",
    "\n",
    "$$ \\text{error}(p) = \\sum_{k=0}^{3} \\left[ \\hat{P}(k) - \\binom{3}{k} p^k (1 - p)^{3 - k} \\right]^2 $$"
   ]
  },
  {
   "cell_type": "code",
   "execution_count": null,
   "id": "ba5a08fc",
   "metadata": {},
   "outputs": [],
   "source": [
    "po_by_level"
   ]
  },
  {
   "cell_type": "code",
   "execution_count": null,
   "id": "dcfdebbc",
   "metadata": {},
   "outputs": [],
   "source": [
    "# Enter the total number of channels (based on max conductance level observed)\n",
    "n = 4\n",
    "\n",
    "P_obs = np.array([val for val in po_by_level.values()]) # Proportion of time spent in each state/level\n",
    "p_estimate, residuals = estimate_p_open(P_obs, n)\n",
    "print_p_open_results(p_estimate, residuals, P_obs, n)"
   ]
  },
  {
   "cell_type": "markdown",
   "id": "4239f7a7",
   "metadata": {},
   "source": [
    "## Subtract idealized traces from raw traces to uncover substates / smaller channels"
   ]
  },
  {
   "cell_type": "code",
   "execution_count": null,
   "id": "352e5a8b",
   "metadata": {},
   "outputs": [],
   "source": [
    "# Reload raw data\n",
    "traces = Trace.from_axon_file(filename=data_file, \n",
    "                              load_voltage=True, \n",
    "                              load_ttl=True,\n",
    "                              units=['pA', 'mV', 'V'], \n",
    "                              concatenate_sweeps=True)\n",
    "\n",
    "# Step 1: Detrend the data to remove linear or constant trends (e.g slow drift)\n",
    "traces = traces.detrend(detrend_type='linear', num_segments=1)\n",
    "\n",
    "# Step 2: Lowpass filter (removes high-frequency noise)\n",
    "traces = traces.lowpass_filter(cutoff_freq = 2000) # Choose a value in units of Hz\n",
    "    \n",
    "# Step 3: Bandpass filter (removes 50/60 Hz mainline noise)\n",
    "traces = traces.filter_line_noise(\n",
    "    line_freq = 60, # Frequency (Hz) of noise to remove: 50 Hz (in Europe) or 60 Hz (in the US).\n",
    "    width = 0.5, # Width (Hz) controls the width of frequency bands around the line frequency the filter cuts out.\n",
    "    method = 'notch') # Options: 'notch' (IIR notch filter), 'bandstop' (Butterworth), or 'fft' (spectral).\n",
    "\n",
    "# Remove baseline\n",
    "traces.current_data = traces.current_data - np.median(traces.current_data)\n",
    "\n",
    "# Subtract the idealized trace\n",
    "traces.current_data = traces.current_data + idealized_trace\n",
    "\n",
    "# Step 2: Lowpass filter (removes high-frequency noise)\n",
    "traces = traces.lowpass_filter(cutoff_freq=500, \n",
    "                               order=2)\n",
    "    \n",
    "# Step 1: Detrend a second time to remove distorions from the agressive lowpass filter\n",
    "traces = traces.detrend(detrend_type='linear', num_segments=50)\n",
    "\n",
    "%matplotlib inline\n",
    "ax = traces.plot(plot_voltage=False, sweep='all', time_units=time_units)\n",
    "ax.set_xlim(24,24.8)\n",
    "plt.show()\n",
    "\n",
    "\n",
    "# Flip the trace (at the moment the idealization only works with positive levels)\n",
    "if current_direction == 'inward':\n",
    "    filtered_traces = -traces.current_data\n",
    "\n",
    "# # Detect levels automatically by fitting Gaussian distributions to the histogram\n",
    "%matplotlib inline\n",
    "detected_levels = detect_levels_from_histogram(filtered_traces, \n",
    "                                            n_levels=2,  # Specify number of levels (baseline + open levels)\n",
    "                                            mean_guesses=[-1,10],  # Initial guesses for means\n",
    "                                            bins=130,\n",
    "                                            hist_scale_factor=30)\n"
   ]
  },
  {
   "cell_type": "code",
   "execution_count": null,
   "id": "1ca1ec4e",
   "metadata": {},
   "outputs": [],
   "source": [
    "# # Detect levels automatically by fitting Gaussian distributions to the histogram\n",
    "%matplotlib inline\n",
    "detected_levels = detect_levels_from_histogram(filtered_traces, \n",
    "                                            n_levels=2,  # Specify number of levels (baseline + open levels)\n",
    "                                            mean_guesses=[-1,10],  # Initial guesses for means\n",
    "                                            bins=130,\n",
    "                                            hist_scale_factor=100)"
   ]
  },
  {
   "cell_type": "code",
   "execution_count": null,
   "id": "bb96f119",
   "metadata": {},
   "outputs": [],
   "source": [
    "detected_levels = [-0.2, 6, 12]\n",
    "\n",
    "# Initialize detector with your filtered traces\n",
    "detector = MultiLevelEventDetector(filtered_traces, traces.time, traces.sampling_rate)\n",
    "\n",
    "detector.set_current_levels(detected_levels)\n",
    "\n",
    "# Set detection parameters\n",
    "detector.min_event_duration = 0.3  # ms - adjust based on your channel kinetics\n",
    "detector.hysteresis_factor = 0.05  # This reduces the chance of flipping states when there are rapid small fluctuations close to the threshold\n",
    "\n",
    "%matplotlib inline\n",
    "events, idealized_trace = detector.detect_events(plot_result=True)"
   ]
  },
  {
   "cell_type": "code",
   "execution_count": null,
   "id": "589b662d",
   "metadata": {},
   "outputs": [],
   "source": [
    "po_by_level, statistics = detector.calculate_level_probability(method='time_based')\n",
    "detector.generate_analysis_report()"
   ]
  },
  {
   "cell_type": "code",
   "execution_count": null,
   "id": "5b80b04b",
   "metadata": {},
   "outputs": [],
   "source": [
    "# Enter the total number of channels (based on max conductance level observed)\n",
    "n = 2\n",
    "\n",
    "P_obs = np.array([val for val in po_by_level.values()]) # Proportion of time spent in each state/level\n",
    "p_estimate, residuals = estimate_p_open(P_obs, n)\n",
    "print_p_open_results(p_estimate, residuals, P_obs, n)"
   ]
  },
  {
   "cell_type": "code",
   "execution_count": null,
   "id": "5d3d31dc",
   "metadata": {},
   "outputs": [],
   "source": []
  },
  {
   "cell_type": "markdown",
   "id": "69772aee",
   "metadata": {},
   "source": [
    "## Fit a Hidden Markov Model to estimate the channel switching behavior"
   ]
  },
  {
   "cell_type": "code",
   "execution_count": null,
   "id": "c98de565",
   "metadata": {},
   "outputs": [],
   "source": []
  }
 ],
 "metadata": {
  "kernelspec": {
   "display_name": "CSHL_IonChannels",
   "language": "python",
   "name": "python3"
  },
  "language_info": {
   "codemirror_mode": {
    "name": "ipython",
    "version": 3
   },
   "file_extension": ".py",
   "mimetype": "text/x-python",
   "name": "python",
   "nbconvert_exporter": "python",
   "pygments_lexer": "ipython3",
   "version": "3.11.13"
  }
 },
 "nbformat": 4,
 "nbformat_minor": 5
}
