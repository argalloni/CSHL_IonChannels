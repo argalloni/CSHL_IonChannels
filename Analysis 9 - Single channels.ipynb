{
 "cells": [
  {
   "cell_type": "code",
   "execution_count": null,
   "id": "c0b5ed8b",
   "metadata": {},
   "outputs": [],
   "source": []
  },
  {
   "cell_type": "markdown",
   "id": "dfb104e0",
   "metadata": {},
   "source": [
    "#### **Basic instructions:**\n",
    "#### 1. **To run code cells**, you can either hit the play button to the left of the cell, or you can select the cell and **press shift-enter**.\n",
    "\n",
    "#### 2. **The first time** you run this code notebook, you might get a popup asking to choose which version of Python to use (the python \"kernel\"). **Just hit enter** to choose the base/default version.\n",
    "\n",
    "#### 3. Make sure you data (.abf) files are in the \"data\" folder here on the left. You can just copy/paste the files over from where they are saved on your computer."
   ]
  },
  {
   "cell_type": "code",
   "execution_count": null,
   "id": "fe5460eb",
   "metadata": {},
   "outputs": [],
   "source": [
    "from glob import glob\n",
    "%matplotlib inline\n",
    "import numpy as np\n",
    "import matplotlib.pyplot as plt\n",
    "from utils import *\n",
    "from single_channel_analysis import *\n",
    "update_plot_defaults()\n",
    "\n",
    "%load_ext autoreload\n",
    "%autoreload 2"
   ]
  },
  {
   "cell_type": "markdown",
   "id": "d3540322",
   "metadata": {},
   "source": [
    "# Single channel recordings"
   ]
  },
  {
   "cell_type": "markdown",
   "id": "9f8ef050",
   "metadata": {},
   "source": [
    "## 1. Choose the data file you want to analyze\n",
    "\n",
    "#### Put the .abf files with your recordings in the \"data/Single_channels\" folder"
   ]
  },
  {
   "cell_type": "code",
   "execution_count": null,
   "id": "8967927e",
   "metadata": {},
   "outputs": [],
   "source": [
    "pathToData = \"data/Single_channels\"\n",
    "abf_files = glob(pathToData+\"/*.abf\")\n",
    "abf_files"
   ]
  },
  {
   "cell_type": "markdown",
   "id": "1669d552",
   "metadata": {},
   "source": [
    "Choose which file you want to analyze and past the file name here:"
   ]
  },
  {
   "cell_type": "code",
   "execution_count": null,
   "id": "7729c0c5",
   "metadata": {},
   "outputs": [],
   "source": [
    "data_file = 'data/Single_channels/2024_06_11_0003.abf'"
   ]
  },
  {
   "cell_type": "markdown",
   "id": "b66af80f",
   "metadata": {},
   "source": [
    "Now we can load the file and plot the raw data:"
   ]
  },
  {
   "cell_type": "code",
   "execution_count": null,
   "id": "b3f62db5",
   "metadata": {},
   "outputs": [],
   "source": [
    "data_file = 'data/Single_channels/2024_06_11_0003.abf'\n",
    "\n",
    "## Extract the sweeps, time and sampling frequency:\n",
    "sweeps, sweeps_time, sampling_freq = get_sweeps(data_file)\n",
    "\n",
    "print(f\"Data dimensions (sweeps, channels, timepoints): \\n{sweeps.shape}\")\n",
    "print(f\"sampling freq: {sampling_freq} Hz\")\n",
    "\n",
    "current_traces = sweeps[:, 0, :]\n",
    "voltage_traces = sweeps[:, 1, :]\n",
    "ax = plot_traces(sweeps_time*1000, current_traces, voltage_traces)\n",
    "plt.show()\n",
    "\n",
    "# Highpass filter the current traces\n"
   ]
  },
  {
   "cell_type": "markdown",
   "id": "1d63154f",
   "metadata": {},
   "source": [
    "## 2. Select what you want to measure"
   ]
  },
  {
   "cell_type": "markdown",
   "id": "bc36e3f0",
   "metadata": {},
   "source": [
    "### 2.1. Defining the time window\n",
    "\n",
    "First let's define the relevant time window where we want to measure the currents:\n",
    "\n",
    "(If you want to save the images, you can do it by clicking on the save icon in the top-right of the image when you hover over it)"
   ]
  },
  {
   "cell_type": "code",
   "execution_count": null,
   "id": "29794877",
   "metadata": {},
   "outputs": [],
   "source": [
    "# The start/end time just helps to zoom in on the traces.\n",
    "start_time = 35  # seconds\n",
    "end_time = 75   # seconds\n",
    "\n",
    "current_traces, time = select_sweep_window(sweeps, sweeps_time, start_time*1000, end_time*1000, sampling_freq, channel=0)\n",
    "time /= 1000 # Convert to Seconds\n",
    "\n",
    "fig, ax = plt.subplots(figsize=(15, 6), linewidth=0.1)\n",
    "ax.plot(time, current_traces[0], color='k')\n",
    "ax.set_xlabel('Time (s)')\n",
    "ax.set_ylabel('Current (pA)')\n",
    "plt.show()"
   ]
  },
  {
   "cell_type": "markdown",
   "id": "3d8779b9",
   "metadata": {},
   "source": [
    "### 2.2. Lowpass filter the current trace"
   ]
  },
  {
   "cell_type": "code",
   "execution_count": null,
   "id": "4438377d",
   "metadata": {},
   "outputs": [],
   "source": [
    "# Median baseline subtraction\n",
    "window_size_ms = 4000\n",
    "corrected_median, baseline_median = baseline_correction(current_traces, sampling_freq, method='median_subtraction', window_ms=window_size_ms)\n",
    "\n",
    "# Plot comparison\n",
    "fig, axes = plt.subplots(2, 1, figsize=(14, 5), sharex=True)\n",
    "\n",
    "# Original\n",
    "axes[0].plot(time, current_traces.T, alpha=0.9, color='black')\n",
    "axes[0].set_ylabel('Current (pA)')\n",
    "axes[0].set_title('Original Traces')\n",
    "axes[0].grid(True, alpha=0.3)\n",
    "\n",
    "# Median subtraction\n",
    "axes[1].plot(time, corrected_median.T, alpha=0.9, color='black')\n",
    "axes[1].set_ylabel('Current (pA)')\n",
    "axes[1].set_title(f'Median Subtraction ({window_size_ms/1000}s window)')\n",
    "axes[1].grid(True, alpha=0.3)\n",
    "\n",
    "plt.tight_layout()\n",
    "plt.show()\n",
    "\n",
    "# Show baseline estimation for median method\n",
    "fig, ax = plt.subplots(figsize=(12, 6))\n",
    "trace_idx = 0  # Show first trace\n",
    "ax.plot(time, current_traces[trace_idx], 'b-', alpha=0.7, label='Original')\n",
    "ax.plot(time, baseline_median[trace_idx], 'r-', linewidth=2, label='Estimated Baseline')\n",
    "ax.plot(time, corrected_median[trace_idx], 'k-', alpha=0.9, label='Corrected')\n",
    "ax.set_xlabel('Time (ms)')\n",
    "ax.set_ylabel('Current (pA)')\n",
    "ax.set_title('Baseline Estimation Example')\n",
    "ax.legend()\n",
    "ax.grid(True, alpha=0.3)\n",
    "plt.show()"
   ]
  },
  {
   "cell_type": "markdown",
   "id": "37e1b5e7",
   "metadata": {},
   "source": [
    "### 2.3. Highpass filter the currrent trace"
   ]
  },
  {
   "cell_type": "code",
   "execution_count": null,
   "id": "eb8e3119",
   "metadata": {},
   "outputs": [],
   "source": [
    "# Highpass filtering\n",
    "cutoff = 1000\n",
    "baseline_corrected = corrected_median \n",
    "\n",
    "filtered_traces = lowpass_filter(baseline_corrected, cutoff, sampling_freq, filter_type='bessel')\n",
    "\n",
    "# Plot filter comparison\n",
    "fig, axes = plt.subplots(2, 1, figsize=(14, 5), sharex=True)\n",
    "axes[0].plot(time, baseline_corrected.T, alpha=0.9, color='black')\n",
    "axes[0].set_title('Baseline Corrected (No Lowpass)')\n",
    "axes[0].set_ylabel('Current (pA)')\n",
    "axes[0].grid(True, alpha=0.3)\n",
    "axes[1].plot(time, filtered_traces.T, alpha=0.9, color='black')\n",
    "axes[1].set_title(f'Bessel {cutoff} Hz')\n",
    "axes[1].set_ylabel('Current (pA)')\n",
    "axes[1].grid(True, alpha=0.3)\n",
    "plt.tight_layout()\n",
    "plt.show()"
   ]
  },
  {
   "cell_type": "markdown",
   "id": "d1fe3716",
   "metadata": {},
   "source": [
    "### 2.3. Detect events (channel openings)"
   ]
  },
  {
   "cell_type": "code",
   "execution_count": null,
   "id": "fc9c54a7",
   "metadata": {},
   "outputs": [],
   "source": [
    "# Specify number of levels (including baseline)\n",
    "n_conductance_levels = 2  # Adjust based on your channels: baseline + open levels\n",
    "\n",
    "# Detect levels automatically\n",
    "detected_levels, fit_info = detect_levels_from_histogram(filtered_traces, n_conductance_levels, plot_result=True, bins=150)\n",
    "\n",
    "# The baseline will be the lowest detected level\n",
    "baseline_level = detected_levels[0]\n",
    "current_levels_above_baseline = detected_levels[1:]  # Levels above baseline\n",
    "\n",
    "print(f\"\\nBaseline level: {baseline_level:.3f} pA\")\n",
    "print(f\"Levels above baseline: {[f'{level:.3f}' for level in current_levels_above_baseline]} pA\")"
   ]
  },
  {
   "cell_type": "code",
   "execution_count": null,
   "id": "9223f127",
   "metadata": {},
   "outputs": [],
   "source": [
    "# Initialize detector with your filtered traces\n",
    "time_seconds = time / 1000  # Convert time from milliseconds to seconds\n",
    "detector = MultiLevelEventDetector(filtered_traces, time_seconds, sampling_freq)\n",
    "\n",
    "detector.baseline_level = baseline_level\n",
    "detector.set_current_levels(current_levels_above_baseline)\n",
    "detector.level_names"
   ]
  },
  {
   "cell_type": "code",
   "execution_count": null,
   "id": "754f6fe8",
   "metadata": {},
   "outputs": [],
   "source": [
    "# Set detection parameters\n",
    "detector.min_event_duration = 2.0  # ms - adjust based on your channel kinetics\n",
    "detector.hysteresis_factor = 0.15  # Helps with noisy transitions\n",
    "\n",
    "# Test on a single trace first\n",
    "events_trace1, idealized_trace1 = detector.detect_events_single_trace(0, plot_result=True)\n",
    "\n",
    "# ---------------------------------------------------------------------\n",
    "# Print the results\n",
    "print(f\"Found {len(events_trace1)} events in trace 1\")\n",
    "if events_trace1:\n",
    "    print(\"First few events:\")\n",
    "    for i, event in enumerate(events_trace1[:5]):\n",
    "        start_ms, end_ms, level_idx, amplitude = event\n",
    "        level_name = detector.level_names[level_idx-1] if level_idx > 0 else 'Baseline'\n",
    "        duration_ms = (end_ms - start_ms) * 1000\n",
    "        print(f\"  Event {i+1}: {start_ms*1000:.1f}-{end_ms*1000:.1f} ms, {level_name}, {duration_ms:.2f} ms duration\")\n",
    "print(f\"\\nTo process all traces, run: detector.detect_all_events()\")\n",
    "print(f\"To adjust levels, run: detector.set_current_levels([level1, level2, ...])\")\n"
   ]
  },
  {
   "cell_type": "code",
   "execution_count": null,
   "id": "b1fe9813",
   "metadata": {},
   "outputs": [],
   "source": [
    "events_all, idealized_traces = detector.detect_all_events(plot_summary=True, duration_hist_bins='auto')"
   ]
  },
  {
   "cell_type": "code",
   "execution_count": null,
   "id": "ed6e6bde",
   "metadata": {},
   "outputs": [],
   "source": [
    "# Get all event durations\n",
    "durations = detector.calculate_event_durations()\n",
    "# Returns: {'L1': [dur1, dur2, ...], 'L2': [dur1, dur2, ...], ...}\n",
    "\n",
    "# Plot duration histograms with exponential fitting\n",
    "durations = detector.plot_duration_histogram(fit_exponential=True,\n",
    "                                             bins='auto',\n",
    "                                             separate_plots=False) # True = separate plot for each level"
   ]
  },
  {
   "cell_type": "code",
   "execution_count": null,
   "id": "a79a0969",
   "metadata": {},
   "outputs": [],
   "source": [
    "# Calculate open probability\n",
    "po_overall, po_by_level, statistics = detector.calculate_open_probability()\n",
    "\n",
    "print(f\"Overall open probability: {po_overall:.4f} ({po_overall*100:.2f}%)\")\n",
    "# po_by_level gives you Po for each individual level\n",
    "# statistics gives you total recording time, open time, etc."
   ]
  },
  {
   "cell_type": "code",
   "execution_count": null,
   "id": "c7fb0ba6",
   "metadata": {},
   "outputs": [],
   "source": [
    "# Generate comprehensive report\n",
    "detector.generate_analysis_report()\n",
    "# Prints everything: Po, mean durations, event counts, etc."
   ]
  }
 ],
 "metadata": {
  "kernelspec": {
   "display_name": "CSHL_IonChannels",
   "language": "python",
   "name": "python3"
  },
  "language_info": {
   "codemirror_mode": {
    "name": "ipython",
    "version": 3
   },
   "file_extension": ".py",
   "mimetype": "text/x-python",
   "name": "python",
   "nbconvert_exporter": "python",
   "pygments_lexer": "ipython3",
   "version": "3.11.13"
  }
 },
 "nbformat": 4,
 "nbformat_minor": 5
}
