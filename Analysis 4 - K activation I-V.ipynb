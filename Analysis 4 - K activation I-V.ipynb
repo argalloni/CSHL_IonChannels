{
 "cells": [
  {
   "cell_type": "markdown",
   "id": "cf67034f",
   "metadata": {},
   "source": [
    "# K channels: activation curve"
   ]
  },
  {
   "cell_type": "markdown",
   "id": "36063dfa",
   "metadata": {},
   "source": [
    "#### **Basic instructions:**\n",
    "#### 1. **To run code cells**, you can either hit the play button to the left of the cell, or you can select the cell and **press shift-enter**.\n",
    "\n",
    "#### 2. **The first time** you run this code notebook, you might get a popup asking to choose which version of Python to use (the python \"kernel\"). **Just hit enter** to choose the base/default version.\n",
    "\n",
    "#### 3. Make sure you data (.abf) files are in the \"data\" folder here on the left. You can just copy/paste the files over from where they are saved on your computer."
   ]
  },
  {
   "cell_type": "code",
   "execution_count": null,
   "id": "10f2db92",
   "metadata": {},
   "outputs": [],
   "source": [
    "import numpy as np\n",
    "import matplotlib.pyplot as plt\n",
    "from utils import *\n",
    "update_plot_defaults()"
   ]
  },
  {
   "cell_type": "markdown",
   "id": "c1b0d022",
   "metadata": {},
   "source": [
    "## 1. Choose the data file you want to analyze\n",
    "\n",
    "#### Put the .abf files with your K channel recordings in the \"data/K_channels\" folder"
   ]
  },
  {
   "cell_type": "code",
   "execution_count": null,
   "id": "a0aa416c",
   "metadata": {},
   "outputs": [],
   "source": [
    "data_folder = \"data/2-K_channels\"\n",
    "\n",
    "from glob import glob\n",
    "data_files = glob(data_folder+\"/*.abf\")\n",
    "print(data_folder)\n",
    "data_files"
   ]
  },
  {
   "cell_type": "markdown",
   "id": "e949a52b",
   "metadata": {},
   "source": [
    "Choose which file you want to analyze and past the file name here:"
   ]
  },
  {
   "cell_type": "code",
   "execution_count": null,
   "id": "ee91c014",
   "metadata": {},
   "outputs": [],
   "source": [
    "# data_file = 'data/2-K_channels/2024_06_08_0013.abf'\n",
    "data_file = 'data/2-K_channels/K_IV.abf'"
   ]
  },
  {
   "cell_type": "markdown",
   "id": "42ee024f",
   "metadata": {},
   "source": [
    "Now we can load the file and plot the raw data:"
   ]
  },
  {
   "cell_type": "code",
   "execution_count": null,
   "id": "ec61a67c",
   "metadata": {},
   "outputs": [],
   "source": [
    "traces = Trace.from_axon_file(filename=data_file, \n",
    "                              load_voltage=True, \n",
    "                              load_ttl=True,\n",
    "                              units=['pA', 'mV', 'V'], \n",
    "                              concatenate_sweeps=False)\n",
    "print(traces)\n",
    "\n",
    "time_units = 'ms' # specify seconds (s), or milliseconds (ms)\n",
    "\n",
    "# ----------------------------------------------------------------------------------------------------------------\n",
    "%matplotlib widget\n",
    "traces.plot(plot_voltage=True, sweep='all', time_units=time_units)\n",
    "plt.show()"
   ]
  },
  {
   "cell_type": "markdown",
   "id": "23091435",
   "metadata": {},
   "source": [
    "## 2. Signal processing"
   ]
  },
  {
   "cell_type": "markdown",
   "id": "8180dcd2",
   "metadata": {},
   "source": [
    "### 2.1. Optional: apply baseline correction\n",
    "\n",
    "If your baseline current is not zero, you may need to correct for that to get accurate measurements.\n",
    "\n",
    "Uncomment this cell block (highlight everything, then cmd+/ on macOS or ctrl+/ on Windows) to run it."
   ]
  },
  {
   "cell_type": "code",
   "execution_count": null,
   "id": "3773de72",
   "metadata": {},
   "outputs": [],
   "source": [
    "# Change this to True if you want to subtract the baseline from the sweeps.\n",
    "subtract_baseline = True"
   ]
  },
  {
   "cell_type": "code",
   "execution_count": null,
   "id": "682c6b16",
   "metadata": {},
   "outputs": [],
   "source": [
    "if subtract_baseline:\n",
    "    traces.subtract_baseline(start_time = 0, \n",
    "                             end_time = 0.1, \n",
    "                             time_units = time_units,  # specify seconds (s), or milliseconds (ms)\n",
    "                             channel = 'current')  # Options: 'current', 'voltage', 'all'\n",
    "    %matplotlib widget\n",
    "    ax1, ax2 = traces.plot(plot_voltage=True, plot_ttl=False, time_units=time_units, sweep='all')\n",
    "    ax1.set_title('After baseline subtraction', y=0.98)\n",
    "    plt.show()\n",
    "else:\n",
    "    print(\"BASELINE NOT SUBTRACTED\")\n"
   ]
  },
  {
   "cell_type": "markdown",
   "id": "20b6a0a9",
   "metadata": {},
   "source": [
    "### 2.2. Optional: apply additional highpass/lowpass filtering\n",
    "\n",
    "Depending in you recording, you may have 50/60 Hz line noise, high-frequency noise, or drift in your recordings.\n",
    "\n",
    "The goal here is to only remove the noise with minimal distortion of the data, so be careful not to overdo it"
   ]
  },
  {
   "cell_type": "code",
   "execution_count": null,
   "id": "a6070e41",
   "metadata": {},
   "outputs": [],
   "source": [
    "# Change this to True if you want to subtract the baseline from the sweeps.\n",
    "additional_filtering = False"
   ]
  },
  {
   "cell_type": "code",
   "execution_count": null,
   "id": "fb705eb7",
   "metadata": {},
   "outputs": [],
   "source": [
    "if additional_filtering:\n",
    "    filtered_traces = traces\n",
    "    # Step 1: Detrend the data to remove linear or constant trends.\n",
    "    filtered_traces = filtered_traces.detrend(detrend_type='linear', num_segments=1)\n",
    "\n",
    "    # Step 2: Apply a highpass filter to remove low-frequency noise + lowpass to remove high-frequency noise\n",
    "    filtered_traces = filtered_traces.filter(\n",
    "        line_freq=60,    # Frequency (Hz) of electrical noise to remove: 50 Hz (in Europe) or 60 Hz (in the US).\n",
    "        width=0.5,         # Width (Hz) controls the width of frequency bands around the line frequency the filter cuts out.\n",
    "        highpass=0.5,   # Removes low-frequency drift. Set a value in Hz (e.g. 1 for 1 Hz).\n",
    "        lowpass=4900,    # Removes high-frequency noise. Set a value in Hz (e.g. 100 for 100 Hz).\n",
    "        order=4)         # Controls sharpness of the filter. Higher = sharper cutoff.\n",
    "\n",
    "    %matplotlib widget\n",
    "    ax = filtered_traces.plot(plot_voltage=False, plot_ttl=False)\n",
    "    ax.set_title('After filtering', y=0.98)\n",
    "    plt.show()"
   ]
  },
  {
   "cell_type": "markdown",
   "id": "230cb4c2",
   "metadata": {},
   "source": [
    "Once you are happy with the filter setting, run the next cell to implement them:"
   ]
  },
  {
   "cell_type": "code",
   "execution_count": null,
   "id": "5f1b5f7a",
   "metadata": {},
   "outputs": [],
   "source": [
    "if additional_filtering:\n",
    "    traces=filtered_traces"
   ]
  },
  {
   "cell_type": "markdown",
   "id": "f9f68842",
   "metadata": {},
   "source": [
    "## 2. Select what you want to measure"
   ]
  },
  {
   "cell_type": "markdown",
   "id": "f37defbf",
   "metadata": {},
   "source": [
    "### 2.1. Defining the time window\n",
    "\n",
    "First let's define the relevant time window where we want to measure the currents:\n",
    "\n",
    "(If you want to save the images, you can do it by clicking on the save icon in the top-right of the image when you hover over it)"
   ]
  },
  {
   "cell_type": "code",
   "execution_count": null,
   "id": "41f366a6",
   "metadata": {},
   "outputs": [],
   "source": [
    "# The start/end time just helps to zoom in on the traces.\n",
    "start_time = 190\n",
    "end_time = 450\n",
    "\n",
    "# The markers are important: the will define the window where we actually exctract peak current values from. Set them carefully.\n",
    "marker_1 = 215\n",
    "marker_2 = 410\n",
    "\n",
    "# ----------------------------------------------------------------------------------------------------------------------\n",
    "%matplotlib widget\n",
    "ax1,ax2 = traces.plot(plot_voltage=True, time_units=time_units, marker_1=marker_1, marker_2=marker_2, sweep='all')\n",
    "ax1.set_xlim(start_time,end_time)\n",
    "ax2.set_xlim(start_time,end_time)\n",
    "plt.show()"
   ]
  },
  {
   "cell_type": "markdown",
   "id": "916075f4",
   "metadata": {},
   "source": [
    "### 3.2. Measure currents\n",
    "\n",
    "Here we will be using the timepoints from the markers we defined above."
   ]
  },
  {
   "cell_type": "code",
   "execution_count": null,
   "id": "61bd7649",
   "metadata": {},
   "outputs": [],
   "source": [
    "measurement_type = 'peak' # Options: 'mean', 'max', 'min', 'peak'\n",
    "\n",
    "current_steps, voltage_steps = traces.get_measurements(start_time=marker_1, end_time=marker_2, \n",
    "                                                       measurement_type=measurement_type, time_units=time_units)\n",
    "\n",
    "if np.all(voltage_steps == voltage_steps[0]):\n",
    "    print(\"WARNING: All voltage steps are the same\")\n",
    "if np.all(current_steps == current_steps[0]):\n",
    "    print(\"WARNING: All current steps are the same\")\n",
    "%matplotlib inline\n",
    "ax = plot_IV(voltage_steps, current_steps, xlabel_coords=(0.95,0.25), ylabel_coords=(0.35,0.6))\n",
    "I_max = np.max(current_steps)\n",
    "ax.text(0.05, 0.8, f'Max Current = \\n{I_max:.2f} nA', transform=ax.transAxes)\n",
    "plt.show()"
   ]
  },
  {
   "cell_type": "markdown",
   "id": "4a28b8c3",
   "metadata": {},
   "source": [
    "### 3.3. Get K activation curve and fit Boltzmann (sigmoid) "
   ]
  },
  {
   "cell_type": "markdown",
   "id": "a9b45c5b",
   "metadata": {},
   "source": [
    "We will be fitting this function (Boltzmann equation) to your data points:\n",
    "$$ \\frac{I}{I_{\\text{max}}} = I_{norm} = \\frac{1}{1 + \\exp\\left(\\frac{V_{\\text{half}} - V}{k}\\right)}$$"
   ]
  },
  {
   "cell_type": "code",
   "execution_count": null,
   "id": "82137af1",
   "metadata": {},
   "outputs": [],
   "source": [
    "I_norm = current_steps / np.max(current_steps)\n",
    "\n",
    "# Fit the Boltzmann function (sigmoidal curve) to the data and overlay\n",
    "from scipy.optimize import curve_fit\n",
    "def boltzmann(V, V_half, k):\n",
    "    return 1 / (1 + np.exp((V_half - V) / k))\n",
    "k_guess = 5 # Initial guess for the slope parameter to fit the curve\n",
    "popt, _ = curve_fit(boltzmann, voltage_steps, I_norm, p0=[np.median(voltage_steps), k_guess])\n",
    "V_half_fit, k_fit = popt\n",
    "V_fit = np.linspace(np.min(voltage_steps), np.max(voltage_steps), 500)\n",
    "I_fit = boltzmann(V_fit, V_half_fit, k_fit)\n",
    "print(f\"V_half = {V_half_fit:.2f} mV, k = {k_fit:.2f}\")\n",
    "\n",
    "# Plot normalized data points & fitted curve\n",
    "fig, ax = plt.subplots(figsize=(5, 4))\n",
    "ax.plot(voltage_steps, I_norm, 'o', label='Data', color='black')\n",
    "ax.plot(V_fit, I_fit, '-', label='Boltzmann fit', color='red')\n",
    "ax.text(0.5, 0.3, 'V$_{1/2}$ ='+f'{V_half_fit:.2f} mV \\nk = {k_fit:.2f}', transform=ax.transAxes, ha='left', va='top')\n",
    "ax.set_xlabel('Voltage (mV)')\n",
    "ax.set_ylabel('Normalized current (I/Imax)')\n",
    "ax.set_title('K Channel Activation Curve')\n",
    "ax.legend(handlelength=1, loc='upper left', handletextpad=0.5)\n",
    "plt.show()"
   ]
  },
  {
   "cell_type": "markdown",
   "id": "ceb5c571",
   "metadata": {},
   "source": [
    "### 3.4. Fit exponential curve to get the rise timeconstant\n",
    "\n",
    "First let's define the relevant time window where we want to fit\n",
    "\n",
    "We will be cropping the traces around the markers and fit exponential curves to the risetimes"
   ]
  },
  {
   "cell_type": "code",
   "execution_count": null,
   "id": "67d585fa",
   "metadata": {},
   "outputs": [],
   "source": [
    "# The start/end time just helps to zoom in on the traces.\n",
    "start_time = 212\n",
    "end_time = 250\n",
    "\n",
    "# The markers are important: the will define the window where we actually exctract peak current values from. Set them carefully.\n",
    "marker_1 = 214\n",
    "marker_2 = 240\n",
    "\n",
    "# ----------------------------------------------------------------------------------------------------------------------\n",
    "%matplotlib widget\n",
    "ax1,ax2 = traces.plot(plot_voltage=True, time_units=time_units, marker_1=marker_1, marker_2=marker_2, sweep='all')\n",
    "ax1.set_xlim(start_time,end_time)\n",
    "ax2.set_xlim(start_time,end_time)\n",
    "plt.show()"
   ]
  },
  {
   "cell_type": "markdown",
   "id": "1c41378f",
   "metadata": {},
   "source": [
    "Once you are happy with the markers, we can crop the trace and fit exponetial curves to get the rise tau"
   ]
  },
  {
   "cell_type": "code",
   "execution_count": null,
   "id": "b102ccdf",
   "metadata": {},
   "outputs": [],
   "source": [
    "# We need an initial guess for fitting the exponential curve\n",
    "# (if the fit doesn't work, try to change this value))\n",
    "tau_guess = 10 # milliseconds\n",
    "\n",
    "# If the fit still doesn't work, try to change the position of marker 1\n",
    "\n",
    "# -----------------------------------------------------------------------------------------------------------------\n",
    "cropped_traces = traces.crop(timepoint=marker_1, timepoint_2=marker_2, time_units=time_units)\n",
    "\n",
    "%matplotlib widget\n",
    "ax = cropped_traces.plot(plot_voltage=True, plot_ttl=False, time_units=time_units, sweep='all')\n",
    "\n",
    "def exponential_curve(time, I_max, tau, I_baseline):\n",
    "    \"\"\"\n",
    "    Rising exponential: I(t) = I_max * (1 - exp(-t/tau)) + I_baseline\n",
    "    \"\"\"\n",
    "    return I_max * (1 - np.exp(-time / tau)) + I_baseline\n",
    "\n",
    "tau_values = []\n",
    "time_ms = cropped_traces.time_ms\n",
    "for trace in cropped_traces.current_data:\n",
    "    Imax_guess = trace[0]\n",
    "    peak_index = np.argmax(np.abs(trace-Imax_guess))\n",
    "    peak_value = trace[peak_index]\n",
    "    I_baseline_guess = peak_value\n",
    "    try:\n",
    "        fit_params,_ = curve_fit(exponential_curve, time_ms[0:peak_index], trace[0:peak_index], \n",
    "                                    p0=[Imax_guess, tau_guess, I_baseline_guess], maxfev=1000000)\n",
    "        Imax_fit, tau_fit, I_baseline_fit = fit_params\n",
    "        tau_values.append(tau_fit)\n",
    "\n",
    "        if Imax_fit < I_baseline_fit: # These are K currents, so we expect and outward (+ve) current\n",
    "            tau_values[-1] = np.nan\n",
    "        if tau_fit > 1000: # Remove outliers (bad fits), we are not expecting a tau > 1 second for these currents\n",
    "            tau_values[-1] = np.nan\n",
    "        if tau_fit < 0:\n",
    "            tau_values[-1] = np.nan\n",
    "\n",
    "        # Overlay fit\n",
    "        fit_trace = exponential_curve(time_ms[0:peak_index], *fit_params)\n",
    "        ax[0].plot(time_ms[0:peak_index], fit_trace[0:peak_index], color='r', alpha=1, linewidth=2)\n",
    "    except RuntimeError:\n",
    "        print(\"Error fitting trace\")\n",
    "        tau_values.append(np.nan)\n",
    "        continue\n",
    "plt.show()"
   ]
  },
  {
   "cell_type": "markdown",
   "id": "1140585f",
   "metadata": {},
   "source": [
    "Finally, let's plot the the rise timeconstant vs the voltage steps applied."
   ]
  },
  {
   "cell_type": "code",
   "execution_count": null,
   "id": "e1d8e856",
   "metadata": {},
   "outputs": [],
   "source": [
    "voltage_steps = cropped_traces.voltage_data[:, 0]\n",
    "tau_values = np.array(tau_values)\n",
    "nan_idx = np.isnan(tau_values)\n",
    "voltage_steps = voltage_steps[~nan_idx]\n",
    "tau_values = tau_values[~nan_idx]\n",
    "\n",
    "%matplotlib inline\n",
    "fig, ax = plt.subplots(1, 1, figsize=(6, 4))\n",
    "ax.plot(voltage_steps, tau_values, 'o-')\n",
    "ax.set_ylabel('Tau (ms)')\n",
    "ax.set_xlabel('Voltage (mV)')\n",
    "plt.show()"
   ]
  },
  {
   "cell_type": "markdown",
   "id": "4a4a276f",
   "metadata": {},
   "source": [
    "### Optional: export the tau values\n",
    "\n",
    "If we want to compare different conditions, we can export the tau values, rerun the analysis for the other conditions (e.g. with antagonists), and then plot the values on the same graph"
   ]
  },
  {
   "cell_type": "code",
   "execution_count": null,
   "id": "a05efc00",
   "metadata": {},
   "outputs": [],
   "source": [
    "# Save tau values to csv\n",
    "name = 'K_channel_tau_condition1'\n",
    "folder = 'outputs/conditions_to_compare/'\n",
    "\n",
    "import os\n",
    "os.makedirs(folder, exist_ok=True) # If the folder doesn't exist, create it.\n",
    "x_data = voltage_steps\n",
    "y_data = tau_values\n",
    "data = np.column_stack((x_data, y_data))\n",
    "np.savetxt(folder + name + '.csv', data, delimiter=',')\n",
    "\n",
    "from glob import glob\n",
    "data_files = glob(folder+\"/*.csv\")\n",
    "data_files"
   ]
  },
  {
   "cell_type": "code",
   "execution_count": null,
   "id": "bd9bccc3",
   "metadata": {},
   "outputs": [],
   "source": [
    "# Load all the files in the folder and plot them on the same graph\n",
    "fig, ax = plt.subplots(1, 1, figsize=(6, 4))\n",
    "for file in data_files:\n",
    "    data = np.loadtxt(file, delimiter=',')\n",
    "    basename = os.path.basename(file)[:-4]\n",
    "    ax.plot(data[:, 0], data[:, 1],'o-',label=basename)\n",
    "ax.set_ylabel('Tau (ms)')\n",
    "ax.set_xlabel('Voltage (mV)')\n",
    "plt.legend(loc='best', handlelength=2, handletextpad=0.5)\n",
    "plt.show()"
   ]
  },
  {
   "cell_type": "code",
   "execution_count": null,
   "id": "e5338388",
   "metadata": {},
   "outputs": [],
   "source": []
  }
 ],
 "metadata": {
  "kernelspec": {
   "display_name": "CSHL_IonChannels",
   "language": "python",
   "name": "python3"
  },
  "language_info": {
   "codemirror_mode": {
    "name": "ipython",
    "version": 3
   },
   "file_extension": ".py",
   "mimetype": "text/x-python",
   "name": "python",
   "nbconvert_exporter": "python",
   "pygments_lexer": "ipython3",
   "version": "3.11.13"
  }
 },
 "nbformat": 4,
 "nbformat_minor": 5
}
