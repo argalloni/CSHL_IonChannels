





%matplotlib inline
import numpy as np
import matplotlib.pyplot as plt
from utils import *
from single_channel_analysis import *
update_plot_defaults()
plt.rcParams.update({'figure.figsize': [14.0, 4.0]})

%load_ext autoreload
%autoreload 2


import sys
sys.path.append('../miniML/core/')
from miniML import MiniTrace, EventDetection
from miniML_plot_functions import miniML_plots





data_folder = "data/miniEPSCs"

from glob import glob
data_files = glob(data_folder+"/*.abf")
print(data_folder)
data_files





# data_file = 'data/miniEPSCs\\25430003.abf'
# data_file = 'data/miniEPSCs\\25523018.abf'
# data_file = 'data/miniEPSCs\\25523016.abf'
data_file = 'data/miniEPSCs\\25523018.abf'





current_traces = MiniTrace.from_axon_file(filename=data_file, channel=0, unit='pA')

import inspect
attributes = [name for name, value in inspect.getmembers(type(current_traces)) if isinstance(value, property)]
print(f"Trace callable attributes: {attributes}")
print(f"sampling rate: {current_traces.sampling_rate} Hz")

ax = plot_traces(current_traces.time_axis, current_traces.data)
# ax[0].set_ylim([-1000,200])
# ax[0].set_xlim([1.1,2.9])
plt.show()





filtered_traces = current_traces

# Step 1: Detrend the data to remove linear or constant trends.
filtered_traces = filtered_traces.detrend(detrend_type='linear', num_segments=10)

# Step 2: Apply a highpass filter to remove low-frequency noise + lowpass to remove high-frequency noise
filtered_traces = filtered_traces.filter(
    line_freq=60,    # Frequency (Hz) of electrical noise to remove: 50 Hz (in Europe) or 60 Hz (in the US).
    width=2,         # Width (Hz) controls the width of frequency bands around the line frequency the filter cuts out.
    highpass=0.02,      # Removes low-frequency drift. Set a value in Hz (e.g. 1 for 1 Hz).
    lowpass=2000,    # Removes high-frequency noise. Set a value in Hz (e.g. 100 for 100 Hz).
    order=4)         # Controls sharpness of the filter. Higher = sharper cutoff.


ax = plot_traces(filtered_traces.time_axis, filtered_traces.data)
# ax[0].set_ylim([-1000,200])
# ax[0].set_xlim([1.1,2.9])
plt.show()





marker_1 = 25    # seconds
marker_2 = 150   # seconds

current_traces = filtered_traces
ax = plot_traces(current_traces.time_axis, current_traces.data,  marker_1=marker_1, marker_2=marker_2)
# ax[0].set_ylim([-1000,200])
# ax[0].set_xlim([1.1,2.9])
plt.show()


start_idx = time_to_index(marker_1, current_traces.sampling_rate, time_unit='s')
end_idx = time_to_index(marker_2, current_traces.sampling_rate, time_unit='s')

current_traces_crop = MiniTrace(current_traces.data[start_idx:end_idx], sampling_interval=current_traces.sampling, y_unit=current_traces.y_unit, filename=current_traces.filename)

ax = plot_traces(current_traces_crop.time_axis, current_traces_crop.data)
# ax[0].set_ylim([-1000,200])
# ax[0].set_xlim([1.1,2.9])
plt.show()





win_size = 600
direction = 'negative'
detection_thresho

detection = EventDetection(data=current_traces_crop,
                        #    model_path='../miniML/models/GC_lstm_model.h5',
                           model_path='../miniML/models/transfer_learning/GC_mEPSP/lstm_transfer.h5',
                           window_size=win_size,
                           model_threshold=0.5,  
                           batch_size=512,
                           event_direction=direction,
                           compile_model=True,
                           verbose=2)

detection.detect_events(eval=True,
                        peak_w=5,  # Minimum width of peaks in the prediction trace.
                        rel_prom_cutoff=0.25,   # Detection threshold for 1st derivative of trace. If there are very few overlapping events, this value can be set to 1 to find only single peaks.
                        convolve_win=20, gradient_convolve_win=40) # Don't touch this





MiniPlots = miniML_plots(data=detection)
MiniPlots.plot_prediction(include_data=True, plot_filtered_prediction=True, plot_filtered_trace=False, plot_event_params=False)

print(f'Number of events detected: {detection.events.shape[0]}')


MiniPlots.plot_detection()


# Explore a few individual events
fig, axes = plt.subplots(2,3,figsize=(14,4))
event_nr = 5
for i,event_idx in enumerate(range(event_nr,event_nr+6)):
    event_trace = detection.events[event_idx]
    ax = axes.flatten()[i]
    ax.plot(event_trace)
    ax.set_title(f'Event {event_idx}')
    ax.set_xlabel('Time (ms)')
    ax.set_ylabel('Amplitude (mV)')
plt.tight_layout()
plt.show()


x_axis_range = (10,50)

# --------------------------------------------------------------------------------------------------------------------
fig, ax = plt.subplots(figsize=(10, 5))
ax.plot(detection.trace.time_axis, detection.trace.data, zorder=1, c='b')
ax.scatter(detection.event_peak_times, detection.trace.data[detection.event_peak_locations], c='orange', s=20, zorder=2)
# dat_range = np.abs(np.max(detection.trace.data) - np.min(detection.trace.data))
# dat_min = np.min(detection.trace.data)
# ax.eventplot(detection.event_peak_times, lineoffsets=dat_min - dat_range/15, linelengths=dat_range/20, color='k', lw=1.5)
ax.set_xlim(x_axis_range)
ax.set_xlabel('s')
ax.set_ylabel(f'{detection.trace.y_unit}')
plt.show()



bin_size = 20

fig, axes = plt.subplots(2,2, figsize=(10,10))
ax = axes[0,0]
amplitudes=detection.event_peak_values - detection.event_bsls
# amplitudes = detection.event_stats.amplitudes
ax.hist(amplitudes, bins=20)
ax.set_xlabel( f'Amplitude ({detection.trace.y_unit})')
ax.set_ylabel('Count')

ax = axes[0,1]
inter_event_interval = np.diff(detection.event_locations * detection.trace.sampling, prepend=0)
ax.hist(inter_event_interval, bins=bin_size)
ax.set_xlabel('Inter-event interval (s)')
ax.set_ylabel('Count')

ax = axes[1,0]
ax.hist(detection.decaytimes*1000, bins=bin_size)
ax.set_xlabel('Half-decay time (ms)')
ax.set_ylabel('Count')

ax = axes[1,1]
ax.hist(detection.risetimes*1000, bins=bin_size)
ax.set_xlabel('Rise time, 10-90% (ms)')
ax.set_ylabel('Count')
plt.show()


MiniPlots.plot_event_overlay()
detection.event_stats.print()



