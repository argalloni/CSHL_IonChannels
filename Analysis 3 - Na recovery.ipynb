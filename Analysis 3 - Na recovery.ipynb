{
 "cells": [
  {
   "cell_type": "markdown",
   "id": "5f8f86b4",
   "metadata": {},
   "source": [
    "# Na channels: recovery from inactivation"
   ]
  },
  {
   "cell_type": "markdown",
   "id": "3f6b863a",
   "metadata": {},
   "source": [
    "#### **Basic instructions:**\n",
    "#### 1. **To run code windows/blocks:** \n",
    "\n",
    "    - you can either hit the play button to the left of the code window \n",
    "\n",
    "    - or you can use they keyboard shortcut: select the block and press 'shift-enter'.\n",
    "\n",
    "#### 2. **The first time** you run this code notebook, you might get a popup asking to choose which version of Python to use (the python \"kernel\"). **Just hit enter** to choose the base/default version.\n",
    "\n",
    "#### 3. Make sure you data (.abf) files are in the \"data\" folder here on the left. You can just copy/paste the files from where they are saved on your computer."
   ]
  },
  {
   "cell_type": "code",
   "execution_count": null,
   "id": "10f2db92",
   "metadata": {},
   "outputs": [],
   "source": [
    "import numpy as np\n",
    "import matplotlib.pyplot as plt\n",
    "from utils import *\n",
    "update_plot_defaults()"
   ]
  },
  {
   "cell_type": "markdown",
   "id": "a15326da",
   "metadata": {},
   "source": [
    "## 1. Choose the data file you want to analyze\n",
    "\n",
    "#### Put the .abf files with your Na channel recordings in the \"data/Na_channels\" folder"
   ]
  },
  {
   "cell_type": "code",
   "execution_count": null,
   "id": "67fae2bf",
   "metadata": {},
   "outputs": [],
   "source": [
    "data_folder = \"data/1-Na_channels\"\n",
    "\n",
    "from glob import glob\n",
    "data_files = glob(data_folder+\"/*.abf\")\n",
    "print(data_folder)\n",
    "data_files"
   ]
  },
  {
   "cell_type": "markdown",
   "id": "f7d27818",
   "metadata": {},
   "source": [
    "Choose which file you want to analyze and past the file name here:"
   ]
  },
  {
   "cell_type": "code",
   "execution_count": null,
   "id": "ff75ed5c",
   "metadata": {},
   "outputs": [],
   "source": [
    "# data_file = 'data/1-Na_channels/nav18-nav_recovery.abf'\n",
    "data_file = \"data/1-Na_channels/inactivation recovery/nav_inactivation_recovery -120mv_3.abf\""
   ]
  },
  {
   "cell_type": "markdown",
   "id": "7bb6cf8f",
   "metadata": {},
   "source": [
    "Now we can load the file and plot the raw data:"
   ]
  },
  {
   "cell_type": "code",
   "execution_count": null,
   "id": "9aa095ab",
   "metadata": {},
   "outputs": [],
   "source": [
    "traces = Trace.from_axon_file(filename=data_file, \n",
    "                              load_voltage=True, \n",
    "                              load_ttl=True,\n",
    "                              units=['pA', 'mV', 'V'], \n",
    "                              concatenate_sweeps=False)\n",
    "print(traces)\n",
    "\n",
    "time_units = 'ms'\n",
    "\n",
    "# ----------------------------------------------------------------------------------------------------------------\n",
    "%matplotlib widget\n",
    "traces.plot(plot_voltage=True, \n",
    "            time_units=time_units, \n",
    "            sweep='all')  # Options: 'all', or enter a number here if you want to plot individual sweeps\n",
    "plt.show()"
   ]
  },
  {
   "cell_type": "markdown",
   "id": "187a86a1",
   "metadata": {},
   "source": [
    "## 2. Signal processing"
   ]
  },
  {
   "cell_type": "markdown",
   "id": "3b18fdfe",
   "metadata": {},
   "source": [
    "### 2.1. Optional: apply baseline correction\n",
    "\n",
    "If your baseline current is not zero, you may need to correct for that to get accurate measurements.\n",
    "\n",
    "Uncomment this cell block (highlight everything, then cmd+/ on macOS or ctrl+/ on Windows) to run it."
   ]
  },
  {
   "cell_type": "code",
   "execution_count": null,
   "id": "8be99681",
   "metadata": {},
   "outputs": [],
   "source": [
    "# Change this to True if you want to subtract the baseline from the sweeps.\n",
    "subtract_baseline = True\n",
    "start_baseline = 0\n",
    "end_baseline = 0.1"
   ]
  },
  {
   "cell_type": "code",
   "execution_count": null,
   "id": "f708a02c",
   "metadata": {},
   "outputs": [],
   "source": [
    "if subtract_baseline:\n",
    "    traces.subtract_baseline(start_time = start_baseline, \n",
    "                             end_time = end_baseline , \n",
    "                             time_units = time_units,  # specify seconds (s), or milliseconds (ms)\n",
    "                             channel = 'current')  # Options: 'current', 'voltage', 'all'\n",
    "    %matplotlib widget\n",
    "    ax1, ax2 = traces.plot(plot_voltage=True, plot_ttl=False, time_units=time_units, sweep='all')\n",
    "    ax1.set_title('After baseline subtraction', y=0.98)\n",
    "    plt.show()\n",
    "else:\n",
    "    print(\"BASELINE NOT SUBTRACTED\")\n"
   ]
  },
  {
   "cell_type": "markdown",
   "id": "5573c12c",
   "metadata": {},
   "source": [
    "### 2.2. Optional: apply additional highpass/lowpass filtering\n",
    "\n",
    "Depending in you recording, you may have 50/60 Hz line noise, high-frequency noise, or drift in your recordings.\n",
    "\n",
    "The goal here is to only remove the noise with minimal distortion of the data, so be careful not to overdo it"
   ]
  },
  {
   "cell_type": "code",
   "execution_count": null,
   "id": "cd66ae33",
   "metadata": {},
   "outputs": [],
   "source": [
    "additional_filtering = False"
   ]
  },
  {
   "cell_type": "code",
   "execution_count": null,
   "id": "3de12c65",
   "metadata": {},
   "outputs": [],
   "source": [
    "if additional_filtering:\n",
    "    filtered_traces = traces\n",
    "    # Step 1: Detrend the data to remove linear or constant trends.\n",
    "    filtered_traces = filtered_traces.detrend(detrend_type='linear', num_segments=1)\n",
    "\n",
    "    # Step 2: Apply a highpass filter to remove low-frequency noise + lowpass to remove high-frequency noise\n",
    "    filtered_traces = filtered_traces.filter(\n",
    "        line_freq=60,    # Frequency (Hz) of electrical noise to remove: 50 Hz (in Europe) or 60 Hz (in the US).\n",
    "        width=0.5,         # Width (Hz) controls the width of frequency bands around the line frequency the filter cuts out.\n",
    "        highpass=0.5,   # Removes low-frequency drift. Set a value in Hz (e.g. 1 for 1 Hz).\n",
    "        lowpass=4900,    # Removes high-frequency noise. Set a value in Hz (e.g. 100 for 100 Hz).\n",
    "        order=4)         # Controls sharpness of the filter. Higher = sharper cutoff.\n",
    "\n",
    "    %matplotlib widget\n",
    "    ax = filtered_traces.plot(plot_voltage=False, plot_ttl=False)\n",
    "    ax.set_title('After filtering', y=0.98)\n",
    "    plt.show()"
   ]
  },
  {
   "cell_type": "markdown",
   "id": "127702ca",
   "metadata": {},
   "source": [
    "Once you are happy with the filter setting, run the next cell to implement them:"
   ]
  },
  {
   "cell_type": "code",
   "execution_count": null,
   "id": "e6a5279f",
   "metadata": {},
   "outputs": [],
   "source": [
    "if additional_filtering:\n",
    "    traces=filtered_traces"
   ]
  },
  {
   "cell_type": "markdown",
   "id": "c32b4e36",
   "metadata": {},
   "source": [
    "## 3. Measure recovery currents"
   ]
  },
  {
   "cell_type": "markdown",
   "id": "c7bd058f",
   "metadata": {},
   "source": [
    "#### 3.1 Reference current\n",
    "\n",
    "First let's get the times of all the voltage steps"
   ]
  },
  {
   "cell_type": "code",
   "execution_count": null,
   "id": "f70b64b4",
   "metadata": {},
   "outputs": [],
   "source": [
    "step_times = traces.get_step_events(threshold=-50, polarity='positive', sweep='all',\n",
    "                                   edge='rising', channel='voltage', time_units=time_units)\n",
    "print(f\"Step times:\")\n",
    "step_times"
   ]
  },
  {
   "cell_type": "markdown",
   "id": "94ff0b70",
   "metadata": {},
   "source": [
    "Now we can measure the reference current after the initial step"
   ]
  },
  {
   "cell_type": "code",
   "execution_count": null,
   "id": "f1593e25",
   "metadata": {},
   "outputs": [],
   "source": [
    "window_size = 10 #ms\n",
    "\n",
    "reference_step_traces = traces.crop(timepoint=step_times[0][0], window=window_size, time_units='ms')\n",
    "ax = reference_step_traces.plot(plot_voltage=False, plot_ttl=False, time_units=time_units, sweep='all')\n",
    "ax.set_title('Single stim',y=0.95)\n",
    "plt.show()"
   ]
  },
  {
   "cell_type": "markdown",
   "id": "c702aab6",
   "metadata": {},
   "source": [
    "Now we need to define in which time interval we want to measure the current peak\n",
    "\n",
    "(make sure to pick a start_time that starts after the stim artiface/capacitive transient)"
   ]
  },
  {
   "cell_type": "code",
   "execution_count": null,
   "id": "5e7b6308",
   "metadata": {},
   "outputs": [],
   "source": [
    "start_time = 0.2\n",
    "end_time = 4\n",
    "\n",
    "reference_currents, _ = traces.get_measurements(start_time=start_time, end_time=end_time, measurement_type='min', time_units=time_units)"
   ]
  },
  {
   "cell_type": "markdown",
   "id": "1b682de5",
   "metadata": {},
   "source": [
    "#### 3.2. Recovery currents\n",
    "\n",
    "Now let's repeat this for the other currents"
   ]
  },
  {
   "cell_type": "code",
   "execution_count": null,
   "id": "200446ea",
   "metadata": {},
   "outputs": [],
   "source": [
    "recovery_currents = []\n",
    "for i, step_time in enumerate(step_times):\n",
    "    current,_ = traces.get_measurements(sweep=i, measurement_type='min', time_units=time_units, start_time=step_time[1]+start_time, end_time=step_time[1]+end_time)\n",
    "    recovery_currents.append(current)\n",
    "\n",
    "%matplotlib inline\n",
    "fig,ax = plt.subplots(figsize=(8,3))\n",
    "x = range(len(recovery_currents))\n",
    "ax.plot(x, recovery_currents, '-o')\n",
    "ax.set_ylabel('Recovery current (pA)')\n",
    "ax.set_xlabel(\"sweep nr.\")\n",
    "plt.show()"
   ]
  },
  {
   "cell_type": "code",
   "execution_count": null,
   "id": "7ff24e33",
   "metadata": {},
   "outputs": [],
   "source": [
    "# Normalize the measured currents against the baseline/reference currents\n",
    "peak_currents_norm = recovery_currents / reference_currents"
   ]
  },
  {
   "cell_type": "markdown",
   "id": "983c4300",
   "metadata": {},
   "source": [
    "### 3.4. Plot the channel recovery curve\n",
    "\n",
    "Here we will need to manually define the recovery time points based on our protocol."
   ]
  },
  {
   "cell_type": "code",
   "execution_count": null,
   "id": "3ec969b4",
   "metadata": {},
   "outputs": [],
   "source": [
    "# Define the delta t delays for the recovery\n",
    "interval_step = 5    # milliseconds\n",
    "\n",
    "end = interval_step*(len(peak_currents_norm)+1)\n",
    "recovery_time = np.arange(interval_step, end, interval_step)  # in milliseconds\n",
    "\n",
    "# Plot the normalized current steps against the holding voltages\n",
    "%matplotlib inline\n",
    "fig,ax = plt.subplots(figsize=(5, 4))\n",
    "ax.plot(recovery_time, peak_currents_norm, 'o', color='black', markersize=5)\n",
    "ax.set_xlabel('Recovery time (ms)')\n",
    "ax.set_ylabel('Current (norm.)')\n",
    "ax.set_title('Recovery of NaV currents')\n",
    "\n",
    "# Fit exponential curve to the data to get the time constant\n",
    "from scipy.optimize import curve_fit\n",
    "def exponential_curve(time, V0, tau, V_inf):\n",
    "    return V0 * np.exp(-time / tau) + V_inf\n",
    "V0_guess = 0 \n",
    "Vinf_guess = 1\n",
    "tau_guess = 20 # ms\n",
    "p0 = [V0_guess, tau_guess, Vinf_guess]\n",
    "popt, _ = curve_fit(exponential_curve, recovery_time, peak_currents_norm, p0=p0)\n",
    "V0_fit, tau_fit, Vinf_fit = popt\n",
    "\n",
    "print(f\"Tau: {tau_fit:.2f} ms\")\n",
    "\n",
    "# Overlay exponential fit\n",
    "fit_trace = exponential_curve(recovery_time, *popt)\n",
    "ax.plot(recovery_time, fit_trace, color='r', alpha=1, linewidth=2)\n",
    "plt.show()"
   ]
  },
  {
   "cell_type": "code",
   "execution_count": null,
   "id": "226cffe3",
   "metadata": {},
   "outputs": [],
   "source": []
  }
 ],
 "metadata": {
  "kernelspec": {
   "display_name": "miniML",
   "language": "python",
   "name": "python3"
  },
  "language_info": {
   "codemirror_mode": {
    "name": "ipython",
    "version": 3
   },
   "file_extension": ".py",
   "mimetype": "text/x-python",
   "name": "python",
   "nbconvert_exporter": "python",
   "pygments_lexer": "ipython3",
   "version": "3.11.13"
  }
 },
 "nbformat": 4,
 "nbformat_minor": 5
}
