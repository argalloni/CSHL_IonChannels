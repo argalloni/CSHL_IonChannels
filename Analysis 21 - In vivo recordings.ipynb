{
 "cells": [
  {
   "cell_type": "markdown",
   "id": "29c8dae6",
   "metadata": {},
   "source": [
    "# In vivo recordings"
   ]
  },
  {
   "cell_type": "markdown",
   "id": "e0256143",
   "metadata": {},
   "source": [
    "#### **Basic instructions:**\n",
    "#### 1. **To run code windows/blocks:** \n",
    "\n",
    "    - you can either hit the play button to the left of the code window \n",
    "\n",
    "    - or you can use they keyboard shortcut: select the block and press 'shift-enter'.\n",
    "\n",
    "#### 2. **The first time** you run this code notebook, you might get a popup asking to choose which version of Python to use (the python \"kernel\"). **Just hit enter** to choose the base/default version.\n",
    "\n",
    "#### 3. Make sure you data (.abf) files are in the \"data\" folder here on the left. You can just copy/paste the files from where they are saved on your computer."
   ]
  },
  {
   "cell_type": "code",
   "execution_count": 1,
   "id": "10f2db92",
   "metadata": {},
   "outputs": [],
   "source": [
    "import numpy as np\n",
    "import matplotlib.pyplot as plt\n",
    "from utils import *\n",
    "update_plot_defaults()\n",
    "%load_ext autoreload\n",
    "%autoreload 2"
   ]
  },
  {
   "cell_type": "markdown",
   "id": "c1b0d022",
   "metadata": {},
   "source": [
    "## 1. Choose the data file you want to analyze\n",
    "\n",
    "#### Put the .abf files with your Ih recordings in the \"data/13-In_vivo\" folder"
   ]
  },
  {
   "cell_type": "code",
   "execution_count": 2,
   "id": "f083e873",
   "metadata": {},
   "outputs": [
    {
     "name": "stdout",
     "output_type": "stream",
     "text": [
      "Folders:\n",
      "Files:\n"
     ]
    },
    {
     "data": {
      "text/plain": [
       "['data/13-In_vivo/eric_mp10_2025-06-18_0001.h5',\n",
       " 'data/13-In_vivo/shannon_MP2_2025-06-17_0001.h5']"
      ]
     },
     "execution_count": 2,
     "metadata": {},
     "output_type": "execute_result"
    }
   ],
   "source": [
    "data_folder = \"data/13-In_vivo\"\n",
    "\n",
    "import os\n",
    "print(\"Folders:\")\n",
    "for subdir in os.listdir(data_folder):\n",
    "    if os.path.isdir(data_folder + \"/\" + subdir):\n",
    "        print(f\"'{data_folder}/{subdir}'\")\n",
    "\n",
    "from glob import glob\n",
    "print(\"Files:\")\n",
    "data_files = glob(data_folder+\"/*.h5\")\n",
    "data_files.sort()\n",
    "data_files"
   ]
  },
  {
   "cell_type": "markdown",
   "id": "7be75c90",
   "metadata": {},
   "source": [
    "Choose which file you want to analyze (copy name from above) and paste the file name here:"
   ]
  },
  {
   "cell_type": "code",
   "execution_count": 3,
   "id": "ee91c014",
   "metadata": {},
   "outputs": [],
   "source": [
    "# data_file = 'data/13-In_vivo/shannon_MP2_2025-06-17_0001.h5'\n",
    "data_file = 'data/13-In_vivo/eric_mp10_2025-06-18_0001.h5'"
   ]
  },
  {
   "cell_type": "code",
   "execution_count": null,
   "id": "b02c87b0",
   "metadata": {},
   "outputs": [
    {
     "ename": "IndexError",
     "evalue": "index 2 is out of bounds for axis 0 with size 2",
     "output_type": "error",
     "traceback": [
      "\u001b[0;31m---------------------------------------------------------------------------\u001b[0m",
      "\u001b[0;31mIndexError\u001b[0m                                Traceback (most recent call last)",
      "Cell \u001b[0;32mIn[4], line 1\u001b[0m\n\u001b[0;32m----> 1\u001b[0m data \u001b[38;5;241m=\u001b[39m \u001b[43mload_data_file\u001b[49m\u001b[43m(\u001b[49m\u001b[43mdata_file\u001b[49m\u001b[43m)\u001b[49m\n\u001b[1;32m      3\u001b[0m \u001b[38;5;66;03m# # Load with time constraints\u001b[39;00m\n\u001b[1;32m      4\u001b[0m \u001b[38;5;66;03m# data_subset = load_data_file('example_data.h5', \u001b[39;00m\n\u001b[1;32m      5\u001b[0m \u001b[38;5;66;03m#                             format_string='double',\u001b[39;00m\n\u001b[0;32m   (...)\u001b[0m\n\u001b[1;32m     13\u001b[0m \u001b[38;5;66;03m# print(\"Data loaded successfully!\")\u001b[39;00m\n\u001b[1;32m     14\u001b[0m \u001b[38;5;66;03m# print(f\"Available keys: {list(data.keys())}\")\u001b[39;00m\n",
      "File \u001b[0;32m~/github-repos/CSHL_IonChannels2025/CSHL_IonChannels2025/utils.py:185\u001b[0m, in \u001b[0;36mload_data_file\u001b[0;34m(filename, format_string, t_min, t_max, min_sweep_index, max_sweep_index)\u001b[0m\n\u001b[1;32m    182\u001b[0m                 scaled_data \u001b[38;5;241m=\u001b[39m scaled_single_analog_data_from_raw(\n\u001b[1;32m    183\u001b[0m                     analog_data_as_counts, analog_channel_scales, analog_scaling_coefficients)\n\u001b[1;32m    184\u001b[0m             \u001b[38;5;28;01melse\u001b[39;00m:\n\u001b[0;32m--> 185\u001b[0m                 scaled_data \u001b[38;5;241m=\u001b[39m \u001b[43mscaled_double_analog_data_from_raw\u001b[49m\u001b[43m(\u001b[49m\n\u001b[1;32m    186\u001b[0m \u001b[43m                    \u001b[49m\u001b[43manalog_data_as_counts\u001b[49m\u001b[43m,\u001b[49m\u001b[43m \u001b[49m\u001b[43manalog_channel_scales\u001b[49m\u001b[43m,\u001b[49m\u001b[43m \u001b[49m\u001b[43manalog_scaling_coefficients\u001b[49m\u001b[43m)\u001b[49m\n\u001b[1;32m    188\u001b[0m             data_file_as_struct[field_name][\u001b[38;5;124m'\u001b[39m\u001b[38;5;124manalogScans\u001b[39m\u001b[38;5;124m'\u001b[39m] \u001b[38;5;241m=\u001b[39m scaled_data\n\u001b[1;32m    190\u001b[0m \u001b[38;5;28;01mreturn\u001b[39;00m data_file_as_struct\n",
      "File \u001b[0;32m~/github-repos/CSHL_IonChannels2025/CSHL_IonChannels2025/utils.py:311\u001b[0m, in \u001b[0;36mscaled_double_analog_data_from_raw\u001b[0;34m(analog_data_as_counts, analog_channel_scales, analog_scaling_coefficients)\u001b[0m\n\u001b[1;32m    309\u001b[0m \u001b[38;5;66;03m# Apply scaling coefficients (assuming they're cubic polynomial coefficients)\u001b[39;00m\n\u001b[1;32m    310\u001b[0m \u001b[38;5;28;01mif\u001b[39;00m \u001b[38;5;28mlen\u001b[39m(analog_scaling_coefficients\u001b[38;5;241m.\u001b[39mshape) \u001b[38;5;241m>\u001b[39m \u001b[38;5;241m1\u001b[39m:\n\u001b[0;32m--> 311\u001b[0m     coeffs \u001b[38;5;241m=\u001b[39m \u001b[43manalog_scaling_coefficients\u001b[49m\u001b[43m[\u001b[49m\u001b[43mi\u001b[49m\u001b[43m,\u001b[49m\u001b[43m \u001b[49m\u001b[43m:\u001b[49m\u001b[43m]\u001b[49m\n\u001b[1;32m    312\u001b[0m \u001b[38;5;28;01melse\u001b[39;00m:\n\u001b[1;32m    313\u001b[0m     coeffs \u001b[38;5;241m=\u001b[39m analog_scaling_coefficients\n",
      "\u001b[0;31mIndexError\u001b[0m: index 2 is out of bounds for axis 0 with size 2"
     ]
    }
   ],
   "source": [
    "# data = load_data_file(data_file)\n",
    "\n",
    "# # Load with time constraints\n",
    "# data_subset = load_data_file('example_data.h5', \n",
    "#                             format_string='double',\n",
    "#                             t_min=1.0, t_max=5.0)\n",
    "\n",
    "# # Load specific sweeps\n",
    "# data_sweeps = load_data_file('example_data.h5',\n",
    "#                             min_sweep_index=1,\n",
    "#                             max_sweep_index=10)\n",
    "\n",
    "# print(\"Data loaded successfully!\")\n",
    "# print(f\"Available keys: {list(data.keys())}\")\n"
   ]
  },
  {
   "cell_type": "code",
   "execution_count": null,
   "id": "a0b4fd79",
   "metadata": {},
   "outputs": [],
   "source": []
  },
  {
   "cell_type": "code",
   "execution_count": null,
   "id": "2e1b0528",
   "metadata": {},
   "outputs": [],
   "source": []
  },
  {
   "cell_type": "code",
   "execution_count": null,
   "id": "4a84f595",
   "metadata": {},
   "outputs": [],
   "source": []
  },
  {
   "cell_type": "markdown",
   "id": "42ee024f",
   "metadata": {},
   "source": [
    "Now we can load the file and plot the raw data:"
   ]
  },
  {
   "cell_type": "code",
   "execution_count": null,
   "id": "d1f75599",
   "metadata": {},
   "outputs": [],
   "source": [
    "# Load with custom scaling and separate sweeps\n",
    "traces = Trace.from_wavesurfer_h5_file(data_file, \n",
    "                                    # current_scaling=1,  # Convert to nA\n",
    "                                    # voltage_scaling=1,   # Convert to mV\n",
    "                                    concatenate_sweeps=True)\n",
    "\n",
    "traces = traces.resample(sampling_frequency=10000)\n",
    "\n",
    "print(traces)\n",
    "\n",
    "time_units = 's' # specify seconds (s), or milliseconds (ms)\n",
    "\n",
    "# ----------------------------------------------------------------------------------------------------------------\n",
    "%matplotlib inline\n",
    "ax = traces.plot(plot_voltage=True, plot_current=True, time_units=time_units, sweep='all', height_ratios=[1, 5])\n",
    "plt.show()"
   ]
  },
  {
   "cell_type": "markdown",
   "id": "f4493465",
   "metadata": {},
   "source": [
    "## 2. Signal processing"
   ]
  },
  {
   "cell_type": "markdown",
   "id": "d66fc24a",
   "metadata": {},
   "source": [
    "### First let's crop out the data we want to analyze (get rid of the initial portion before the recording starts)"
   ]
  },
  {
   "cell_type": "code",
   "execution_count": null,
   "id": "52933f42",
   "metadata": {},
   "outputs": [],
   "source": [
    "start_time = 120\n",
    "end_time=280\n",
    "traces = traces.crop(timepoint=start_time, timepoint_2=end_time, time_units=time_units)\n",
    "\n",
    "%matplotlib inline\n",
    "ax = traces.plot(plot_voltage=True, plot_current=True, time_units=time_units, sweep='all', height_ratios=[1, 4])\n",
    "plt.show()\n"
   ]
  },
  {
   "cell_type": "markdown",
   "id": "db6f9d70",
   "metadata": {},
   "source": [
    "### 2.1. Optional: apply highpass / lowpass / bandpass filtering\n",
    "\n",
    "Depending in you recording, you may have 50/60 Hz line noise, high-frequency noise, or drift in your recordings.\n",
    "\n",
    "The goal here is to only remove the noise with minimal distortion of the data, so be careful not to overdo it"
   ]
  },
  {
   "cell_type": "code",
   "execution_count": null,
   "id": "8e746064",
   "metadata": {},
   "outputs": [],
   "source": [
    "apply_filtering = True"
   ]
  },
  {
   "cell_type": "markdown",
   "id": "26e0a4bb",
   "metadata": {},
   "source": [
    "You can run this next cell as many times as you want to fine-tune the filtering parameters:"
   ]
  },
  {
   "cell_type": "code",
   "execution_count": null,
   "id": "d9413686",
   "metadata": {},
   "outputs": [],
   "source": [
    "if apply_filtering:\n",
    "    filtered_traces = traces\n",
    "    # Step 1: Detrend the data to remove linear or constant trends (e.g slow drift)\n",
    "    # filtered_traces, trend_dict = filtered_traces.detrend(detrend_type='linear', num_segments=1, return_trend=True)\n",
    "\n",
    "    # # Smooth the trend using a boxcar filter\n",
    "    # window_size = 5000\n",
    "    # trend = trend_dict['voltage_trend']\n",
    "    # trend = np.convolve(trend, np.ones(window_size)/window_size, mode='same')\n",
    "\n",
    "    # Step 2: Lowpass filter (removes high-frequency noise)\n",
    "    filtered_traces = filtered_traces.lowpass_filter(cutoff_freq = 4000, # Choose a value in units of Hz\n",
    "                                                    apply_to_voltage=True)\n",
    "\n",
    "    # Step 3: Bandpass filter (removes 50/60 Hz mainline noise)\n",
    "    filtered_traces = filtered_traces.filter_line_noise(\n",
    "        line_freq = 60, # Frequency (Hz) of noise to remove: 50 Hz (in Europe) or 60 Hz (in the US).\n",
    "        width = 0.5, # Width (Hz) controls the width of frequency bands around the line frequency the filter cuts out.\n",
    "        method = 'notch', # Options: 'notch' (IIR notch filter), 'bandstop' (Butterworth), or 'fft' (spectral).\n",
    "        apply_to_voltage=True)\n",
    "\n",
    "    # # # Step 4: Highpass filter (removes low-frequency oscillations)\n",
    "    # # # ------------------------------------------------------------\n",
    "    # # # # Be extra careful with this next one, it tends to distort the data. Use only in case of emergency.\n",
    "    # # filtered_traces = filtered_traces.highpass_filter(cutoff_freq=0.001)\n",
    "    # # # ------------------------------------------------------------\n",
    "\n",
    "    %matplotlib inline\n",
    "    ax = traces.plot(plot_voltage=True, plot_current=False)\n",
    "    ax.set_title('Raw data', y=0.98)\n",
    "    # ax.plot(traces.time, trend, 'r', linewidth=2)\n",
    "    ax.set_ylim(bottom=-200)\n",
    "    plt.show()\n",
    "\n",
    "    ax = filtered_traces.plot(plot_voltage=True, plot_current=False)\n",
    "    ax.set_title('After filtering', y=0.98)\n",
    "    ax.set_ylim(bottom=-200)\n",
    "    plt.show()\n"
   ]
  },
  {
   "cell_type": "markdown",
   "id": "622b998e",
   "metadata": {},
   "source": [
    "Once you are happy with the filter setting, run the next cell to implement them:"
   ]
  },
  {
   "cell_type": "code",
   "execution_count": null,
   "id": "d4e4c15e",
   "metadata": {},
   "outputs": [],
   "source": [
    "if apply_filtering:\n",
    "    traces=filtered_traces"
   ]
  },
  {
   "cell_type": "markdown",
   "id": "3916653e",
   "metadata": {},
   "source": [
    "### 2.2. Optional: apply baseline correction\n",
    "\n",
    "If your baseline current is not at zero, run the next code blocks to apply a baseline correction."
   ]
  },
  {
   "cell_type": "code",
   "execution_count": null,
   "id": "b24229e5",
   "metadata": {},
   "outputs": [],
   "source": [
    "# Change this to True if you want to subtract the baseline from the sweeps.\n",
    "subtract_baseline = True\n",
    "start_baseline = 0\n",
    "end_baseline = 20"
   ]
  },
  {
   "cell_type": "code",
   "execution_count": null,
   "id": "59fcd3e7",
   "metadata": {},
   "outputs": [],
   "source": [
    "if subtract_baseline:\n",
    "    traces.subtract_baseline(start_time = start_baseline, \n",
    "                             end_time = end_baseline , \n",
    "                             time_units = time_units,  # specify seconds (s), or milliseconds (ms)\n",
    "                             channel = 'voltage')  # Options: 'current', 'voltage', 'all'\n",
    "    %matplotlib inline\n",
    "    ax1, ax2 = traces.plot(plot_voltage=True, plot_ttl=False, time_units=time_units, sweep='all', height_ratios=[1,4])\n",
    "    ax1.set_title('After baseline subtraction', y=0.98)\n",
    "    plt.show()\n",
    "else:\n",
    "    print(\"BASELINE NOT SUBTRACTED\")\n"
   ]
  },
  {
   "cell_type": "markdown",
   "id": "aa743f12",
   "metadata": {},
   "source": [
    "## 3. Measure firing rate to get FI curve"
   ]
  },
  {
   "cell_type": "code",
   "execution_count": null,
   "id": "9e0458e3",
   "metadata": {},
   "outputs": [],
   "source": [
    "spike_results = traces.analyze_action_potentials(min_spike_amplitude=25.0, \n",
    "                                                max_width=25.0, \n",
    "                                                min_ISI=6, \n",
    "                                                headstage=0, \n",
    "                                                sweep=None, # None means all sweeps\n",
    "                                                return_dict=True,\n",
    "                                                time_units='ms')\n",
    "\n",
    "spike_results"
   ]
  },
  {
   "cell_type": "code",
   "execution_count": null,
   "id": "92bad9bb",
   "metadata": {},
   "outputs": [],
   "source": [
    "import numpy as np\n",
    "import matplotlib.pyplot as plt\n",
    "from scipy import integrate\n",
    "\n",
    "def analyze_threshold_events(time_array, voltage_array, threshold, plot=False, xlim=None):\n",
    "    \"\"\"\n",
    "    Analyze events above a threshold in time series data.\n",
    "    \n",
    "    Parameters:\n",
    "    -----------\n",
    "    time_array : numpy.ndarray\n",
    "        Array of time values\n",
    "    voltage_array : numpy.ndarray\n",
    "        Array of voltage/signal values\n",
    "    threshold : float\n",
    "        Threshold value for event detection\n",
    "    plot : bool, optional\n",
    "        If True, creates a plot showing the data and detected events\n",
    "    \n",
    "    Returns:\n",
    "    --------\n",
    "    dict or tuple\n",
    "        If plot=False: Dictionary containing:\n",
    "        - 'num_events': Number of events detected\n",
    "        - 'total_area': Total area of all events above threshold\n",
    "        - 'event_areas': List of individual event areas\n",
    "        - 'event_durations': List of individual event durations\n",
    "        - 'event_start_times': List of event start times\n",
    "        - 'event_end_times': List of event end times\n",
    "        - 'event_start_indices': List of event start indices\n",
    "        - 'event_end_indices': List of event end indices\n",
    "        \n",
    "        If plot=True: Tuple of (results_dict, matplotlib_axis_object)\n",
    "    \"\"\"\n",
    "    \n",
    "    # Find points above threshold\n",
    "    above_threshold = voltage_array > threshold\n",
    "    \n",
    "    # Find crossing points (transitions)\n",
    "    crossings = np.diff(above_threshold.astype(int))\n",
    "    \n",
    "    # Find start and end indices of events\n",
    "    start_indices = np.where(crossings == 1)[0] + 1  # +1 because diff shifts indices\n",
    "    end_indices = np.where(crossings == -1)[0] + 1\n",
    "    \n",
    "    # Handle edge cases\n",
    "    # If data starts above threshold\n",
    "    if above_threshold[0]:\n",
    "        start_indices = np.concatenate([[0], start_indices])\n",
    "    \n",
    "    # If data ends above threshold\n",
    "    if above_threshold[-1]:\n",
    "        end_indices = np.concatenate([end_indices, [len(voltage_array) - 1]])\n",
    "    \n",
    "    # Ensure we have matching start and end indices\n",
    "    min_length = min(len(start_indices), len(end_indices))\n",
    "    start_indices = start_indices[:min_length]\n",
    "    end_indices = end_indices[:min_length]\n",
    "    \n",
    "    num_events = len(start_indices)\n",
    "    event_areas = []\n",
    "    event_durations = []\n",
    "    event_start_times = []\n",
    "    event_end_times = []\n",
    "    \n",
    "    # Calculate area and duration for each event\n",
    "    for start_idx, end_idx in zip(start_indices, end_indices):\n",
    "        # Extract event data\n",
    "        event_time = time_array[start_idx:end_idx + 1]\n",
    "        event_voltage = voltage_array[start_idx:end_idx + 1]\n",
    "        \n",
    "        # Calculate area above threshold using trapezoidal integration\n",
    "        area_above_threshold = integrate.trapz(event_voltage - threshold, event_time)\n",
    "        event_areas.append(area_above_threshold)\n",
    "        \n",
    "        # Calculate duration\n",
    "        duration = event_time[-1] - event_time[0]\n",
    "        event_durations.append(duration)\n",
    "        \n",
    "        # Store start and end times\n",
    "        event_start_times.append(event_time[0])\n",
    "        event_end_times.append(event_time[-1])\n",
    "    \n",
    "    total_area = sum(event_areas)\n",
    "    \n",
    "    # Create plot if requested\n",
    "    ax = None\n",
    "    if plot:\n",
    "        fig, ax = plt.subplots(figsize=(12, 6))\n",
    "        ax.plot(time_array, voltage_array, 'b-', linewidth=1, label='Signal')\n",
    "        ax.axhline(y=threshold, color='r', linestyle='--', linewidth=2, label=f'Threshold = {threshold}')\n",
    "        \n",
    "        # Highlight events\n",
    "        for i, (start_idx, end_idx) in enumerate(zip(start_indices, end_indices)):\n",
    "            event_time = time_array[start_idx:end_idx + 1]\n",
    "            event_voltage = voltage_array[start_idx:end_idx + 1]\n",
    "            ax.fill_between(event_time, threshold, event_voltage, \n",
    "                           alpha=0.3, color='green', \n",
    "                           label='Events' if i == 0 else \"\")\n",
    "        \n",
    "        ax.set_xlabel('Time (s)')\n",
    "        ax.set_ylabel('Voltage (mV)')\n",
    "        ax.set_title(f'Event Detection - {num_events} events found')\n",
    "        ax.legend()\n",
    "        ax.grid(True, alpha=0.3)\n",
    "        if xlim is not None:\n",
    "            ax.set_xlim(xlim)\n",
    "    \n",
    "    results = {\n",
    "        'num_events': num_events,\n",
    "        'total_area': total_area,\n",
    "        'event_areas': event_areas,\n",
    "        'event_durations': event_durations,\n",
    "        'event_start_times': event_start_times,\n",
    "        'event_end_times': event_end_times,\n",
    "        'event_start_indices': start_indices.tolist(),\n",
    "        'event_end_indices': end_indices.tolist()\n",
    "    }\n",
    "    \n",
    "    if plot:\n",
    "        return results, ax\n",
    "    else:\n",
    "        return results\n",
    "\n",
    "\n",
    "\n",
    "\n",
    "%matplotlib inline\n",
    "threshold = 20\n",
    "results, ax = analyze_threshold_events(traces.time, traces.voltage_data, threshold=threshold, plot=True, xlim=(50,55))\n",
    "\n",
    "print(f\"Number of events: {results['num_events']}\")\n",
    "print(f\"Total area above threshold: {results['total_area']:.2f}\")\n",
    "print(f\"Individual event areas: {[f'{area:.2f}' for area in results['event_areas']]}\")\n",
    "print(f\"Event durations: {[f'{dur:.3f}' for dur in results['event_durations']]}\")"
   ]
  },
  {
   "cell_type": "code",
   "execution_count": null,
   "id": "5e57f184",
   "metadata": {},
   "outputs": [],
   "source": [
    "event_durations = np.array(results['event_durations'])*1000\n",
    "fig, ax = plt.subplots(1,2, figsize=(12, 4))\n",
    "ax[0].hist(event_durations, bins=60, color='forestgreen', edgecolor='white')\n",
    "ax[0].set_xlabel('Event duration (ms)')\n",
    "ax[0].set_ylabel('Count')\n",
    "# ax[0].set_yscale('log')\n",
    "ax[0].set_title('Distribution of event durations')\n",
    "\n",
    "ax[1].hist(results['event_areas'], bins=100, color='forestgreen', edgecolor='white')\n",
    "ax[1].set_xlabel('Event area (pA*s)')\n",
    "ax[1].set_ylabel('Count')\n",
    "ax[1].set_xlim(0, 16)\n",
    "# ax[1].set_yscale('log')\n",
    "ax[1].set_title('Distribution of event areas')\n",
    "plt.show()"
   ]
  },
  {
   "cell_type": "code",
   "execution_count": null,
   "id": "c5bcf51d",
   "metadata": {},
   "outputs": [],
   "source": [
    "fig, ax = plt.subplots(1, 1, figsize=(6, 4))\n",
    "ax.hist(traces.voltage_data, bins=100, color='forestgreen', alpha=0.7)\n",
    "ax.set_xlabel('Voltage (mV)')\n",
    "ax.set_ylabel('Count')\n",
    "ax.set_title('Voltage Distribution')\n",
    "plt.show()"
   ]
  },
  {
   "cell_type": "code",
   "execution_count": null,
   "id": "71bec28b",
   "metadata": {},
   "outputs": [],
   "source": [
    "spike_times = spike_results['spike_times'] / 1000\n",
    "y_axis_range = (-0, 100)\n",
    "\n",
    "%matplotlib inline\n",
    "ax = traces.plot(plot_voltage=True, plot_current=False)\n",
    "ax.set_ylim(y_axis_range)\n",
    "ax.set_xlim(220, 222)\n",
    "plt.show()\n",
    "\n",
    "# ax.scatter(spike_times, np.ones(len(spike_times))*-15, marker='o', color='r', s=10, zorder=10)\n",
    "# ax.vlines(spike_times, 10, 100, color='r', linewidth=0.5)\n",
    "\n",
    "ax.set_ylim(y_axis_range)\n",
    "ax.set_xlim(220, 222)\n",
    "# ax.set_xlim(149, 150)\n",
    "plt.show()"
   ]
  },
  {
   "cell_type": "code",
   "execution_count": null,
   "id": "093fb87d",
   "metadata": {},
   "outputs": [],
   "source": [
    "%matplotlib inline\n",
    "plot_spike_histograms(spike_results)"
   ]
  },
  {
   "cell_type": "code",
   "execution_count": null,
   "id": "74433bbb",
   "metadata": {},
   "outputs": [],
   "source": []
  },
  {
   "cell_type": "code",
   "execution_count": null,
   "id": "7e095d88",
   "metadata": {},
   "outputs": [],
   "source": [
    "duration = traces.total_time\n",
    "sampling_rate = traces.sampling_rate\n",
    "time, firing_rate = fast_firing_rate(spike_times, duration, sampling_rate, sigma_ms=sampling_rate/10)\n",
    "\n",
    "%matplotlib inline\n",
    "fig, ax = plt.subplots(1, 1, figsize=(10, 3))\n",
    "ax.plot(time,firing_rate, color='k')\n",
    "ax.set_xlabel('Time (s)')\n",
    "ax.set_ylabel('Firing rate (Hz)')\n",
    "plt.show()"
   ]
  },
  {
   "cell_type": "code",
   "execution_count": null,
   "id": "5b917496",
   "metadata": {},
   "outputs": [],
   "source": []
  },
  {
   "cell_type": "code",
   "execution_count": null,
   "id": "3630192f",
   "metadata": {},
   "outputs": [],
   "source": []
  },
  {
   "cell_type": "code",
   "execution_count": null,
   "id": "840a5088",
   "metadata": {},
   "outputs": [],
   "source": []
  }
 ],
 "metadata": {
  "kernelspec": {
   "display_name": "CSHL_IonChannels",
   "language": "python",
   "name": "python3"
  },
  "language_info": {
   "codemirror_mode": {
    "name": "ipython",
    "version": 3
   },
   "file_extension": ".py",
   "mimetype": "text/x-python",
   "name": "python",
   "nbconvert_exporter": "python",
   "pygments_lexer": "ipython3",
   "version": "3.11.13"
  }
 },
 "nbformat": 4,
 "nbformat_minor": 5
}
