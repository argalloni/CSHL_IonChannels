{
 "cells": [
  {
   "cell_type": "markdown",
   "id": "29c8dae6",
   "metadata": {},
   "source": [
    "# In vivo recordings"
   ]
  },
  {
   "cell_type": "markdown",
   "id": "e0256143",
   "metadata": {},
   "source": [
    "#### **Basic instructions:**\n",
    "#### 1. **To run code windows/blocks:** \n",
    "\n",
    "    - you can either hit the play button to the left of the code window \n",
    "\n",
    "    - or you can use they keyboard shortcut: select the block and press 'shift-enter'.\n",
    "\n",
    "#### 2. **The first time** you run this code notebook, you might get a popup asking to choose which version of Python to use (the python \"kernel\"). **Just hit enter** to choose the base/default version.\n",
    "\n",
    "#### 3. Make sure you data (.abf) files are in the \"data\" folder here on the left. You can just copy/paste the files from where they are saved on your computer."
   ]
  },
  {
   "cell_type": "code",
   "execution_count": 8,
   "id": "10f2db92",
   "metadata": {},
   "outputs": [
    {
     "name": "stdout",
     "output_type": "stream",
     "text": [
      "The autoreload extension is already loaded. To reload it, use:\n",
      "  %reload_ext autoreload\n"
     ]
    }
   ],
   "source": [
    "import numpy as np\n",
    "import matplotlib.pyplot as plt\n",
    "from utils import *\n",
    "update_plot_defaults()\n",
    "%load_ext autoreload\n",
    "%autoreload 2"
   ]
  },
  {
   "cell_type": "markdown",
   "id": "c1b0d022",
   "metadata": {},
   "source": [
    "## 1. Choose the data file you want to analyze\n",
    "\n",
    "#### Put the .abf files with your Ih recordings in the \"data/Dendrites\" folder"
   ]
  },
  {
   "cell_type": "code",
   "execution_count": 9,
   "id": "f083e873",
   "metadata": {},
   "outputs": [
    {
     "name": "stdout",
     "output_type": "stream",
     "text": [
      "Folders:\n",
      "Files:\n"
     ]
    },
    {
     "data": {
      "text/plain": [
       "['data/13-In_vivo/eric_mp10_2025-06-18_0001.h5',\n",
       " 'data/13-In_vivo/shannon_MP2_2025-06-17_0001.h5']"
      ]
     },
     "execution_count": 9,
     "metadata": {},
     "output_type": "execute_result"
    }
   ],
   "source": [
    "data_folder = \"data/13-In_vivo\"\n",
    "\n",
    "import os\n",
    "print(\"Folders:\")\n",
    "for subdir in os.listdir(data_folder):\n",
    "    if os.path.isdir(data_folder + \"/\" + subdir):\n",
    "        print(f\"'{data_folder}/{subdir}'\")\n",
    "\n",
    "from glob import glob\n",
    "print(\"Files:\")\n",
    "data_files = glob(data_folder+\"/*.h5\")\n",
    "data_files.sort()\n",
    "data_files"
   ]
  },
  {
   "cell_type": "markdown",
   "id": "7be75c90",
   "metadata": {},
   "source": [
    "Choose which file you want to analyze (copy name from above) and paste the file name here:"
   ]
  },
  {
   "cell_type": "code",
   "execution_count": 10,
   "id": "ee91c014",
   "metadata": {},
   "outputs": [],
   "source": [
    "data_file = 'data/13-In_vivo/shannon_MP2_2025-06-17_0001.h5'\n",
    "# data_file = 'data/13-In_vivo/eric_mp10_2025-06-18_0001.h5'"
   ]
  },
  {
   "cell_type": "markdown",
   "id": "42ee024f",
   "metadata": {},
   "source": [
    "Now we can load the file and plot the raw data:"
   ]
  },
  {
   "cell_type": "code",
   "execution_count": 11,
   "id": "d1f75599",
   "metadata": {},
   "outputs": [
    {
     "name": "stdout",
     "output_type": "stream",
     "text": [
      "Trace('shannon_MP2_2025-06-17_0001.h5')\n",
      "========================================\n",
      "Number of sweeps: 1\n",
      "Points per sweep: 16,509,829\n",
      "Duration per sweep: 825.491 s\n",
      "Sampling rate: 20000 Hz\n",
      "Sampling interval: 0.050 ms\n",
      "Available channels: Current, Voltage\n"
     ]
    },
    {
     "data": {
      "image/png": "[encoded data removed]",
      "text/plain": [
       "<Figure size 1000x400 with 1 Axes>"
      ]
     },
     "metadata": {},
     "output_type": "display_data"
    }
   ],
   "source": [
    "# Load with custom scaling and separate sweeps\n",
    "traces = Trace.from_wavesurfer_h5_file(data_file, \n",
    "                                    current_scaling=1e-9,  # Convert to nA\n",
    "                                    voltage_scaling=1e-3,   # Convert to mV\n",
    "                                    concatenate_sweeps=False)\n",
    "print(traces)\n",
    "\n",
    "time_units = 's' # specify seconds (s), or milliseconds (ms)\n",
    "\n",
    "# ----------------------------------------------------------------------------------------------------------------\n",
    "ax = traces.plot(plot_voltage=True, plot_current=False, time_units=time_units, sweep='all')\n",
    "plt.show()"
   ]
  },
  {
   "cell_type": "markdown",
   "id": "f4493465",
   "metadata": {},
   "source": [
    "## 2. Signal processing"
   ]
  },
  {
   "cell_type": "markdown",
   "id": "db6f9d70",
   "metadata": {},
   "source": [
    "### 2.1. Optional: apply highpass / lowpass / bandpass filtering\n",
    "\n",
    "Depending in you recording, you may have 50/60 Hz line noise, high-frequency noise, or drift in your recordings.\n",
    "\n",
    "The goal here is to only remove the noise with minimal distortion of the data, so be careful not to overdo it"
   ]
  },
  {
   "cell_type": "code",
   "execution_count": 12,
   "id": "8e746064",
   "metadata": {},
   "outputs": [],
   "source": [
    "apply_filtering = True"
   ]
  },
  {
   "cell_type": "markdown",
   "id": "26e0a4bb",
   "metadata": {},
   "source": [
    "You can run this next cell as many times as you want to fine-tune the filtering parameters:"
   ]
  },
  {
   "cell_type": "code",
   "execution_count": null,
   "id": "b8973a24",
   "metadata": {},
   "outputs": [],
   "source": [
    "window_size_ms = 1800\n",
    "corrected_median, baseline_median = baseline_correction(traces.voltage_data, traces.sampling_rate, method='median_subtraction', window_ms=window_size_ms)\n",
    "\n",
    "fig, ax = plt.subplots(figsize=(10, 6))\n",
    "plt.plot(baseline_median)\n",
    "plt.show()\n",
    "\n"
   ]
  },
  {
   "cell_type": "code",
   "execution_count": null,
   "id": "1ec60add",
   "metadata": {},
   "outputs": [],
   "source": []
  },
  {
   "cell_type": "code",
   "execution_count": null,
   "id": "d9413686",
   "metadata": {},
   "outputs": [
    {
     "data": {
      "image/png": "[encoded data removed]",
      "text/plain": [
       "<Figure size 1000x400 with 1 Axes>"
      ]
     },
     "metadata": {},
     "output_type": "display_data"
    },
    {
     "data": {
      "image/png": "[encoded data removed]",
      "text/plain": [
       "<Figure size 1000x400 with 1 Axes>"
      ]
     },
     "metadata": {},
     "output_type": "display_data"
    }
   ],
   "source": [
    "if apply_filtering:\n",
    "    filtered_traces = traces\n",
    "    # Step 1: Detrend the data to remove linear or constant trends (e.g slow drift)\n",
    "    filtered_traces = filtered_traces.detrend(detrend_type='linear', num_segments=1)\n",
    "\n",
    "    # Step 2: Lowpass filter (removes high-frequency noise)\n",
    "    filtered_traces = filtered_traces.lowpass_filter(cutoff_freq = 2000, # Choose a value in units of Hz\n",
    "                                                     apply_to_voltage=True)\n",
    "    \n",
    "    # Step 3: Bandpass filter (removes 50/60 Hz mainline noise)\n",
    "    filtered_traces = filtered_traces.filter_line_noise(\n",
    "        line_freq = 60, # Frequency (Hz) of noise to remove: 50 Hz (in Europe) or 60 Hz (in the US).\n",
    "        width = 0.5, # Width (Hz) controls the width of frequency bands around the line frequency the filter cuts out.\n",
    "        method = 'notch', # Options: 'notch' (IIR notch filter), 'bandstop' (Butterworth), or 'fft' (spectral).\n",
    "        apply_to_voltage=True)\n",
    "    \n",
    "    # # Step 4: Highpass filter (removes low-frequency oscillations)\n",
    "    # # ------------------------------------------------------------\n",
    "    # # # Be extra careful with this next one, it tends to distort the data. Use only in case of emergency.\n",
    "    # filtered_traces = filtered_traces.highpass_filter(cutoff_freq=0.001)\n",
    "    # # ------------------------------------------------------------\n",
    "\n",
    "    %matplotlib inline\n",
    "    ax = traces.plot(plot_voltage=True, plot_current=False)\n",
    "    ax.set_title('Raw data', y=0.98)\n",
    "    plt.show()\n",
    "\n",
    "    ax = filtered_traces.plot(plot_voltage=True, plot_current=False)\n",
    "    ax.set_title('After filtering', y=0.98)\n",
    "    plt.show()\n"
   ]
  },
  {
   "cell_type": "markdown",
   "id": "622b998e",
   "metadata": {},
   "source": [
    "Once you are happy with the filter setting, run the next cell to implement them:"
   ]
  },
  {
   "cell_type": "code",
   "execution_count": null,
   "id": "d4e4c15e",
   "metadata": {},
   "outputs": [],
   "source": [
    "if apply_filtering:\n",
    "    traces=filtered_traces"
   ]
  },
  {
   "cell_type": "markdown",
   "id": "3916653e",
   "metadata": {},
   "source": [
    "### 2.2. Optional: apply baseline correction\n",
    "\n",
    "If your baseline current is not at zero, run the next code blocks to apply a baseline correction."
   ]
  },
  {
   "cell_type": "code",
   "execution_count": null,
   "id": "b24229e5",
   "metadata": {},
   "outputs": [],
   "source": [
    "# Change this to True if you want to subtract the baseline from the sweeps.\n",
    "subtract_baseline = True\n",
    "start_baseline = 100\n",
    "end_baseline = 230"
   ]
  },
  {
   "cell_type": "code",
   "execution_count": null,
   "id": "59fcd3e7",
   "metadata": {},
   "outputs": [],
   "source": [
    "if subtract_baseline:\n",
    "    traces.subtract_baseline(start_time = start_baseline, \n",
    "                             end_time = end_baseline , \n",
    "                             time_units = time_units,  # specify seconds (s), or milliseconds (ms)\n",
    "                             channel = 'voltage')  # Options: 'current', 'voltage', 'all'\n",
    "    %matplotlib inline\n",
    "    ax1, ax2 = traces.plot(plot_voltage=True, plot_ttl=False, time_units=time_units, sweep='all', height_ratios=[1,4])\n",
    "    ax1.set_title('After baseline subtraction', y=0.98)\n",
    "    plt.show()\n",
    "else:\n",
    "    print(\"BASELINE NOT SUBTRACTED\")\n"
   ]
  },
  {
   "cell_type": "code",
   "execution_count": null,
   "id": "72af9af9",
   "metadata": {},
   "outputs": [],
   "source": []
  },
  {
   "cell_type": "code",
   "execution_count": null,
   "id": "678fad4a",
   "metadata": {},
   "outputs": [],
   "source": []
  },
  {
   "cell_type": "code",
   "execution_count": null,
   "id": "6bf4ef5c",
   "metadata": {},
   "outputs": [],
   "source": []
  },
  {
   "cell_type": "code",
   "execution_count": null,
   "id": "4f5ec04c",
   "metadata": {},
   "outputs": [],
   "source": []
  },
  {
   "cell_type": "code",
   "execution_count": null,
   "id": "4ca75341",
   "metadata": {},
   "outputs": [],
   "source": []
  },
  {
   "cell_type": "code",
   "execution_count": null,
   "id": "0f318c59",
   "metadata": {},
   "outputs": [],
   "source": []
  },
  {
   "cell_type": "markdown",
   "id": "f9f68842",
   "metadata": {},
   "source": [
    "## 2. Measure Sag potential (caused by $I_{H}$ current)"
   ]
  },
  {
   "cell_type": "markdown",
   "id": "f37defbf",
   "metadata": {},
   "source": [
    "### 2.1. Define the time window for the peak measurement\n",
    "\n",
    "First we need to measure the peak voltage of the sag potential."
   ]
  },
  {
   "cell_type": "code",
   "execution_count": null,
   "id": "a53b0c96",
   "metadata": {},
   "outputs": [],
   "source": [
    "# 1. Get the time of the negative current step\n",
    "holding_current = traces.current_data[0,0]\n",
    "step_start = traces.get_step_events(threshold=holding_current-5, channel='current', edge='rising', polarity='negative', time_units=time_units, sweep=0)\n",
    "step_end = traces.get_step_events(threshold=holding_current-5, channel='current', edge='falling', polarity='negative', time_units=time_units, sweep=0)\n",
    "\n",
    "step_start = step_start[0]\n",
    "step_end = step_end[0]\n",
    "print(\"Double check that these numbers look correct:\")\n",
    "print(f\"Step start: {step_start} {time_units}\")\n",
    "print(f\"Step end: {step_end} {time_units}\")"
   ]
  },
  {
   "cell_type": "markdown",
   "id": "6a505546",
   "metadata": {},
   "source": [
    "#### The markers here will define where we will measure the steady-state potential:"
   ]
  },
  {
   "cell_type": "code",
   "execution_count": null,
   "id": "3e8de071",
   "metadata": {},
   "outputs": [],
   "source": [
    "# The markers are important: the will define the window where we actually exctract peak current values from. Set them carefully.\n",
    "marker_1 = step_end - 50\n",
    "marker_2 = step_end - 2\n",
    "sweeps_to_plot = [0,9] # Enter the range\n",
    "\n",
    "# ----------------------------------------------------------------------------------------------------------------------\n",
    "%matplotlib inline\n",
    "ax1,ax2 = traces.plot(plot_voltage=True, time_units=time_units, marker_1=marker_1, marker_2=marker_2, sweep=sweeps_to_plot, height_ratios=[1,4])\n",
    "ax1.set_xlim(step_start-10,step_end+10)\n",
    "ax2.set_xlim(step_start-10,step_end+10)\n",
    "plt.show()"
   ]
  },
  {
   "cell_type": "markdown",
   "id": "18e33711",
   "metadata": {},
   "source": [
    "#### Now we can measure the peak Sag and steady-state for each sweep"
   ]
  },
  {
   "cell_type": "code",
   "execution_count": null,
   "id": "5b94a00b",
   "metadata": {},
   "outputs": [],
   "source": [
    "# 1. Measure the Sag peak\n",
    "measurement_type = 'peak' # Options: 'mean', 'max', 'min', 'peak'\n",
    "\n",
    "_, peak_voltage = traces.get_measurements(start_time=step_start+5, end_time=step_end-5,\n",
    "                                                    measurement_type=measurement_type, time_units=time_units)\n",
    "if np.all(peak_voltage == peak_voltage[0]):\n",
    "    print(\"WARNING: All voltage steps are the same\")\n",
    "\n",
    "# 2. Measure the steady state voltage\n",
    "measurement_type = 'mean' # Options: 'mean', 'max', 'min', 'peak'\n",
    "\n",
    "current_steps, ss_voltage = traces.get_measurements(start_time=marker_1, end_time=marker_2,\n",
    "                                                    measurement_type=measurement_type, time_units=time_units)\n",
    "if np.all(ss_voltage == ss_voltage[0]):\n",
    "    print(\"WARNING: All voltage steps are the same\")\n",
    "if np.all(current_steps == current_steps[0]):\n",
    "    print(\"WARNING: All current steps are the same\")\n",
    "\n",
    "# %matplotlib inline\n",
    "# sweep_idx = range(0,9)\n",
    "# current_steps = current_steps[sweep_idx]\n",
    "# voltage_steps = voltage_steps[sweep_idx]\n",
    "# ax = plot_IV(voltage_steps, current_steps)# ,xlabel_coords=(0.95,0.25),ylabel_coords=(0.35,0.6))\n",
    "# ax.set_title(f'Sag peak voltage vs current step')\n",
    "# plt.show()"
   ]
  },
  {
   "cell_type": "code",
   "execution_count": null,
   "id": "72f8c117",
   "metadata": {},
   "outputs": [],
   "source": [
    "sag_size = np.abs(peak_voltage - ss_voltage)\n",
    "sweeps_to_plot = range(1, 9)\n",
    "\n",
    "sag_size = sag_size[sweeps_to_plot]\n",
    "x_axis = current_steps[sweeps_to_plot]\n",
    "\n",
    "fig, ax = plt.subplots(figsize=(8, 3))\n",
    "ax.plot(x_axis, sag_size, marker='o', color='black')\n",
    "ax.set_xlabel(f'Current step ({traces.current_unit})')\n",
    "ax.set_ylabel(f\"Sag size ({traces.voltage_unit})\")\n",
    "ax.set_title(f\"Sag amplitude\")\n",
    "plt.show()\n"
   ]
  },
  {
   "cell_type": "code",
   "execution_count": null,
   "id": "8f853c46",
   "metadata": {},
   "outputs": [],
   "source": [
    "sag_size = np.abs(peak_voltage - ss_voltage) / np.abs(ss_voltage)\n",
    "sag_size = sag_size[sweeps_to_plot]\n",
    "\n",
    "fig, ax = plt.subplots(figsize=(8, 3))\n",
    "ax.plot(x_axis, sag_size, marker='o', color='black')\n",
    "ax.axhline(1, color='grey', linestyle='--')  # y=0 across entire x-range\n",
    "ax.set_xlabel(f'Current step ({traces.current_unit})')\n",
    "ax.set_ylabel(f\"Sag ratio \\n(Sag ampl. / SS)\")\n",
    "ax.set_ylim(bottom=0)\n",
    "plt.show()\n"
   ]
  },
  {
   "cell_type": "markdown",
   "id": "aa743f12",
   "metadata": {},
   "source": [
    "## 3. Measure firing rate to get FI curve"
   ]
  },
  {
   "cell_type": "code",
   "execution_count": null,
   "id": "7716bef8",
   "metadata": {},
   "outputs": [],
   "source": [
    "traces_during_stim = traces.crop(timepoint=step_start, timepoint_2=step_end, time_units=time_units)\n",
    "spike_times, spike_properties = traces_during_stim.detect_spikes(threshold=0, time_units=time_units, return_properties=True, plot=True)\n",
    "\n",
    "spike_counts = spike_properties['spike_counts']\n",
    "\n",
    "fig, ax = plt.subplots(figsize=(8, 3))\n",
    "ax.plot(current_steps, spike_counts, '-o', color='black')\n",
    "ax.set_xlabel(f'Current step ({traces.current_unit})')\n",
    "ax.set_ylabel('Spike count')\n",
    "# ax.set_ylim(bottom=-1)\n",
    "plt.show()\n",
    "\n",
    "total_time_s = traces_during_stim.total_time\n",
    "firing_rate = spike_counts / total_time_s\n",
    "fig, ax = plt.subplots(figsize=(8, 3))\n",
    "ax.plot(current_steps, firing_rate, '-o', color='black')\n",
    "ax.set_xlabel(f'Current step ({traces.current_unit})')\n",
    "ax.set_ylabel('Firing rate (Hz)')\n",
    "# ax.set_ylim(bottom=-2)\n",
    "plt.show()\n"
   ]
  },
  {
   "cell_type": "code",
   "execution_count": null,
   "id": "b45b0cd7",
   "metadata": {},
   "outputs": [],
   "source": [
    "spike_max_height = spike_properties['heights']\n",
    "\n",
    "fig, ax = plt.subplots(1, 1, figsize=(8, 4))\n",
    "ax.hist(spike_max_height, bins=20, color='lightblue')\n",
    "ax.set_xlabel('Spike height (mV)')\n",
    "ax.set_ylabel('Count')\n",
    "ax.set_title('Spike height distribution')\n",
    "ax.axvline(np.mean(spike_max_height), color='r', linestyle='--')\n",
    "ax.annotate('Avg. spike peak height: {:.2f} mV'.format(np.mean(spike_max_height)), xy=(0.02, 0.9), xycoords='axes fraction')\n",
    "plt.show()"
   ]
  },
  {
   "cell_type": "code",
   "execution_count": null,
   "id": "840a5088",
   "metadata": {},
   "outputs": [],
   "source": []
  }
 ],
 "metadata": {
  "kernelspec": {
   "display_name": "CSHL_IonChannels",
   "language": "python",
   "name": "python3"
  },
  "language_info": {
   "codemirror_mode": {
    "name": "ipython",
    "version": 3
   },
   "file_extension": ".py",
   "mimetype": "text/x-python",
   "name": "python",
   "nbconvert_exporter": "python",
   "pygments_lexer": "ipython3",
   "version": "3.11.13"
  }
 },
 "nbformat": 4,
 "nbformat_minor": 5
}
